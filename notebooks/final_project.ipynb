{
 "cells": [
  {
   "cell_type": "markdown",
   "metadata": {},
   "source": [
    "# Final Project 2025 \n",
    "\n",
    "I created a Django application that stores a users login information as well as adds to a database when a user is registered. My application also allows for a super user to add, edit, and delete stoves which a python script renders on my forms page in a table.\n",
    "\n"
   ]
  },
  {
   "cell_type": "markdown",
   "metadata": {},
   "source": [
    "### ER Diagram \n",
    "\n",
    "<img src=\"media/ERDiagram.jpg\" alt=\"ER Diagram\">\n",
    "\n",
    "#### What I changed:\n",
    "- I added more enumerations, as manny items in stoves (like climate and use) needed to be limited to specific options to make querying the database easier\n",
    "- I used Djangos automated model for users and added an extra permission tag for users based on the fact if they were admin and what page they could view\n",
    "- Instead of unique, I used UUID which was a Unique ID field that pretty much put a bundch of different characters and symbols as the id\n",
    "- I used more Django relavent data types \n",
    "\n",
    "#### What I would change now\n",
    "- I would have left out the UUID and just done an auto increment ID\n"
   ]
  },
  {
   "cell_type": "markdown",
   "metadata": {},
   "source": [
    "### My \"SQL\" Script\n",
    "\n",
    "Because I used django my 'sql' script was actually python in a file called [models.py](https://github.com/1bMedina/ucca/blob/main/final_project/ucca_web/models.py) which is linked. Even though it is python, it does the same thing. Within my settings.py of my application, i connected our schools database so when i migrated my models.py it would create tables there. \n",
    "\n",
    "This is what the tables look like in our server: <img src=\"media/server.png\" alt=\"server\">\n",
    "\n",
    "<img src=\"media/stove_server.png\" alt=\"stove server\">\n",
    "\n",
    "this image is of stoves i created in the sites admin page that was automatically added to the database\n"
   ]
  },
  {
   "cell_type": "markdown",
   "metadata": {},
   "source": [
    "### Python Scripyt That Extracts From The Database"
   ]
  },
  {
   "cell_type": "code",
   "execution_count": null,
   "metadata": {
    "vscode": {
     "languageId": "django-html"
    }
   },
   "outputs": [],
   "source": [
    "def form(request):\n",
    "    all_stoves = Stoves.objects.all\n",
    "\n",
    "    return render(request, 'ucca_web/form.html', {'all_stoves': all_stoves})"
   ]
  },
  {
   "cell_type": "markdown",
   "metadata": {},
   "source": [
    "This code creates a function called form that takes an HTTP request as an argument. This means the function will be called when the user maps to it. Stoves.objects.all is an ORM query to recieve all rows from the stoves model. Then, it returns an HTML template (form.html) with the data. The last part passes the all_stoves queryset to the template under the name all_stoves."
   ]
  },
  {
   "cell_type": "code",
   "execution_count": null,
   "metadata": {
    "vscode": {
     "languageId": "django-html"
    }
   },
   "outputs": [],
   "source": [
    " <table class=\"container table table-striped table-hover\">\n",
    "  <thead>\n",
    "    <tr>\n",
    "\n",
    "      <th scope=\"col\">URL</th>\n",
    "      <th scope=\"col\">Experience</th>\n",
    "      <th scope=\"col\">Location</th>\n",
    "        <th scope=\"col\">Use</th>\n",
    "    </tr>\n",
    "  </thead>\n",
    "  <tbody>\n",
    "        {% for obj in all_stoves %}\n",
    "    <tr>\n",
    "      <td>{{ obj.stove_url}}</td>\n",
    "      <td>{{ obj.experience }}</td>\n",
    "      <td>{{ obj.stove_location }}</td>\n",
    "      <td>{{ obj.use }}</td>\n",
    "    </tr>\n",
    " {% endfor %}\n",
    "  </tbody>\n",
    "</table>"
   ]
  },
  {
   "cell_type": "markdown",
   "metadata": {},
   "source": [
    "- The first section of the table renders a header to the table which explains what each column will contain.\n",
    "- The second part interates through all_stoves and assigns each value to obj.\n",
    "- Then you assign each \"header\" a value.\n",
    "- This will all be added to and immediatly updated anytime a new stove is added within the admin page."
   ]
  },
  {
   "cell_type": "markdown",
   "metadata": {},
   "source": [
    "### Excel \n",
    "\n",
    "- A link to my excel: [here](https://apsva-my.sharepoint.com/:x:/r/personal/1017543_apsva_us/Documents/output.xlsx?d=w925ee36875094788b4017f3ef612212d&csf=1&web=1&e=8C4FXc)"
   ]
  }
 ],
 "metadata": {
  "language_info": {
   "name": "python"
  }
 },
 "nbformat": 4,
 "nbformat_minor": 2
}
