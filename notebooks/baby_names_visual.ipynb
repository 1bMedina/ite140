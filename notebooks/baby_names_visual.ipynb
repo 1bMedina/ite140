{
 "cells": [
  {
   "cell_type": "code",
   "execution_count": 9,
   "metadata": {},
   "outputs": [],
   "source": [
    "import seaborn as sns"
   ]
  },
  {
   "cell_type": "code",
   "execution_count": 10,
   "metadata": {},
   "outputs": [],
   "source": [
    "%run bn.ipynb"
   ]
  },
  {
   "cell_type": "code",
   "execution_count": 26,
   "metadata": {},
   "outputs": [
    {
     "data": {
      "text/html": [
       "<div>\n",
       "<style scoped>\n",
       "    .dataframe tbody tr th:only-of-type {\n",
       "        vertical-align: middle;\n",
       "    }\n",
       "\n",
       "    .dataframe tbody tr th {\n",
       "        vertical-align: top;\n",
       "    }\n",
       "\n",
       "    .dataframe thead th {\n",
       "        text-align: right;\n",
       "    }\n",
       "</style>\n",
       "<table border=\"1\" class=\"dataframe\">\n",
       "  <thead>\n",
       "    <tr style=\"text-align: right;\">\n",
       "      <th></th>\n",
       "      <th></th>\n",
       "      <th>Gender</th>\n",
       "      <th>Ethnicity</th>\n",
       "      <th>Count</th>\n",
       "      <th>Rank</th>\n",
       "      <th>My_Rank</th>\n",
       "    </tr>\n",
       "    <tr>\n",
       "      <th>YOB</th>\n",
       "      <th>Name</th>\n",
       "      <th></th>\n",
       "      <th></th>\n",
       "      <th></th>\n",
       "      <th></th>\n",
       "      <th></th>\n",
       "    </tr>\n",
       "  </thead>\n",
       "  <tbody>\n",
       "    <tr>\n",
       "      <th rowspan=\"5\" valign=\"top\">2011</th>\n",
       "      <th>AALIYAH</th>\n",
       "      <td>FEMALEFEMALEFEMALEFEMALEFEMALEFEMALEFEMALEFEMA...</td>\n",
       "      <td>BLACK NON HISPANICHISPANICBLACK NON HISPANICHI...</td>\n",
       "      <td>924</td>\n",
       "      <td>245</td>\n",
       "      <td>43.5</td>\n",
       "    </tr>\n",
       "    <tr>\n",
       "      <th>ABBY</th>\n",
       "      <td>FEMALEFEMALEFEMALEFEMALEFEMALEFEMALEFEMALE</td>\n",
       "      <td>HISPANICHISPANICHISPANICHISPANICHISPANICHISPAN...</td>\n",
       "      <td>70</td>\n",
       "      <td>546</td>\n",
       "      <td>615.5</td>\n",
       "    </tr>\n",
       "    <tr>\n",
       "      <th>ABIGAIL</th>\n",
       "      <td>FEMALEFEMALEFEMALEFEMALEFEMALEFEMALEFEMALEFEMA...</td>\n",
       "      <td>WHITE NON HISPANICASIAN AND PACIFIC ISLANDERBL...</td>\n",
       "      <td>1806</td>\n",
       "      <td>525</td>\n",
       "      <td>14.0</td>\n",
       "    </tr>\n",
       "    <tr>\n",
       "      <th>ADA</th>\n",
       "      <td>FEMALEFEMALEFEMALEFEMALEFEMALEFEMALEFEMALE</td>\n",
       "      <td>ASIAN AND PACIFIC ISLANDERASIAN AND PACIFIC IS...</td>\n",
       "      <td>91</td>\n",
       "      <td>245</td>\n",
       "      <td>490.5</td>\n",
       "    </tr>\n",
       "    <tr>\n",
       "      <th>ADDISON</th>\n",
       "      <td>FEMALEFEMALEFEMALEFEMALEFEMALEFEMALEFEMALEFEMA...</td>\n",
       "      <td>WHITE NON HISPANICBLACK NON HISPANICBLACK NON ...</td>\n",
       "      <td>224</td>\n",
       "      <td>798</td>\n",
       "      <td>236.0</td>\n",
       "    </tr>\n",
       "    <tr>\n",
       "      <th>...</th>\n",
       "      <th>...</th>\n",
       "      <td>...</td>\n",
       "      <td>...</td>\n",
       "      <td>...</td>\n",
       "      <td>...</td>\n",
       "      <td>...</td>\n",
       "    </tr>\n",
       "    <tr>\n",
       "      <th rowspan=\"5\" valign=\"top\">2021</th>\n",
       "      <th>Zissy</th>\n",
       "      <td>FEMALE</td>\n",
       "      <td>WHITE NON HISPANIC</td>\n",
       "      <td>31</td>\n",
       "      <td>59</td>\n",
       "      <td>204.5</td>\n",
       "    </tr>\n",
       "    <tr>\n",
       "      <th>Zoe</th>\n",
       "      <td>FEMALEFEMALEFEMALEFEMALE</td>\n",
       "      <td>HISPANICASIAN AND PACIFIC ISLANDERWHITE NON HI...</td>\n",
       "      <td>195</td>\n",
       "      <td>77</td>\n",
       "      <td>17.0</td>\n",
       "    </tr>\n",
       "    <tr>\n",
       "      <th>Zoey</th>\n",
       "      <td>FEMALEFEMALEFEMALEFEMALE</td>\n",
       "      <td>HISPANICASIAN AND PACIFIC ISLANDERWHITE NON HI...</td>\n",
       "      <td>107</td>\n",
       "      <td>143</td>\n",
       "      <td>47.0</td>\n",
       "    </tr>\n",
       "    <tr>\n",
       "      <th>Zoya</th>\n",
       "      <td>FEMALE</td>\n",
       "      <td>ASIAN AND PACIFIC ISLANDER</td>\n",
       "      <td>11</td>\n",
       "      <td>31</td>\n",
       "      <td>506.0</td>\n",
       "    </tr>\n",
       "    <tr>\n",
       "      <th>Zuri</th>\n",
       "      <td>FEMALEFEMALE</td>\n",
       "      <td>HISPANICBLACK NON HISPANIC</td>\n",
       "      <td>49</td>\n",
       "      <td>70</td>\n",
       "      <td>126.0</td>\n",
       "    </tr>\n",
       "  </tbody>\n",
       "</table>\n",
       "<p>6980 rows × 5 columns</p>\n",
       "</div>"
      ],
      "text/plain": [
       "                                                         Gender  \\\n",
       "YOB  Name                                                         \n",
       "2011 AALIYAH  FEMALEFEMALEFEMALEFEMALEFEMALEFEMALEFEMALEFEMA...   \n",
       "     ABBY            FEMALEFEMALEFEMALEFEMALEFEMALEFEMALEFEMALE   \n",
       "     ABIGAIL  FEMALEFEMALEFEMALEFEMALEFEMALEFEMALEFEMALEFEMA...   \n",
       "     ADA             FEMALEFEMALEFEMALEFEMALEFEMALEFEMALEFEMALE   \n",
       "     ADDISON  FEMALEFEMALEFEMALEFEMALEFEMALEFEMALEFEMALEFEMA...   \n",
       "...                                                         ...   \n",
       "2021 Zissy                                               FEMALE   \n",
       "     Zoe                               FEMALEFEMALEFEMALEFEMALE   \n",
       "     Zoey                              FEMALEFEMALEFEMALEFEMALE   \n",
       "     Zoya                                                FEMALE   \n",
       "     Zuri                                          FEMALEFEMALE   \n",
       "\n",
       "                                                      Ethnicity  Count  Rank  \\\n",
       "YOB  Name                                                                      \n",
       "2011 AALIYAH  BLACK NON HISPANICHISPANICBLACK NON HISPANICHI...    924   245   \n",
       "     ABBY     HISPANICHISPANICHISPANICHISPANICHISPANICHISPAN...     70   546   \n",
       "     ABIGAIL  WHITE NON HISPANICASIAN AND PACIFIC ISLANDERBL...   1806   525   \n",
       "     ADA      ASIAN AND PACIFIC ISLANDERASIAN AND PACIFIC IS...     91   245   \n",
       "     ADDISON  WHITE NON HISPANICBLACK NON HISPANICBLACK NON ...    224   798   \n",
       "...                                                         ...    ...   ...   \n",
       "2021 Zissy                                   WHITE NON HISPANIC     31    59   \n",
       "     Zoe      HISPANICASIAN AND PACIFIC ISLANDERWHITE NON HI...    195    77   \n",
       "     Zoey     HISPANICASIAN AND PACIFIC ISLANDERWHITE NON HI...    107   143   \n",
       "     Zoya                            ASIAN AND PACIFIC ISLANDER     11    31   \n",
       "     Zuri                            HISPANICBLACK NON HISPANIC     49    70   \n",
       "\n",
       "              My_Rank  \n",
       "YOB  Name              \n",
       "2011 AALIYAH     43.5  \n",
       "     ABBY       615.5  \n",
       "     ABIGAIL     14.0  \n",
       "     ADA        490.5  \n",
       "     ADDISON    236.0  \n",
       "...               ...  \n",
       "2021 Zissy      204.5  \n",
       "     Zoe         17.0  \n",
       "     Zoey        47.0  \n",
       "     Zoya       506.0  \n",
       "     Zuri       126.0  \n",
       "\n",
       "[6980 rows x 5 columns]"
      ]
     },
     "execution_count": 26,
     "metadata": {},
     "output_type": "execute_result"
    }
   ],
   "source": [
    "df"
   ]
  },
  {
   "cell_type": "code",
   "execution_count": 32,
   "metadata": {},
   "outputs": [
    {
     "data": {
      "text/plain": [
       "<Axes: ylabel='Count'>"
      ]
     },
     "execution_count": 32,
     "metadata": {},
     "output_type": "execute_result"
    },
    {
     "data": {
      "image/png": "[encoded data removed]",
      "text/plain": [
       "<Figure size 640x480 with 1 Axes>"
      ]
     },
     "metadata": {},
     "output_type": "display_data"
    }
   ],
   "source": [
    "sns.histplot(data=df.query('Count < 1000 and YOB == 2011'))"
   ]
  },
  {
   "cell_type": "code",
   "execution_count": 33,
   "metadata": {},
   "outputs": [
    {
     "data": {
      "text/plain": [
       "<Axes: ylabel='Count'>"
      ]
     },
     "execution_count": 33,
     "metadata": {},
     "output_type": "execute_result"
    },
    {
     "data": {
      "image/png": "[encoded data removed]",
      "text/plain": [
       "<Figure size 640x480 with 1 Axes>"
      ]
     },
     "metadata": {},
     "output_type": "display_data"
    }
   ],
   "source": [
    "sns.histplot(data=df.query('Count < 1000 and YOB == 2021'))"
   ]
  }
 ],
 "metadata": {
  "kernelspec": {
   "display_name": "Python 3",
   "language": "python",
   "name": "python3"
  },
  "language_info": {
   "codemirror_mode": {
    "name": "ipython",
    "version": 3
   },
   "file_extension": ".py",
   "mimetype": "text/x-python",
   "name": "python",
   "nbconvert_exporter": "python",
   "pygments_lexer": "ipython3",
   "version": "3.11.4"
  }
 },
 "nbformat": 4,
 "nbformat_minor": 2
}
