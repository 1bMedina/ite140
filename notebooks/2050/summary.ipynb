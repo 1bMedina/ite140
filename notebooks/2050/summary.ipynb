{
 "cells": [
  {
   "cell_type": "markdown",
   "metadata": {},
   "source": [
    "\n",
    "\n",
    "\n",
    "\n",
    "\n",
    "Finally, a summary that reflects on this project, what you've learned from it, and what you thought of it. Feel free to discuss whatever you want in this section, you might want to discuss Pandas, Spacy, Arlington, surveys, and/or data science."
   ]
  },
  {
   "cell_type": "markdown",
   "metadata": {},
   "source": [
    "### Project 2050 Summary\n",
    "\n",
    "## Introduction -\n",
    "The Arlington 2050 project is a year long initiative that strives to get community feedback on what Arlington should look like in 2050 and the challenges we must address to get there. Rachael and I worked specifically with the Postcard test tracker dataset. This specific dataset had data collected from many locations. These ranged from local librarys, to community events. Our data was collected strictly on postcards at said locations, whether that be in person or dropped in a box.\n",
    "\n",
    "## Ingesting and Cleaning Data -\n",
    "First, we took into account the fact we had hundreds of entries from multiple different locations. Due to the fact we had entries from multiple different locations in the county we had a little extra work when it came to cleaning the data. We needed to make sure that each location had its own dataframe, this would make getting specifics on certain locations easier. We achieved this by creating a new dataframe for each location."
   ]
  },
  {
   "cell_type": "markdown",
   "metadata": {},
   "source": [
    "To start lets import pandas"
   ]
  },
  {
   "cell_type": "code",
   "execution_count": null,
   "metadata": {},
   "outputs": [],
   "source": [
    "import pandas as pd"
   ]
  },
  {
   "cell_type": "markdown",
   "metadata": {},
   "source": [
    "To start lets read the file"
   ]
  },
  {
   "cell_type": "code",
   "execution_count": null,
   "metadata": {},
   "outputs": [],
   "source": [
    "ds = pd.read_excel(\"../datasets/Postcard_text_tracker.xlsx\")\n",
    "ds "
   ]
  },
  {
   "cell_type": "markdown",
   "metadata": {},
   "source": [
    "Within this dataset some columns are inaccurately names. To make it more readable we have to change this. "
   ]
  },
  {
   "cell_type": "code",
   "execution_count": null,
   "metadata": {},
   "outputs": [],
   "source": [
    "df = ds.rename(columns={\"Unnamed: 2\" : \"Multiple Entries\", \"Unnamed: 3\" : \"Collection Points\"})\n",
    "df"
   ]
  },
  {
   "cell_type": "markdown",
   "metadata": {},
   "source": [
    "The last thing we have to do to clean the data is seperate the entries by each location. This entails creating a new dataframe for each location with their specific entries."
   ]
  },
  {
   "cell_type": "code",
   "execution_count": 13,
   "metadata": {},
   "outputs": [],
   "source": [
    "kickoff = df[df[\"Collection Points\"] == \"Kickoff\"]\n",
    "\n",
    "column_text = kickoff.loc[:, 'Text']"
   ]
  },
  {
   "cell_type": "markdown",
   "metadata": {},
   "source": [
    "The code above creates a new dataframe called kickoff. Kickoff now holds all rows from df that have the location Kickoff. Next, we isolated the text column with the entries so that way that is all the dataframe kickoff contained. We did this for every location."
   ]
  },
  {
   "cell_type": "markdown",
   "metadata": {},
   "source": [
    "After processing and cleaning the data, we began analysis where we had to import a variety of libraries. "
   ]
  },
  {
   "cell_type": "code",
   "execution_count": 16,
   "metadata": {},
   "outputs": [],
   "source": [
    "import spacy\n",
    "from wordcloud import WordCloud, STOPWORDS\n",
    "import matplotlib.pyplot as plt"
   ]
  },
  {
   "cell_type": "markdown",
   "metadata": {},
   "source": [
    "Our first mini project was creating word clouds with the data. To start, for each locations datarame, we turned the text column into a string."
   ]
  },
  {
   "cell_type": "code",
   "execution_count": 14,
   "metadata": {},
   "outputs": [
    {
     "data": {
      "text/plain": [
       "'1      Housing available at all income levels w/ \\\\now...\\n2      because in the mid 2020s Arlington focused on ...\\n3      Arlington\\'s investment in next gen smart growt...\\n4      More multicultural and diversity friendly envi...\\n5      Increased regional cooperation. There are hard...\\n6      There are less cars on the road and parked in ...\\n7      We are the leading model when it comes to high...\\n8      Transportation, affordable housing, integrated...\\n9      Multigenerational government making decisions....\\n10     All of the native trees you planted have grown...\\n11                                                   NaN\\n12     We have eliminated the disparities that exist,...\\n13     I feel safe in my home and every home in my ne...\\n14     Arlington has an amazing vibe where there is a...\\n15     The wildlife and nature is thriving, as are it...\\n16     Arlington invested in infrastructure and land ...\\n17     Expanded walkable likable \"green\" neighborhood...\\n18     We have kept our greenspace, trees, and parks....\\n19     Arlington has been able to manage its developm...\\n20     Arlington is a highly developed city. It balan...\\n21     A lot of biking and more shared/pro-environmen...\\n22     It is a wonderful place to live and work. Wher...\\n23     The youth here are engaged, active, employed, ...\\n24     Because the county finally stopped chasing eph...\\n25     Equity in business and economic opportunity. N...\\n26     Arlington remains a neighborhood with limitati...\\n27     Sufficient housing supply for people to move w...\\n28     1. A wide variety of age groups living well to...\\n29     We are the cultural and arts epicenter of the ...\\n30     Cheap and vast public transportation. APSVA is...\\n31     Arlington is a welcoming to new elementary mem...\\n32     Arlington is fantastic in 2050 because the cou...\\n33     It\\'s a walkable green oasis where trees outnum...\\n34     Great transporation- bus routes, like lanes ev...\\n35     Because neighbor help and support neighbors de...\\n36     Arlington in 2050 is a county of sustainable u...\\n37     The trees you planted in 2024 are big now and ...\\n38     Arlington\\'s last big leap forward was connecti...\\n39     Housing diversity. Arlington has become the be...\\n40     When we realized we needed to consider the psy...\\n41     Economic diversity. My attorney daughter and r...\\n42     Because all the things that make Arlington so ...\\n43     What made Arlington great was when the county ...\\n44     One thing I love in Arlington in 2050 is the w...\\n45     After the xxx meeting where we realized we had...\\n46     Thank you Arlington for creating in 2024 a coa...\\n47                            Columbia Pike is completed\\n48     Arlington is fantastic in 2050 because we have...\\n49     More diverse, easy housing situation, more sus...\\n50     All secondary students should ride art buses t...\\n51     Housing, humanity, and childcare. Pedestrian f...\\n52     We realized many years ago that our zoning rul...\\n53     Housing moonshot to meet and exceed housing de...\\n54     We had the support of politicians who implante...\\n55     Because you recognized that urban nature enhan...\\n56     It\\'s amazing to be here! I grew up in Arlingto...\\n57     My neighborhood along Langston Blvd has prospe...\\n58     As much greenspace and trees was preserved. An...\\n59     Thriving, safe, equitable. Great education for...\\n60     We fixed what you couldn’t. We figured out how...\\n61                                                   NaN\\n62                                                   NaN\\n63     Pedestrian friendly, green areas, every home w...\\n64     In the year 2050 I would love to see a communi...\\n65     Our sense of community is relained, resilient,...\\n66                                                   NaN\\n67                                                   NaN\\n68                                                   NaN\\n69                                                   NaN\\n70                                                   NaN\\n71     A diverse urban community welcoming to all, op...\\n72     Arlington should have a population diversity s...\\n73     We have achieved visim zerod are \"Car free\" (o...\\n74     Arlington has achieved what seemed impossible ...\\n75     The metro line down Langston is wonderful. Bui...\\n76                                                   NaN\\n77     We have continued to stay a pace up technology...\\n78                                                   NaN\\n79     It is an inclusive, welcoming, diverse, afford...\\n80     In 2050, office buildings do not exist but the...\\n81     In Arlington, I do not need a car because ever...\\n82     Diverse equity across economic, health, smartl...\\n83     Arlington is diverse- there\\'s people that look...\\n84                                                   NaN\\n85     We came together as a community to tackle clim...\\n86     We continue to win national and international ...\\n87     The tree canopy is all over Arlington so there...\\n88     Arlington is a place where a XXX community is ...\\n89     Super energy and water efficient buildings. Cl...\\n90     Now that I\\'m 98 years old, I\\'m delighted that ...\\n91     Green, good technology, street trees. Stormwat...\\n92     Because they have made efforts to increase mor...\\n93     Every Arlingtonian has a voice. A balance of s...\\n94                                                   NaN\\n95     You know, nowadays a lot of people can work fr...\\n96     We\\'ve decoded ways to effectively empower resi...\\n97     Arlington has no more crime. Anyone that moves...\\n98     Greener sustainable rooftops on all high rise ...\\n99     It is a dynamic community where most people li...\\n100    Im in a safe walkable neighborhood. Everything...\\n101    Welcome to a diverse community of people of al...\\n102    Arlington is diverse, it is inclusive, and it ...\\n103    I live in a 15-minute city; most people rarely...\\n104    Because the citizens in 2025 made a decision t...\\n105                                                  NaN\\n106    I have been here 76 years and we have successf...\\n107    Inclusive thriving community with affordable h...\\n108    Mark Schwartz is still the county manager and ...\\n109    Net zero! Self-sustaining; diverse housing and...\\n110                                                  NaN\\n111    Arts destination. Preserve balance between sub...\\n112    Provide more options for older adults. Increas...\\n113    Our neighbors gather and share household tools...\\n114    We have more bicycle lanes and electric vehicl...\\n115                                                  NaN\\n116                                                  NaN\\n117    It\\'s affordable, livable, and sustainable for ...\\n118    Arlington is still a fantastic place to be in ...\\n119    It has walkable shopping. It has more green sp...\\n120    Balanced demographics with diversity and belon...\\n121                                                  NaN\\n122    We were able to manage the effects of climate ...\\n123    Just walked with my dog along a tree covered p...\\n124    We led the nation in developing technology tha...\\n125    The county banned cars from the business distr...\\n126    Almost every person can own a home and there i...\\n127    We have solved the housing crisis! New innovat...\\n128    We are at the forefront of sustainability. We ...\\n129    My favorit thing now? The county provided broa...\\n130    We finally woke up and stopped the developers ...\\n131    Thank you Arlington 2024 for having the vision...\\n132    When I first moved to Arlington in 2003, I cou...\\n133    There is a rich market for community or civic ...\\n134    Arlington remains a place where people fo diff...\\n135                                                  NaN\\n136    Very integrated schools- all of them. Everyone...\\n137    All of the energy is solar. Most of the street...\\n138    Housing is affordable for those of different i...\\n139    Arlington is an urban center of innovation, en...\\n140    Arlington is a place of radical welcoming wher...\\n141    I want the kids to travel to school, not on bu...\\n142    We\\'ve built a community where innovation has h...\\n143    It\\'s great to see such a diverse community whe...\\n144    Abundance of work force housing/affordable hou...\\n145                                                  NaN\\n146    100 more parks. 10 more communtiy centers/libr...\\n147    Arlington is a community that combines a rich ...\\n148    Arlington has many more metro stops to serve t...\\n149    It is a walkable diverse county with green spa...\\n150    We have built a communtiy where all age groups...\\n151    ALL children, youth, and families thrive in a ...\\n152    We are an innovative and a demographically div...\\n153    A diverse and rich community. Welcoming to peo...\\n154    Inclusive- acute community embracing history, ...\\n155    It has a vibrant community that allows all gen...\\n156    Arlington has wonderful economic, ethnic, and ...\\n157    We have a culturally rich, diverse community. ...\\n158    Great location near the nation\\'s capital. Walk...\\n159    The county has continued to support its citize...\\n160    Libraries. Trees. Restaurants. Bookstores, Gro...\\n161    Incredible library programs supported by ACB. ...\\n162    Continue to have plenty of green spaces. Very ...'"
      ]
     },
     "execution_count": 14,
     "metadata": {},
     "output_type": "execute_result"
    }
   ],
   "source": [
    "column_text\n",
    "\n",
    "text_string = column_text.to_string()\n",
    "\n",
    "text_string"
   ]
  },
  {
   "cell_type": "markdown",
   "metadata": {},
   "source": [
    "Once all the text was turned into a string, we can use this to find all the common used words."
   ]
  },
  {
   "cell_type": "code",
   "execution_count": null,
   "metadata": {},
   "outputs": [],
   "source": [
    "text = text_string\n",
    "\n",
    "doc = nlp(text)\n",
    "\n",
    "#if we want to lemmatize\n",
    "#words = [token.lemma_ for token in doc if not token.is_stop and not token.is_punct]\n",
    "\n",
    "words = [token.text for token in doc if not token.is_stop and not token.is_punct]"
   ]
  },
  {
   "cell_type": "markdown",
   "metadata": {},
   "source": [
    "Then when we have all of our common words we can visualize it as a word cloud!"
   ]
  },
  {
   "cell_type": "code",
   "execution_count": null,
   "metadata": {},
   "outputs": [],
   "source": [
    "wordcloud = WordCloud(width=800, height=400, background_color='white', max_words=100, mask=None, contour_width=3, contour_color='steelblue').generate(\" \".join(words))\n",
    "\n",
    "plt.figure(figsize=(10, 5))\n",
    "plt.imshow(wordcloud, interpolation='bilinear')\n",
    "plt.axis(\"off\")\n",
    "plt.show()"
   ]
  },
  {
   "cell_type": "markdown",
   "metadata": {},
   "source": [
    "You can customize the word cloud above through its width and height, as well as some of its colors."
   ]
  },
  {
   "cell_type": "markdown",
   "metadata": {},
   "source": [
    "Some things we noticed in our word clouds was that every location seemed to have different common words. While some would be similar, they would never be perfectly the same.\n",
    "\n",
    "Some of the most common words ranged from \"Arlington\", \"Community\", \"Housing\" to \"Trees\", \"Green\", and \"Safe\". \n",
    "\n",
    "All word clouds had their similarities but their differences stuck out more. It was super interesting how one part of arlington focused on community while the other focused on trees and green!"
   ]
  },
  {
   "cell_type": "markdown",
   "metadata": {},
   "source": [
    "Next, were going to do sentiment analysis. To start we have to install some libraries."
   ]
  },
  {
   "cell_type": "code",
   "execution_count": 26,
   "metadata": {},
   "outputs": [
    {
     "name": "stdout",
     "output_type": "stream",
     "text": [
      "Defaulting to user installation because normal site-packages is not writeable\n",
      "Requirement already satisfied: nbformat in /Users/1017543/Library/Python/3.11/lib/python/site-packages (5.10.4)\n",
      "Requirement already satisfied: fastjsonschema>=2.15 in /Users/1017543/Library/Python/3.11/lib/python/site-packages (from nbformat) (2.20.0)\n",
      "Requirement already satisfied: jsonschema>=2.6 in /Users/1017543/Library/Python/3.11/lib/python/site-packages (from nbformat) (4.23.0)\n",
      "Requirement already satisfied: jupyter-core!=5.0.*,>=4.12 in /Users/1017543/Library/Python/3.11/lib/python/site-packages (from nbformat) (5.7.2)\n",
      "Requirement already satisfied: traitlets>=5.1 in /Users/1017543/Library/Python/3.11/lib/python/site-packages (from nbformat) (5.14.3)\n",
      "Requirement already satisfied: attrs>=22.2.0 in /Users/1017543/Library/Python/3.11/lib/python/site-packages (from jsonschema>=2.6->nbformat) (24.2.0)\n",
      "Requirement already satisfied: jsonschema-specifications>=2023.03.6 in /Users/1017543/Library/Python/3.11/lib/python/site-packages (from jsonschema>=2.6->nbformat) (2023.12.1)\n",
      "Requirement already satisfied: referencing>=0.28.4 in /Users/1017543/Library/Python/3.11/lib/python/site-packages (from jsonschema>=2.6->nbformat) (0.35.1)\n",
      "Requirement already satisfied: rpds-py>=0.7.1 in /Users/1017543/Library/Python/3.11/lib/python/site-packages (from jsonschema>=2.6->nbformat) (0.20.0)\n",
      "Requirement already satisfied: platformdirs>=2.5 in /Users/1017543/Library/Python/3.11/lib/python/site-packages (from jupyter-core!=5.0.*,>=4.12->nbformat) (4.3.3)\n",
      "Defaulting to user installation because normal site-packages is not writeable\n",
      "Requirement already satisfied: spacytextblob in /Users/1017543/Library/Python/3.11/lib/python/site-packages (5.0.0)\n",
      "Requirement already satisfied: spacy>=3.0.0 in /Users/1017543/Library/Python/3.11/lib/python/site-packages (from spacytextblob) (3.5.4)\n",
      "Requirement already satisfied: textblob>=0.18.0.post0 in /Users/1017543/Library/Python/3.11/lib/python/site-packages (from spacytextblob) (0.18.0.post0)\n",
      "Requirement already satisfied: spacy-legacy<3.1.0,>=3.0.11 in /Users/1017543/Library/Python/3.11/lib/python/site-packages (from spacy>=3.0.0->spacytextblob) (3.0.12)\n",
      "Requirement already satisfied: spacy-loggers<2.0.0,>=1.0.0 in /Users/1017543/Library/Python/3.11/lib/python/site-packages (from spacy>=3.0.0->spacytextblob) (1.0.5)\n",
      "Requirement already satisfied: murmurhash<1.1.0,>=0.28.0 in /Users/1017543/Library/Python/3.11/lib/python/site-packages (from spacy>=3.0.0->spacytextblob) (1.0.10)\n",
      "Requirement already satisfied: cymem<2.1.0,>=2.0.2 in /Users/1017543/Library/Python/3.11/lib/python/site-packages (from spacy>=3.0.0->spacytextblob) (2.0.8)\n",
      "Requirement already satisfied: preshed<3.1.0,>=3.0.2 in /Users/1017543/Library/Python/3.11/lib/python/site-packages (from spacy>=3.0.0->spacytextblob) (3.0.9)\n",
      "Requirement already satisfied: thinc<8.2.0,>=8.1.8 in /Users/1017543/Library/Python/3.11/lib/python/site-packages (from spacy>=3.0.0->spacytextblob) (8.1.12)\n",
      "Requirement already satisfied: wasabi<1.2.0,>=0.9.1 in /Users/1017543/Library/Python/3.11/lib/python/site-packages (from spacy>=3.0.0->spacytextblob) (1.1.3)\n",
      "Requirement already satisfied: srsly<3.0.0,>=2.4.3 in /Users/1017543/Library/Python/3.11/lib/python/site-packages (from spacy>=3.0.0->spacytextblob) (2.4.8)\n",
      "Requirement already satisfied: catalogue<2.1.0,>=2.0.6 in /Users/1017543/Library/Python/3.11/lib/python/site-packages (from spacy>=3.0.0->spacytextblob) (2.0.10)\n",
      "Requirement already satisfied: typer<0.10.0,>=0.3.0 in /Users/1017543/Library/Python/3.11/lib/python/site-packages (from spacy>=3.0.0->spacytextblob) (0.9.4)\n",
      "Requirement already satisfied: pathy>=0.10.0 in /Users/1017543/Library/Python/3.11/lib/python/site-packages (from spacy>=3.0.0->spacytextblob) (0.11.0)\n",
      "Requirement already satisfied: smart-open<7.0.0,>=5.2.1 in /Users/1017543/Library/Python/3.11/lib/python/site-packages (from spacy>=3.0.0->spacytextblob) (6.4.0)\n",
      "Requirement already satisfied: tqdm<5.0.0,>=4.38.0 in /Users/1017543/Library/Python/3.11/lib/python/site-packages (from spacy>=3.0.0->spacytextblob) (4.66.5)\n",
      "Requirement already satisfied: numpy>=1.15.0 in /Users/1017543/Library/Python/3.11/lib/python/site-packages (from spacy>=3.0.0->spacytextblob) (2.0.2)\n",
      "Requirement already satisfied: requests<3.0.0,>=2.13.0 in /Users/1017543/Library/Python/3.11/lib/python/site-packages (from spacy>=3.0.0->spacytextblob) (2.32.3)\n",
      "Requirement already satisfied: pydantic!=1.8,!=1.8.1,<1.11.0,>=1.7.4 in /Users/1017543/Library/Python/3.11/lib/python/site-packages (from spacy>=3.0.0->spacytextblob) (1.10.19)\n",
      "Requirement already satisfied: jinja2 in /Users/1017543/Library/Python/3.11/lib/python/site-packages (from spacy>=3.0.0->spacytextblob) (3.1.4)\n",
      "Requirement already satisfied: setuptools in /Users/1017543/Library/Python/3.11/lib/python/site-packages (from spacy>=3.0.0->spacytextblob) (75.1.0)\n",
      "Requirement already satisfied: packaging>=20.0 in /Users/1017543/Library/Python/3.11/lib/python/site-packages (from spacy>=3.0.0->spacytextblob) (24.1)\n",
      "Requirement already satisfied: langcodes<4.0.0,>=3.2.0 in /Users/1017543/Library/Python/3.11/lib/python/site-packages (from spacy>=3.0.0->spacytextblob) (3.4.1)\n",
      "Requirement already satisfied: nltk>=3.8 in /Users/1017543/Library/Python/3.11/lib/python/site-packages (from textblob>=0.18.0.post0->spacytextblob) (3.9.1)\n",
      "Requirement already satisfied: language-data>=1.2 in /Users/1017543/Library/Python/3.11/lib/python/site-packages (from langcodes<4.0.0,>=3.2.0->spacy>=3.0.0->spacytextblob) (1.2.0)\n",
      "Requirement already satisfied: click in /Users/1017543/Library/Python/3.11/lib/python/site-packages (from nltk>=3.8->textblob>=0.18.0.post0->spacytextblob) (8.1.7)\n",
      "Requirement already satisfied: joblib in /Users/1017543/Library/Python/3.11/lib/python/site-packages (from nltk>=3.8->textblob>=0.18.0.post0->spacytextblob) (1.4.2)\n",
      "Requirement already satisfied: regex>=2021.8.3 in /Users/1017543/Library/Python/3.11/lib/python/site-packages (from nltk>=3.8->textblob>=0.18.0.post0->spacytextblob) (2024.9.11)\n",
      "Requirement already satisfied: pathlib-abc==0.1.1 in /Users/1017543/Library/Python/3.11/lib/python/site-packages (from pathy>=0.10.0->spacy>=3.0.0->spacytextblob) (0.1.1)\n",
      "Requirement already satisfied: typing-extensions>=4.2.0 in /Users/1017543/Library/Python/3.11/lib/python/site-packages (from pydantic!=1.8,!=1.8.1,<1.11.0,>=1.7.4->spacy>=3.0.0->spacytextblob) (4.12.2)\n",
      "Requirement already satisfied: charset-normalizer<4,>=2 in /Users/1017543/Library/Python/3.11/lib/python/site-packages (from requests<3.0.0,>=2.13.0->spacy>=3.0.0->spacytextblob) (3.4.0)\n",
      "Requirement already satisfied: idna<4,>=2.5 in /Users/1017543/Library/Python/3.11/lib/python/site-packages (from requests<3.0.0,>=2.13.0->spacy>=3.0.0->spacytextblob) (3.10)\n",
      "Requirement already satisfied: urllib3<3,>=1.21.1 in /Users/1017543/Library/Python/3.11/lib/python/site-packages (from requests<3.0.0,>=2.13.0->spacy>=3.0.0->spacytextblob) (2.2.3)\n",
      "Requirement already satisfied: certifi>=2017.4.17 in /Users/1017543/Library/Python/3.11/lib/python/site-packages (from requests<3.0.0,>=2.13.0->spacy>=3.0.0->spacytextblob) (2024.8.30)\n",
      "Requirement already satisfied: blis<0.8.0,>=0.7.8 in /Users/1017543/Library/Python/3.11/lib/python/site-packages (from thinc<8.2.0,>=8.1.8->spacy>=3.0.0->spacytextblob) (0.7.11)\n",
      "Requirement already satisfied: confection<1.0.0,>=0.0.1 in /Users/1017543/Library/Python/3.11/lib/python/site-packages (from thinc<8.2.0,>=8.1.8->spacy>=3.0.0->spacytextblob) (0.1.5)\n",
      "Requirement already satisfied: MarkupSafe>=2.0 in /Users/1017543/Library/Python/3.11/lib/python/site-packages (from jinja2->spacy>=3.0.0->spacytextblob) (3.0.1)\n",
      "Requirement already satisfied: marisa-trie>=0.7.7 in /Users/1017543/Library/Python/3.11/lib/python/site-packages (from language-data>=1.2->langcodes<4.0.0,>=3.2.0->spacy>=3.0.0->spacytextblob) (1.2.1)\n",
      "Defaulting to user installation because normal site-packages is not writeable\n",
      "Requirement already satisfied: spacy in /Users/1017543/Library/Python/3.11/lib/python/site-packages (3.5.4)\n",
      "Requirement already satisfied: spacy-legacy<3.1.0,>=3.0.11 in /Users/1017543/Library/Python/3.11/lib/python/site-packages (from spacy) (3.0.12)\n",
      "Requirement already satisfied: spacy-loggers<2.0.0,>=1.0.0 in /Users/1017543/Library/Python/3.11/lib/python/site-packages (from spacy) (1.0.5)\n",
      "Requirement already satisfied: murmurhash<1.1.0,>=0.28.0 in /Users/1017543/Library/Python/3.11/lib/python/site-packages (from spacy) (1.0.10)\n",
      "Requirement already satisfied: cymem<2.1.0,>=2.0.2 in /Users/1017543/Library/Python/3.11/lib/python/site-packages (from spacy) (2.0.8)\n",
      "Requirement already satisfied: preshed<3.1.0,>=3.0.2 in /Users/1017543/Library/Python/3.11/lib/python/site-packages (from spacy) (3.0.9)\n",
      "Requirement already satisfied: thinc<8.2.0,>=8.1.8 in /Users/1017543/Library/Python/3.11/lib/python/site-packages (from spacy) (8.1.12)\n",
      "Requirement already satisfied: wasabi<1.2.0,>=0.9.1 in /Users/1017543/Library/Python/3.11/lib/python/site-packages (from spacy) (1.1.3)\n",
      "Requirement already satisfied: srsly<3.0.0,>=2.4.3 in /Users/1017543/Library/Python/3.11/lib/python/site-packages (from spacy) (2.4.8)\n",
      "Requirement already satisfied: catalogue<2.1.0,>=2.0.6 in /Users/1017543/Library/Python/3.11/lib/python/site-packages (from spacy) (2.0.10)\n",
      "Requirement already satisfied: typer<0.10.0,>=0.3.0 in /Users/1017543/Library/Python/3.11/lib/python/site-packages (from spacy) (0.9.4)\n",
      "Requirement already satisfied: pathy>=0.10.0 in /Users/1017543/Library/Python/3.11/lib/python/site-packages (from spacy) (0.11.0)\n",
      "Requirement already satisfied: smart-open<7.0.0,>=5.2.1 in /Users/1017543/Library/Python/3.11/lib/python/site-packages (from spacy) (6.4.0)\n",
      "Requirement already satisfied: tqdm<5.0.0,>=4.38.0 in /Users/1017543/Library/Python/3.11/lib/python/site-packages (from spacy) (4.66.5)\n",
      "Requirement already satisfied: numpy>=1.15.0 in /Users/1017543/Library/Python/3.11/lib/python/site-packages (from spacy) (2.0.2)\n",
      "Requirement already satisfied: requests<3.0.0,>=2.13.0 in /Users/1017543/Library/Python/3.11/lib/python/site-packages (from spacy) (2.32.3)\n",
      "Requirement already satisfied: pydantic!=1.8,!=1.8.1,<1.11.0,>=1.7.4 in /Users/1017543/Library/Python/3.11/lib/python/site-packages (from spacy) (1.10.19)\n",
      "Requirement already satisfied: jinja2 in /Users/1017543/Library/Python/3.11/lib/python/site-packages (from spacy) (3.1.4)\n",
      "Requirement already satisfied: setuptools in /Users/1017543/Library/Python/3.11/lib/python/site-packages (from spacy) (75.1.0)\n",
      "Requirement already satisfied: packaging>=20.0 in /Users/1017543/Library/Python/3.11/lib/python/site-packages (from spacy) (24.1)\n",
      "Requirement already satisfied: langcodes<4.0.0,>=3.2.0 in /Users/1017543/Library/Python/3.11/lib/python/site-packages (from spacy) (3.4.1)\n",
      "Requirement already satisfied: language-data>=1.2 in /Users/1017543/Library/Python/3.11/lib/python/site-packages (from langcodes<4.0.0,>=3.2.0->spacy) (1.2.0)\n",
      "Requirement already satisfied: pathlib-abc==0.1.1 in /Users/1017543/Library/Python/3.11/lib/python/site-packages (from pathy>=0.10.0->spacy) (0.1.1)\n",
      "Requirement already satisfied: typing-extensions>=4.2.0 in /Users/1017543/Library/Python/3.11/lib/python/site-packages (from pydantic!=1.8,!=1.8.1,<1.11.0,>=1.7.4->spacy) (4.12.2)\n",
      "Requirement already satisfied: charset-normalizer<4,>=2 in /Users/1017543/Library/Python/3.11/lib/python/site-packages (from requests<3.0.0,>=2.13.0->spacy) (3.4.0)\n",
      "Requirement already satisfied: idna<4,>=2.5 in /Users/1017543/Library/Python/3.11/lib/python/site-packages (from requests<3.0.0,>=2.13.0->spacy) (3.10)\n",
      "Requirement already satisfied: urllib3<3,>=1.21.1 in /Users/1017543/Library/Python/3.11/lib/python/site-packages (from requests<3.0.0,>=2.13.0->spacy) (2.2.3)\n",
      "Requirement already satisfied: certifi>=2017.4.17 in /Users/1017543/Library/Python/3.11/lib/python/site-packages (from requests<3.0.0,>=2.13.0->spacy) (2024.8.30)\n",
      "Requirement already satisfied: blis<0.8.0,>=0.7.8 in /Users/1017543/Library/Python/3.11/lib/python/site-packages (from thinc<8.2.0,>=8.1.8->spacy) (0.7.11)\n",
      "Requirement already satisfied: confection<1.0.0,>=0.0.1 in /Users/1017543/Library/Python/3.11/lib/python/site-packages (from thinc<8.2.0,>=8.1.8->spacy) (0.1.5)\n",
      "Requirement already satisfied: click<9.0.0,>=7.1.1 in /Users/1017543/Library/Python/3.11/lib/python/site-packages (from typer<0.10.0,>=0.3.0->spacy) (8.1.7)\n",
      "Requirement already satisfied: MarkupSafe>=2.0 in /Users/1017543/Library/Python/3.11/lib/python/site-packages (from jinja2->spacy) (3.0.1)\n",
      "Requirement already satisfied: marisa-trie>=0.7.7 in /Users/1017543/Library/Python/3.11/lib/python/site-packages (from language-data>=1.2->langcodes<4.0.0,>=3.2.0->spacy) (1.2.1)\n",
      "Defaulting to user installation because normal site-packages is not writeable\n",
      "Requirement already satisfied: textblob in /Users/1017543/Library/Python/3.11/lib/python/site-packages (0.18.0.post0)\n",
      "Requirement already satisfied: nltk>=3.8 in /Users/1017543/Library/Python/3.11/lib/python/site-packages (from textblob) (3.9.1)\n",
      "Requirement already satisfied: click in /Users/1017543/Library/Python/3.11/lib/python/site-packages (from nltk>=3.8->textblob) (8.1.7)\n",
      "Requirement already satisfied: joblib in /Users/1017543/Library/Python/3.11/lib/python/site-packages (from nltk>=3.8->textblob) (1.4.2)\n",
      "Requirement already satisfied: regex>=2021.8.3 in /Users/1017543/Library/Python/3.11/lib/python/site-packages (from nltk>=3.8->textblob) (2024.9.11)\n",
      "Requirement already satisfied: tqdm in /Users/1017543/Library/Python/3.11/lib/python/site-packages (from nltk>=3.8->textblob) (4.66.5)\n",
      "Defaulting to user installation because normal site-packages is not writeable\n",
      "Requirement already satisfied: spacy in /Users/1017543/Library/Python/3.11/lib/python/site-packages (3.5.4)\n",
      "Requirement already satisfied: download in /Users/1017543/Library/Python/3.11/lib/python/site-packages (0.3.5)\n",
      "Requirement already satisfied: en_core_web_sm in /Users/1017543/Library/Python/3.11/lib/python/site-packages (3.5.0)\n",
      "Requirement already satisfied: spacy-legacy<3.1.0,>=3.0.11 in /Users/1017543/Library/Python/3.11/lib/python/site-packages (from spacy) (3.0.12)\n",
      "Requirement already satisfied: spacy-loggers<2.0.0,>=1.0.0 in /Users/1017543/Library/Python/3.11/lib/python/site-packages (from spacy) (1.0.5)\n",
      "Requirement already satisfied: murmurhash<1.1.0,>=0.28.0 in /Users/1017543/Library/Python/3.11/lib/python/site-packages (from spacy) (1.0.10)\n",
      "Requirement already satisfied: cymem<2.1.0,>=2.0.2 in /Users/1017543/Library/Python/3.11/lib/python/site-packages (from spacy) (2.0.8)\n",
      "Requirement already satisfied: preshed<3.1.0,>=3.0.2 in /Users/1017543/Library/Python/3.11/lib/python/site-packages (from spacy) (3.0.9)\n",
      "Requirement already satisfied: thinc<8.2.0,>=8.1.8 in /Users/1017543/Library/Python/3.11/lib/python/site-packages (from spacy) (8.1.12)\n",
      "Requirement already satisfied: wasabi<1.2.0,>=0.9.1 in /Users/1017543/Library/Python/3.11/lib/python/site-packages (from spacy) (1.1.3)\n",
      "Requirement already satisfied: srsly<3.0.0,>=2.4.3 in /Users/1017543/Library/Python/3.11/lib/python/site-packages (from spacy) (2.4.8)\n",
      "Requirement already satisfied: catalogue<2.1.0,>=2.0.6 in /Users/1017543/Library/Python/3.11/lib/python/site-packages (from spacy) (2.0.10)\n",
      "Requirement already satisfied: typer<0.10.0,>=0.3.0 in /Users/1017543/Library/Python/3.11/lib/python/site-packages (from spacy) (0.9.4)\n",
      "Requirement already satisfied: pathy>=0.10.0 in /Users/1017543/Library/Python/3.11/lib/python/site-packages (from spacy) (0.11.0)\n",
      "Requirement already satisfied: smart-open<7.0.0,>=5.2.1 in /Users/1017543/Library/Python/3.11/lib/python/site-packages (from spacy) (6.4.0)\n",
      "Requirement already satisfied: tqdm<5.0.0,>=4.38.0 in /Users/1017543/Library/Python/3.11/lib/python/site-packages (from spacy) (4.66.5)\n",
      "Requirement already satisfied: numpy>=1.15.0 in /Users/1017543/Library/Python/3.11/lib/python/site-packages (from spacy) (2.0.2)\n",
      "Requirement already satisfied: requests<3.0.0,>=2.13.0 in /Users/1017543/Library/Python/3.11/lib/python/site-packages (from spacy) (2.32.3)\n",
      "Requirement already satisfied: pydantic!=1.8,!=1.8.1,<1.11.0,>=1.7.4 in /Users/1017543/Library/Python/3.11/lib/python/site-packages (from spacy) (1.10.19)\n",
      "Requirement already satisfied: jinja2 in /Users/1017543/Library/Python/3.11/lib/python/site-packages (from spacy) (3.1.4)\n",
      "Requirement already satisfied: setuptools in /Users/1017543/Library/Python/3.11/lib/python/site-packages (from spacy) (75.1.0)\n",
      "Requirement already satisfied: packaging>=20.0 in /Users/1017543/Library/Python/3.11/lib/python/site-packages (from spacy) (24.1)\n",
      "Requirement already satisfied: langcodes<4.0.0,>=3.2.0 in /Users/1017543/Library/Python/3.11/lib/python/site-packages (from spacy) (3.4.1)\n",
      "Requirement already satisfied: six in /Users/1017543/Library/Python/3.11/lib/python/site-packages (from download) (1.16.0)\n",
      "Requirement already satisfied: language-data>=1.2 in /Users/1017543/Library/Python/3.11/lib/python/site-packages (from langcodes<4.0.0,>=3.2.0->spacy) (1.2.0)\n",
      "Requirement already satisfied: pathlib-abc==0.1.1 in /Users/1017543/Library/Python/3.11/lib/python/site-packages (from pathy>=0.10.0->spacy) (0.1.1)\n",
      "Requirement already satisfied: typing-extensions>=4.2.0 in /Users/1017543/Library/Python/3.11/lib/python/site-packages (from pydantic!=1.8,!=1.8.1,<1.11.0,>=1.7.4->spacy) (4.12.2)\n",
      "Requirement already satisfied: charset-normalizer<4,>=2 in /Users/1017543/Library/Python/3.11/lib/python/site-packages (from requests<3.0.0,>=2.13.0->spacy) (3.4.0)\n",
      "Requirement already satisfied: idna<4,>=2.5 in /Users/1017543/Library/Python/3.11/lib/python/site-packages (from requests<3.0.0,>=2.13.0->spacy) (3.10)\n",
      "Requirement already satisfied: urllib3<3,>=1.21.1 in /Users/1017543/Library/Python/3.11/lib/python/site-packages (from requests<3.0.0,>=2.13.0->spacy) (2.2.3)\n",
      "Requirement already satisfied: certifi>=2017.4.17 in /Users/1017543/Library/Python/3.11/lib/python/site-packages (from requests<3.0.0,>=2.13.0->spacy) (2024.8.30)\n",
      "Requirement already satisfied: blis<0.8.0,>=0.7.8 in /Users/1017543/Library/Python/3.11/lib/python/site-packages (from thinc<8.2.0,>=8.1.8->spacy) (0.7.11)\n",
      "Requirement already satisfied: confection<1.0.0,>=0.0.1 in /Users/1017543/Library/Python/3.11/lib/python/site-packages (from thinc<8.2.0,>=8.1.8->spacy) (0.1.5)\n",
      "Requirement already satisfied: click<9.0.0,>=7.1.1 in /Users/1017543/Library/Python/3.11/lib/python/site-packages (from typer<0.10.0,>=0.3.0->spacy) (8.1.7)\n",
      "Requirement already satisfied: MarkupSafe>=2.0 in /Users/1017543/Library/Python/3.11/lib/python/site-packages (from jinja2->spacy) (3.0.1)\n",
      "Requirement already satisfied: marisa-trie>=0.7.7 in /Users/1017543/Library/Python/3.11/lib/python/site-packages (from language-data>=1.2->langcodes<4.0.0,>=3.2.0->spacy) (1.2.1)\n",
      "Defaulting to user installation because normal site-packages is not writeable\n",
      "Collecting https://github.com/explosion/spacy-models/releases/download/en_core_web_sm-3.5.0/en_core_web_sm-3.5.0.tar.gz\n",
      "  Downloading https://github.com/explosion/spacy-models/releases/download/en_core_web_sm-3.5.0/en_core_web_sm-3.5.0.tar.gz (12.8 MB)\n",
      "\u001b[2K     \u001b[90m━━━━━━━━━━━━━━━━━━━━━━━━━━━━━━━━━━━━━━━━\u001b[0m \u001b[32m12.8/12.8 MB\u001b[0m \u001b[31m39.8 MB/s\u001b[0m eta \u001b[36m0:00:00\u001b[0m \u001b[36m0:00:01\u001b[0m\n",
      "\u001b[?25h  Preparing metadata (setup.py): started\n",
      "  Preparing metadata (setup.py): finished with status 'done'\n",
      "Requirement already satisfied: spacy<3.6.0,>=3.5.0 in /Users/1017543/Library/Python/3.11/lib/python/site-packages (from en_core_web_sm==3.5.0) (3.5.4)\n",
      "Requirement already satisfied: spacy-legacy<3.1.0,>=3.0.11 in /Users/1017543/Library/Python/3.11/lib/python/site-packages (from spacy<3.6.0,>=3.5.0->en_core_web_sm==3.5.0) (3.0.12)\n",
      "Requirement already satisfied: spacy-loggers<2.0.0,>=1.0.0 in /Users/1017543/Library/Python/3.11/lib/python/site-packages (from spacy<3.6.0,>=3.5.0->en_core_web_sm==3.5.0) (1.0.5)\n",
      "Requirement already satisfied: murmurhash<1.1.0,>=0.28.0 in /Users/1017543/Library/Python/3.11/lib/python/site-packages (from spacy<3.6.0,>=3.5.0->en_core_web_sm==3.5.0) (1.0.10)\n",
      "Requirement already satisfied: cymem<2.1.0,>=2.0.2 in /Users/1017543/Library/Python/3.11/lib/python/site-packages (from spacy<3.6.0,>=3.5.0->en_core_web_sm==3.5.0) (2.0.8)\n",
      "Requirement already satisfied: preshed<3.1.0,>=3.0.2 in /Users/1017543/Library/Python/3.11/lib/python/site-packages (from spacy<3.6.0,>=3.5.0->en_core_web_sm==3.5.0) (3.0.9)\n",
      "Requirement already satisfied: thinc<8.2.0,>=8.1.8 in /Users/1017543/Library/Python/3.11/lib/python/site-packages (from spacy<3.6.0,>=3.5.0->en_core_web_sm==3.5.0) (8.1.12)\n",
      "Requirement already satisfied: wasabi<1.2.0,>=0.9.1 in /Users/1017543/Library/Python/3.11/lib/python/site-packages (from spacy<3.6.0,>=3.5.0->en_core_web_sm==3.5.0) (1.1.3)\n",
      "Requirement already satisfied: srsly<3.0.0,>=2.4.3 in /Users/1017543/Library/Python/3.11/lib/python/site-packages (from spacy<3.6.0,>=3.5.0->en_core_web_sm==3.5.0) (2.4.8)\n",
      "Requirement already satisfied: catalogue<2.1.0,>=2.0.6 in /Users/1017543/Library/Python/3.11/lib/python/site-packages (from spacy<3.6.0,>=3.5.0->en_core_web_sm==3.5.0) (2.0.10)\n",
      "Requirement already satisfied: typer<0.10.0,>=0.3.0 in /Users/1017543/Library/Python/3.11/lib/python/site-packages (from spacy<3.6.0,>=3.5.0->en_core_web_sm==3.5.0) (0.9.4)\n",
      "Requirement already satisfied: pathy>=0.10.0 in /Users/1017543/Library/Python/3.11/lib/python/site-packages (from spacy<3.6.0,>=3.5.0->en_core_web_sm==3.5.0) (0.11.0)\n",
      "Requirement already satisfied: smart-open<7.0.0,>=5.2.1 in /Users/1017543/Library/Python/3.11/lib/python/site-packages (from spacy<3.6.0,>=3.5.0->en_core_web_sm==3.5.0) (6.4.0)\n",
      "Requirement already satisfied: tqdm<5.0.0,>=4.38.0 in /Users/1017543/Library/Python/3.11/lib/python/site-packages (from spacy<3.6.0,>=3.5.0->en_core_web_sm==3.5.0) (4.66.5)\n",
      "Requirement already satisfied: numpy>=1.15.0 in /Users/1017543/Library/Python/3.11/lib/python/site-packages (from spacy<3.6.0,>=3.5.0->en_core_web_sm==3.5.0) (2.0.2)\n",
      "Requirement already satisfied: requests<3.0.0,>=2.13.0 in /Users/1017543/Library/Python/3.11/lib/python/site-packages (from spacy<3.6.0,>=3.5.0->en_core_web_sm==3.5.0) (2.32.3)\n",
      "Requirement already satisfied: pydantic!=1.8,!=1.8.1,<1.11.0,>=1.7.4 in /Users/1017543/Library/Python/3.11/lib/python/site-packages (from spacy<3.6.0,>=3.5.0->en_core_web_sm==3.5.0) (1.10.19)\n",
      "Requirement already satisfied: jinja2 in /Users/1017543/Library/Python/3.11/lib/python/site-packages (from spacy<3.6.0,>=3.5.0->en_core_web_sm==3.5.0) (3.1.4)\n",
      "Requirement already satisfied: setuptools in /Users/1017543/Library/Python/3.11/lib/python/site-packages (from spacy<3.6.0,>=3.5.0->en_core_web_sm==3.5.0) (75.1.0)\n",
      "Requirement already satisfied: packaging>=20.0 in /Users/1017543/Library/Python/3.11/lib/python/site-packages (from spacy<3.6.0,>=3.5.0->en_core_web_sm==3.5.0) (24.1)\n",
      "Requirement already satisfied: langcodes<4.0.0,>=3.2.0 in /Users/1017543/Library/Python/3.11/lib/python/site-packages (from spacy<3.6.0,>=3.5.0->en_core_web_sm==3.5.0) (3.4.1)\n",
      "Requirement already satisfied: language-data>=1.2 in /Users/1017543/Library/Python/3.11/lib/python/site-packages (from langcodes<4.0.0,>=3.2.0->spacy<3.6.0,>=3.5.0->en_core_web_sm==3.5.0) (1.2.0)\n",
      "Requirement already satisfied: pathlib-abc==0.1.1 in /Users/1017543/Library/Python/3.11/lib/python/site-packages (from pathy>=0.10.0->spacy<3.6.0,>=3.5.0->en_core_web_sm==3.5.0) (0.1.1)\n",
      "Requirement already satisfied: typing-extensions>=4.2.0 in /Users/1017543/Library/Python/3.11/lib/python/site-packages (from pydantic!=1.8,!=1.8.1,<1.11.0,>=1.7.4->spacy<3.6.0,>=3.5.0->en_core_web_sm==3.5.0) (4.12.2)\n",
      "Requirement already satisfied: charset-normalizer<4,>=2 in /Users/1017543/Library/Python/3.11/lib/python/site-packages (from requests<3.0.0,>=2.13.0->spacy<3.6.0,>=3.5.0->en_core_web_sm==3.5.0) (3.4.0)\n",
      "Requirement already satisfied: idna<4,>=2.5 in /Users/1017543/Library/Python/3.11/lib/python/site-packages (from requests<3.0.0,>=2.13.0->spacy<3.6.0,>=3.5.0->en_core_web_sm==3.5.0) (3.10)\n",
      "Requirement already satisfied: urllib3<3,>=1.21.1 in /Users/1017543/Library/Python/3.11/lib/python/site-packages (from requests<3.0.0,>=2.13.0->spacy<3.6.0,>=3.5.0->en_core_web_sm==3.5.0) (2.2.3)\n",
      "Requirement already satisfied: certifi>=2017.4.17 in /Users/1017543/Library/Python/3.11/lib/python/site-packages (from requests<3.0.0,>=2.13.0->spacy<3.6.0,>=3.5.0->en_core_web_sm==3.5.0) (2024.8.30)\n",
      "Requirement already satisfied: blis<0.8.0,>=0.7.8 in /Users/1017543/Library/Python/3.11/lib/python/site-packages (from thinc<8.2.0,>=8.1.8->spacy<3.6.0,>=3.5.0->en_core_web_sm==3.5.0) (0.7.11)\n",
      "Requirement already satisfied: confection<1.0.0,>=0.0.1 in /Users/1017543/Library/Python/3.11/lib/python/site-packages (from thinc<8.2.0,>=8.1.8->spacy<3.6.0,>=3.5.0->en_core_web_sm==3.5.0) (0.1.5)\n",
      "Requirement already satisfied: click<9.0.0,>=7.1.1 in /Users/1017543/Library/Python/3.11/lib/python/site-packages (from typer<0.10.0,>=0.3.0->spacy<3.6.0,>=3.5.0->en_core_web_sm==3.5.0) (8.1.7)\n",
      "Requirement already satisfied: MarkupSafe>=2.0 in /Users/1017543/Library/Python/3.11/lib/python/site-packages (from jinja2->spacy<3.6.0,>=3.5.0->en_core_web_sm==3.5.0) (3.0.1)\n",
      "Requirement already satisfied: marisa-trie>=0.7.7 in /Users/1017543/Library/Python/3.11/lib/python/site-packages (from language-data>=1.2->langcodes<4.0.0,>=3.2.0->spacy<3.6.0,>=3.5.0->en_core_web_sm==3.5.0) (1.2.1)\n"
     ]
    }
   ],
   "source": [
    "%%bash\n",
    "pip3 install nbformat\n",
    "pip3 install spacytextblob\n",
    "pip3 install spacy\n",
    "pip3 install textblob\n",
    "pip3 install spacy download en_core_web_sm\n",
    "pip3 install https://github.com/explosion/spacy-models/releases/download/en_core_web_sm-3.5.0/en_core_web_sm-3.5.0.tar.gz"
   ]
  },
  {
   "cell_type": "code",
   "execution_count": 30,
   "metadata": {},
   "outputs": [
    {
     "data": {
      "text/plain": [
       "0.2850960298305432"
      ]
     },
     "execution_count": 30,
     "metadata": {},
     "output_type": "execute_result"
    }
   ],
   "source": [
    "import spacy\n",
    "from spacytextblob.spacytextblob import SpacyTextBlob\n",
    "\n",
    "nlp = spacy.load('en_core_web_sm')\n",
    "nlp.add_pipe('spacytextblob')\n",
    "\n",
    "#Example 1\n",
    "\n",
    "text = text_string\n",
    "doc = nlp(text)\n",
    "\n",
    "\n",
    "doc._.blob.polarity"
   ]
  },
  {
   "cell_type": "markdown",
   "metadata": {},
   "source": [
    "The code above test for the polarity of the entire dataframe Kickoff (mentioned earlier)."
   ]
  },
  {
   "cell_type": "code",
   "execution_count": 29,
   "metadata": {},
   "outputs": [
    {
     "data": {
      "text/plain": [
       "0.5091077015413298"
      ]
     },
     "execution_count": 29,
     "metadata": {},
     "output_type": "execute_result"
    }
   ],
   "source": [
    "\n",
    "doc._.blob.subjectivity"
   ]
  },
  {
   "cell_type": "markdown",
   "metadata": {},
   "source": [
    "And this code above test the subjectivity of the same dataframe.\n",
    "\n",
    "In the end, were able to see that while youd assume that most entries would be positive, not all are. With kickoff having a polarity of 0.2850 shows us that its farly positive with some negativity (it ranges from -1 to 1).\n",
    "Though with subjectivity were able to see that the entries are partially based on opinion. Subjectivity tells us wheather something is opinion or not, ranging from 0 to 1 (objective to subjective)."
   ]
  },
  {
   "cell_type": "markdown",
   "metadata": {},
   "source": [
    "The last thing we did was test the semantics of the code."
   ]
  },
  {
   "cell_type": "code",
   "execution_count": 21,
   "metadata": {},
   "outputs": [],
   "source": [
    "%%capture\n",
    "%run ./spell_check.ipynb"
   ]
  },
  {
   "cell_type": "markdown",
   "metadata": {},
   "source": [
    "The code above runs a prewritten spell checker by Mr. Jones on the whole dataframe."
   ]
  },
  {
   "cell_type": "code",
   "execution_count": 22,
   "metadata": {},
   "outputs": [
    {
     "name": "stderr",
     "output_type": "stream",
     "text": [
      "/var/folders/yr/zbhj6rpd0s9722vvj_z7hhyw0000gp/T/ipykernel_61643/1853047013.py:4: UserWarning: [W008] Evaluating Doc.similarity based on empty vectors.\n",
      "  return nlp(text).similarity(nlp(query))\n"
     ]
    },
    {
     "name": "stdout",
     "output_type": "stream",
     "text": [
      "Great neighbors, lots of trees, and hopefully more families taking advantage of missing middle housing!\n",
      "Missing middle housing. We need representation on the Arlington Board #JDSPAIN\n",
      "There is a free walk a beagle center on every block with snuggle corners inside, everyone on Earth is at peace thanks to unicorns and lastly, kids and grown ups are equal yay! Plain old 2024 was boring so we built a time machine that runs on smiles to take us to paradise in the year 2050.\n"
     ]
    }
   ],
   "source": [
    "nlp = spacy.load(\"en_core_web_lg\") \n",
    "query = \"missing middle\"\n",
    "def similarityToQuery(text):\n",
    "    return nlp(text).similarity(nlp(query))\n",
    "df_events['similarity_to_query'] = df_events['spell_checked_text'].apply(similarityToQuery)\n",
    "pd.set_option('display.max_colwidth', None)\n",
    "print(df_events.sort_values('similarity_to_query', ascending=False).iloc[0][\"concatenated_text\"])\n",
    "print(df_events.sort_values('similarity_to_query', ascending=False).iloc[1][\"concatenated_text\"])\n",
    "print(df_events.sort_values('similarity_to_query', ascending=False).iloc[2][\"concatenated_text\"])"
   ]
  },
  {
   "cell_type": "markdown",
   "metadata": {},
   "source": [
    "In the code above, I did a Semantic Search within my dataset. This specific code returns 3 comments that mention missing middle or are related to missing middle!"
   ]
  },
  {
   "cell_type": "markdown",
   "metadata": {},
   "source": [
    "## Summary - \n"
   ]
  }
 ],
 "metadata": {
  "kernelspec": {
   "display_name": "Python 3",
   "language": "python",
   "name": "python3"
  },
  "language_info": {
   "codemirror_mode": {
    "name": "ipython",
    "version": 3
   },
   "file_extension": ".py",
   "mimetype": "text/x-python",
   "name": "python",
   "nbconvert_exporter": "python",
   "pygments_lexer": "ipython3",
   "version": "3.11.4"
  }
 },
 "nbformat": 4,
 "nbformat_minor": 2
}
