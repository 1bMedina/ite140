{
 "cells": [
  {
   "cell_type": "markdown",
   "metadata": {},
   "source": [
    "## <p align=\"center\" style=\"font-family: monospace, monaco;\"> Chapter 4 - Numpy Foundations </p>\n",
    "### <p align=\"center\" style=\"font-family: monospace, monaco;\"> Jupyter Notebook </p>\n",
    "\n",
    "<p style=\"font-family: monospace, monaco;\"> <span style=\"background-color:#ffb3c6;\" ><strong>Numpy</strong></span> &rarr; Is a core package for scientific computing, it provides support for array based calculations, aswell as linear algebra</p> \n",
    "\n",
    "### <p style=\"font-family: monospace, monaco;\"> Numpy Array</p>\n",
    "- <p style=\"font-family: monospace, monaco;\">to preform any array based calculations with nested list, you would have to write some sort of loop</p>\n",
    "<p style=\"font-family: monospace, monaco\"> &nbsp;&nbsp;&nbsp;&nbsp;&nbsp;&nbsp;&nbsp;&nbsp;&nbsp;&nbsp;&nbsp;&nbsp;Ex] to add an number to every element in a nested list, you could do:</p>\n"
   ]
  },
  {
   "cell_type": "code",
   "execution_count": 1,
   "metadata": {},
   "outputs": [],
   "source": [
    "import numpy as np"
   ]
  },
  {
   "cell_type": "code",
   "execution_count": 16,
   "metadata": {},
   "outputs": [
    {
     "data": {
      "text/plain": [
       "[[2, 3, 4], [5, 6, 7], [8, 9, 10]]"
      ]
     },
     "execution_count": 16,
     "metadata": {},
     "output_type": "execute_result"
    }
   ],
   "source": [
    "matrix = [[1, 2, 3],\n",
    "          [4, 5, 6],\n",
    "          [7, 8, 9]]\n",
    "[[i + 1 for i in row] for row in matrix]"
   ]
  },
  {
   "cell_type": "markdown",
   "metadata": {},
   "source": [
    "- <p style=\"font-family: monospace, monaco;\"> Unfortunately this code is not only difficult to read but will become very slow when looping through big arrays. </p>\n",
    "- <p style=\"font-family: monospace, monaco;\"> Using Numpy instead of Python list can be anywhere from a couple times to a hundred times faster.</p>\n",
    "- <p style=\"font-family: monospace, monaco;\"> Numpy is able to achieve this by using code from compiled languages like C and Fortran.</p>\n",
    "- <p style=\"font-family: monospace, monaco;\"> <span style=\"background-color:#ffb3c6;\" > A Numpy array is a N-dimensional array for <em>homogenous data</em>\n",
    "- <p style=\"font-family: monospace, monaco;\"> <span style=\"background-color:#ffb3c6;\" >Homogenous Data </span> &rarr; Data of the same data type (ex: all ints) </p>\n",
    "- <p style=\"font-family: monospace, monaco;\"> There are one and two dimensional arrays of floats\n",
    "\n",
    "<img src=\"media/1-2d.png\" alt=\"one and two dimensional\" style=\"width:500px; height:250px;\" >"
   ]
  },
  {
   "cell_type": "markdown",
   "metadata": {},
   "source": [
    "<p style=\"font-family: monospace, monaco;\"> Creating a one and two dimensional array to work with: </p>"
   ]
  },
  {
   "cell_type": "code",
   "execution_count": 6,
   "metadata": {},
   "outputs": [],
   "source": [
    "import numpy as np"
   ]
  },
  {
   "cell_type": "code",
   "execution_count": 14,
   "metadata": {},
   "outputs": [],
   "source": [
    "#This constructs an array with a simple list results in a one dimensional array\n",
    "array1 = np.array([10, 100, 1000.])"
   ]
  },
  {
   "cell_type": "code",
   "execution_count": 15,
   "metadata": {},
   "outputs": [],
   "source": [
    "#This constructs an array with a nested list results in a two dimensional array\n",
    "array2 = np.array([[1., 2., 3.],\n",
    "                   [4., 5., 6.]])"
   ]
  },
  {
   "cell_type": "markdown",
   "metadata": {},
   "source": [
    "- <p style=\"font-family: monospace, manaco;\"> A one dimensional array does not have a explicit row and colomn orientation</p>\n",
    "- <p style=\"font-family: monospace, manaco;\"> <code>Float64</code> is able to accomadate all elements. Were able to see this because <code>array1</code> has all <code>ints</code> except the last number which is a <code>float</code>, this turns the entire data type into <code>float64</code>\n",
    "- <p style=\"font-family: monospace, manaco;\"> To access its data type us can use dtype: </p>"
   ]
  },
  {
   "cell_type": "code",
   "execution_count": 17,
   "metadata": {},
   "outputs": [
    {
     "data": {
      "text/plain": [
       "dtype('float64')"
      ]
     },
     "execution_count": 17,
     "metadata": {},
     "output_type": "execute_result"
    }
   ],
   "source": [
    "array1.dtype"
   ]
  },
  {
   "cell_type": "markdown",
   "metadata": {},
   "source": [
    "- <p style=\"font-family: monospace, monaco;\"> Numpy uses its own data types, which are more granular than Pythons</p>\n",
    "- <p style=\"font-family: monospace, monaco;\"> You can manually convert a Numpy data type back to a Python data type by doing:"
   ]
  },
  {
   "cell_type": "code",
   "execution_count": 13,
   "metadata": {},
   "outputs": [
    {
     "data": {
      "text/plain": [
       "10.0"
      ]
     },
     "execution_count": 13,
     "metadata": {},
     "output_type": "execute_result"
    }
   ],
   "source": [
    "float(array1[0])"
   ]
  },
  {
   "cell_type": "markdown",
   "metadata": {},
   "source": [
    "### <p style=\"font-family: monospace, monaco;\"> Vectorization and Broadcasting</p>\n",
    "- <p style=\"font-family: monospace, monaco;\"> When building the sum of a scalar and Numpy array, Numpy preforms an element-wise operation refered to as  Vectorization</p>\n",
    "- <p style=\"font-family: monospace, monaco;\"> Vectorization allows you to write concise code practically representing the mathmatical notation: </p>"
   ]
  },
  {
   "cell_type": "code",
   "execution_count": 19,
   "metadata": {},
   "outputs": [
    {
     "data": {
      "text/plain": [
       "array([[2., 3., 4.],\n",
       "       [5., 6., 7.]])"
      ]
     },
     "execution_count": 19,
     "metadata": {},
     "output_type": "execute_result"
    }
   ],
   "source": [
    "array2 + 1"
   ]
  },
  {
   "cell_type": "markdown",
   "metadata": {},
   "source": [
    "- <p style=\"font-family: monospace, monaco;\">Scalar &rarr; refers to basic Python data types like float and string</p>\n",
    "- <p style=\"font-family: monospace, monaco;\"> When working with two arrays, Numpy still uses the element-wise operation: <p>"
   ]
  },
  {
   "cell_type": "code",
   "execution_count": 21,
   "metadata": {},
   "outputs": [
    {
     "data": {
      "text/plain": [
       "array([[ 1.,  4.,  9.],\n",
       "       [16., 25., 36.]])"
      ]
     },
     "execution_count": 21,
     "metadata": {},
     "output_type": "execute_result"
    }
   ],
   "source": [
    "array2 * array2"
   ]
  },
  {
   "cell_type": "markdown",
   "metadata": {},
   "source": [
    "- <p style=\"font-family: monospace, monaco;\">Broadcasting &rarr; When using two arrays with different shapes, Numpy extends the smaller array over the larger array making their shape compatible (automatically, and only when possible)</p>"
   ]
  },
  {
   "cell_type": "code",
   "execution_count": 22,
   "metadata": {},
   "outputs": [
    {
     "data": {
      "text/plain": [
       "array([[  10.,  200., 3000.],\n",
       "       [  40.,  500., 6000.]])"
      ]
     },
     "execution_count": 22,
     "metadata": {},
     "output_type": "execute_result"
    }
   ],
   "source": [
    "array2 * array1"
   ]
  },
  {
   "cell_type": "markdown",
   "metadata": {},
   "source": [
    "- <p style=\"font-family: monospace, monaco;\"> When preforming matrix multiplications or dot products, use the <code>@</code></p>"
   ]
  },
  {
   "cell_type": "code",
   "execution_count": 23,
   "metadata": {},
   "outputs": [
    {
     "data": {
      "text/plain": [
       "array([[14., 32.],\n",
       "       [32., 77.]])"
      ]
     },
     "execution_count": 23,
     "metadata": {},
     "output_type": "execute_result"
    }
   ],
   "source": [
    "array2 @ array2.T #array2.T is short for array.transpose()"
   ]
  },
  {
   "cell_type": "markdown",
   "metadata": {},
   "source": [
    "- <p style=\"font-family: monospace, monaco;\"> The .transpose() function turns all column elements into row elements and all row elements into column elements (basically flip flopping the rows and colums)</p> "
   ]
  },
  {
   "cell_type": "markdown",
   "metadata": {},
   "source": [
    "### <p style=\"font-family: monospace, monaco;\"> Universal Function (ufunc) </p>\n",
    "- <p style=\"font-family: monospace, monaco;\"> Universal Function (ufunc) &rarr; works on every single element in a Numpy array\n",
    "<p style=\"font-family: monospace, monaco;\"> &nbsp;&nbsp;&nbsp;&nbsp;&nbsp;&nbsp;&nbsp;&nbsp; Ex] Using the Python sqrt function will produce an error when used on a Numpy array:"
   ]
  },
  {
   "cell_type": "code",
   "execution_count": 25,
   "metadata": {},
   "outputs": [
    {
     "ename": "TypeError",
     "evalue": "only length-1 arrays can be converted to Python scalars",
     "output_type": "error",
     "traceback": [
      "\u001b[0;31m---------------------------------------------------------------------------\u001b[0m",
      "\u001b[0;31mTypeError\u001b[0m                                 Traceback (most recent call last)",
      "Cell \u001b[0;32mIn[25], line 2\u001b[0m\n\u001b[1;32m      1\u001b[0m \u001b[38;5;28;01mimport\u001b[39;00m \u001b[38;5;21;01mmath\u001b[39;00m\n\u001b[0;32m----> 2\u001b[0m \u001b[43mmath\u001b[49m\u001b[38;5;241;43m.\u001b[39;49m\u001b[43msqrt\u001b[49m\u001b[43m(\u001b[49m\u001b[43marray2\u001b[49m\u001b[43m)\u001b[49m\n",
      "\u001b[0;31mTypeError\u001b[0m: only length-1 arrays can be converted to Python scalars"
     ]
    }
   ],
   "source": [
    "import math\n",
    "math.sqrt(array2)"
   ]
  },
  {
   "cell_type": "markdown",
   "metadata": {},
   "source": [
    "- <p style=\"font-family: monospace, monaco;\">You can create a nested loop, and get the sqrt of every element, then build a Numpy array again with the results: </p>"
   ]
  },
  {
   "cell_type": "code",
   "execution_count": 26,
   "metadata": {},
   "outputs": [
    {
     "data": {
      "text/plain": [
       "array([[1.        , 1.41421356, 1.73205081],\n",
       "       [2.        , 2.23606798, 2.44948974]])"
      ]
     },
     "execution_count": 26,
     "metadata": {},
     "output_type": "execute_result"
    }
   ],
   "source": [
    "np.array([[math.sqrt(i) for i in row] for row in array2])"
   ]
  },
  {
   "cell_type": "markdown",
   "metadata": {},
   "source": [
    "- <p style=\"font-family: monospace, monaco;\"> While this works in cases when Numpy does not offer a ufunc and the array is small enough, using Numpys ufunc (if available) will be much faster and better with big arrays (also better to type and read)</p>"
   ]
  },
  {
   "cell_type": "code",
   "execution_count": 27,
   "metadata": {},
   "outputs": [
    {
     "data": {
      "text/plain": [
       "array([[1.        , 1.41421356, 1.73205081],\n",
       "       [2.        , 2.23606798, 2.44948974]])"
      ]
     },
     "execution_count": 27,
     "metadata": {},
     "output_type": "execute_result"
    }
   ],
   "source": [
    "np.sqrt(array2)"
   ]
  },
  {
   "cell_type": "markdown",
   "metadata": {},
   "source": [
    "- <p style=\"font-family: monospace, monaco;\"> Some of NumPy's ufuncs like <code>sum</code> are also available as array methods</p>\n",
    "- <p style=\"font-family: monospace, monaco;\"> To find the sum of each column you can do: </p>"
   ]
  },
  {
   "cell_type": "code",
   "execution_count": 28,
   "metadata": {},
   "outputs": [
    {
     "data": {
      "text/plain": [
       "array([5., 7., 9.])"
      ]
     },
     "execution_count": 28,
     "metadata": {},
     "output_type": "execute_result"
    }
   ],
   "source": [
    "array2.sum(axis=0)"
   ]
  },
  {
   "cell_type": "markdown",
   "metadata": {},
   "source": [
    "- <p style=\"font-family: monospace, monaco;\"> <code>axis=0</code> &rarr; the axis along the rows (columns) </p>\n",
    "- <p style=\"font-family: monospace, monaco;\"> <code>axis=1</code> &rarr; the axis along the columns (rows) </p>\n",
    "- <p style=\"font-family: monospace, monaco;\"> Just using <code>sum</code>, sums up the whole array</p>"
   ]
  },
  {
   "cell_type": "code",
   "execution_count": 29,
   "metadata": {},
   "outputs": [
    {
     "data": {
      "text/plain": [
       "np.float64(21.0)"
      ]
     },
     "execution_count": 29,
     "metadata": {},
     "output_type": "execute_result"
    }
   ],
   "source": [
    "array2.sum()"
   ]
  },
  {
   "cell_type": "markdown",
   "metadata": {},
   "source": [
    "- <p style=\"font-family: monospace, monaco;\"> NumPy unfuncs can be used with pandas DataFrames</p>"
   ]
  },
  {
   "cell_type": "markdown",
   "metadata": {},
   "source": [
    "\n",
    "### <p style=\"font-family: monospace, monaco;\"> Creating and Manipulating Arrays</p> \n",
    "**<p style=\"font-family: monospace, monaco;\"> Getting and Setting Array Elements </p>**\n",
    "- <p style=\"font-family: monospace, monaco;\"> When working with nested list like <code>matrix</code>, you can use chaind indexing: <code>matrix[0][0]</code>. This will get you the first element of the first row </p>\n",
    "- <p style=\"font-family: monospace, monaco;\"> With NumPy, you provide both the index and slice operation in a single bracket: </p>"
   ]
  },
  {
   "cell_type": "code",
   "execution_count": null,
   "metadata": {},
   "outputs": [],
   "source": [
    "numpy_array[row_selection, column_selection] "
   ]
  },
  {
   "cell_type": "markdown",
   "metadata": {},
   "source": [
    "- <p style=\"font-family: monospace, monaco;\"> For a one dimensional array, youd write: <code>numpy_array[selection]</code> </p>\n",
    "- <p style=\"font-family: monospace, monaco;\"> The slice notion includes the start index and excludes the end index, like: <code>start:end</code></p>\n",
    "- <p style=\"font-family: monospace, monaco;\"> When removing the start and end index, you are left with a colon, which stands for all rows or all columns</p>\n",
    "- <p style=\"font-family: monospace, monaco;\"> When slicing a column or row of a two dimensional array, you are left with a one dimensional array, not a two dimensional row or column vector</p>\n",
    "<img src=\"../media/slice.png\" alt=\"slice examples\" style=\"height: 100px; width: 500px;\">\n",
    "- <p style=\"font-family: monospace, monaco;\"> Examples from image shown above:m</p>"
   ]
  },
  {
   "cell_type": "code",
   "execution_count": 32,
   "metadata": {},
   "outputs": [
    {
     "data": {
      "text/plain": [
       "np.float64(1000.0)"
      ]
     },
     "execution_count": 32,
     "metadata": {},
     "output_type": "execute_result"
    }
   ],
   "source": [
    "array1[2] #returns a scalar"
   ]
  },
  {
   "cell_type": "code",
   "execution_count": 33,
   "metadata": {},
   "outputs": [
    {
     "data": {
      "text/plain": [
       "np.float64(1.0)"
      ]
     },
     "execution_count": 33,
     "metadata": {},
     "output_type": "execute_result"
    }
   ],
   "source": [
    "array2[0,0] #returns a scalar"
   ]
  },
  {
   "cell_type": "code",
   "execution_count": 34,
   "metadata": {},
   "outputs": [
    {
     "data": {
      "text/plain": [
       "array([[2., 3.],\n",
       "       [5., 6.]])"
      ]
     },
     "execution_count": 34,
     "metadata": {},
     "output_type": "execute_result"
    }
   ],
   "source": [
    "array2[:,1:] #returns a 2d array"
   ]
  },
  {
   "cell_type": "code",
   "execution_count": 35,
   "metadata": {},
   "outputs": [
    {
     "data": {
      "text/plain": [
       "array([2., 5.])"
      ]
     },
     "execution_count": 35,
     "metadata": {},
     "output_type": "execute_result"
    }
   ],
   "source": [
    "array2[:,1] #returns a 1d array"
   ]
  },
  {
   "cell_type": "code",
   "execution_count": 36,
   "metadata": {},
   "outputs": [
    {
     "data": {
      "text/plain": [
       "array([4., 5.])"
      ]
     },
     "execution_count": 36,
     "metadata": {},
     "output_type": "execute_result"
    }
   ],
   "source": [
    "array2[1, :2] #returns a 1d array"
   ]
  },
  {
   "cell_type": "markdown",
   "metadata": {},
   "source": [
    "<strong><p style=\"font-family: monospace, monaco;\">Useful Array Constructors</p></strong>\n",
    "- <p style=\"font-family: monospace, monaco;\"> You can easily create an array by using <code>arange</code> which stands for array range</p>\n",
    "- <p style=\"font-family: monospace, monaco;\"> <code>arange</code> is similar to the built in <code>range</code>, the only difference is <code>arange</code> returns a NumPy array</p>\n",
    "- <p style=\"font-family: monospace, monaco;\"> Using <code>reshape</code> allows us to generate an array with desired dimensions</p>\n"
   ]
  },
  {
   "cell_type": "code",
   "execution_count": 37,
   "metadata": {},
   "outputs": [
    {
     "data": {
      "text/plain": [
       "array([[0, 1, 2, 3, 4],\n",
       "       [5, 6, 7, 8, 9]])"
      ]
     },
     "execution_count": 37,
     "metadata": {},
     "output_type": "execute_result"
    }
   ],
   "source": [
    "np.arange(2*5).reshape(2,5) #2 rows, 5 columns"
   ]
  },
  {
   "cell_type": "markdown",
   "metadata": {},
   "source": [
    "- <p style=\"font-family: monospace, monaco;\"> Could also be needed to generate an array eith psuedorandom numbers.</p>"
   ]
  },
  {
   "cell_type": "code",
   "execution_count": 38,
   "metadata": {},
   "outputs": [
    {
     "data": {
      "text/plain": [
       "array([[ 0.88011096, -0.83695597, -0.23195625],\n",
       "       [ 0.49071027,  1.33413016, -0.337547  ]])"
      ]
     },
     "execution_count": 38,
     "metadata": {},
     "output_type": "execute_result"
    }
   ],
   "source": [
    "np.random.randn(2,3) #2 rows, 3 columns"
   ]
  },
  {
   "cell_type": "markdown",
   "metadata": {},
   "source": [
    "- <p style=\"font-family: monospace, monaco;\"> Another useful constructors are <code>np.ones</code> and <code>np.zeros</code> to create an array of ones and zeros. There is also <code>np.eye</code> which is used to create an identity matrix</p>\n",
    "<strong><p style=\"font-family: monospace, monaco;\"> View vs. Copy</p></strong>\n",
    "- <p style=\"font-family: monospace, monaco;\"> When slicing an array, it returns a view, this means that you are working with a subset of the original data, which means you are changing the original array as it isnt a copy</p>"
   ]
  },
  {
   "cell_type": "code",
   "execution_count": 39,
   "metadata": {},
   "outputs": [
    {
     "data": {
      "text/plain": [
       "array([[1., 2., 3.],\n",
       "       [4., 5., 6.]])"
      ]
     },
     "execution_count": 39,
     "metadata": {},
     "output_type": "execute_result"
    }
   ],
   "source": [
    "array2"
   ]
  },
  {
   "cell_type": "code",
   "execution_count": 40,
   "metadata": {},
   "outputs": [
    {
     "data": {
      "text/plain": [
       "array([[1., 2.],\n",
       "       [4., 5.]])"
      ]
     },
     "execution_count": 40,
     "metadata": {},
     "output_type": "execute_result"
    }
   ],
   "source": [
    "subset = array2[:,:2]\n",
    "subset"
   ]
  },
  {
   "cell_type": "code",
   "execution_count": 42,
   "metadata": {},
   "outputs": [
    {
     "data": {
      "text/plain": [
       "array([[1000.,    2.],\n",
       "       [   4.,    5.]])"
      ]
     },
     "execution_count": 42,
     "metadata": {},
     "output_type": "execute_result"
    }
   ],
   "source": [
    "subset[0,0] = 1000\n",
    "subset"
   ]
  },
  {
   "cell_type": "code",
   "execution_count": 43,
   "metadata": {},
   "outputs": [
    {
     "data": {
      "text/plain": [
       "array([[1000.,    2.,    3.],\n",
       "       [   4.,    5.,    6.]])"
      ]
     },
     "execution_count": 43,
     "metadata": {},
     "output_type": "execute_result"
    }
   ],
   "source": [
    "array2"
   ]
  },
  {
   "cell_type": "markdown",
   "metadata": {},
   "source": [
    "- <p style=\"font-family: monospace, monaco;\"> If that is not what you wanted, you have to add <code> .copy()</code>< at the end of the line where uyou are setting the array as the value of subset: </p>"
   ]
  },
  {
   "cell_type": "code",
   "execution_count": 44,
   "metadata": {},
   "outputs": [],
   "source": [
    "subset = array2[:, :2].copy()"
   ]
  },
  {
   "cell_type": "markdown",
   "metadata": {},
   "source": [
    "### <p style=\"font-family: monospace, monaco;\"> Conclusion</p>\n",
    "- <p style=\"font-family: monospace, monaco;\"> once text is invloved, the array will have a datatype of <code>object</code>, which mathmatical equations cant be preformed on</p>\n"
   ]
  }
 ],
 "metadata": {
  "kernelspec": {
   "display_name": "Python 3",
   "language": "python",
   "name": "python3"
  },
  "language_info": {
   "codemirror_mode": {
    "name": "ipython",
    "version": 3
   },
   "file_extension": ".py",
   "mimetype": "text/x-python",
   "name": "python",
   "nbconvert_exporter": "python",
   "pygments_lexer": "ipython3",
   "version": "3.11.4"
  }
 },
 "nbformat": 4,
 "nbformat_minor": 2
}
