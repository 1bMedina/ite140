{
 "cells": [
  {
   "cell_type": "code",
   "execution_count": 3,
   "metadata": {},
   "outputs": [],
   "source": [
    "import pandas as pd\n",
    "\n",
    "crime = pd.read_csv(\"datasets/Crime_Data_from_2020_to_Present.csv\")"
   ]
  },
  {
   "cell_type": "code",
   "execution_count": 4,
   "metadata": {},
   "outputs": [],
   "source": [
    "from pandasql import sqldf"
   ]
  },
  {
   "cell_type": "code",
   "execution_count": 5,
   "metadata": {},
   "outputs": [
    {
     "name": "stdout",
     "output_type": "stream",
     "text": [
      "        TIME OCC                                        Crm Cd Desc\n",
      "0           2130                                   VEHICLE - STOLEN\n",
      "1           1800                              BURGLARY FROM VEHICLE\n",
      "2           1700                                      BIKE - STOLEN\n",
      "3           2037           SHOPLIFTING-GRAND THEFT ($950.01 & OVER)\n",
      "4           1200                                  THEFT OF IDENTITY\n",
      "...          ...                                                ...\n",
      "984040      1400                                   VEHICLE - STOLEN\n",
      "984041       100           VANDALISM - MISDEAMEANOR ($399 OR UNDER)\n",
      "984042      2330  THEFT-GRAND ($950.01 & OVER)EXCPT,GUNS,FOWL,LI...\n",
      "984043      1500     ASSAULT WITH DEADLY WEAPON, AGGRAVATED ASSAULT\n",
      "984044      2300                                   VEHICLE - STOLEN\n",
      "\n",
      "[984045 rows x 2 columns]\n"
     ]
    }
   ],
   "source": [
    "print(sqldf('''\n",
    "            SELECT \"TIME OCC\", \"Crm Cd Desc\"\n",
    "            FROM crime\n",
    "            '''))"
   ]
  },
  {
   "cell_type": "code",
   "execution_count": 6,
   "metadata": {},
   "outputs": [
    {
     "name": "stdout",
     "output_type": "stream",
     "text": [
      "                                  Crm Cd Desc\n",
      "0                            VEHICLE - STOLEN\n",
      "1                       BURGLARY FROM VEHICLE\n",
      "2                               BIKE - STOLEN\n",
      "3    SHOPLIFTING-GRAND THEFT ($950.01 & OVER)\n",
      "4                           THEFT OF IDENTITY\n",
      "..                                        ...\n",
      "135                           INCITING A RIOT\n",
      "136        DISHONEST EMPLOYEE ATTEMPTED THEFT\n",
      "137                       FAILURE TO DISPERSE\n",
      "138                            TRAIN WRECKING\n",
      "139                      DRUNK ROLL - ATTEMPT\n",
      "\n",
      "[140 rows x 1 columns]\n"
     ]
    }
   ],
   "source": [
    "print(sqldf(\"\"\"\n",
    "            SELECT DISTINCT \"Crm Cd Desc\"\n",
    "            FROM crime\n",
    "            \"\"\"))"
   ]
  },
  {
   "cell_type": "markdown",
   "metadata": {},
   "source": [
    "All the unique crimes from 2020-now."
   ]
  },
  {
   "cell_type": "code",
   "execution_count": 7,
   "metadata": {},
   "outputs": [
    {
     "name": "stdout",
     "output_type": "stream",
     "text": [
      "                Crm Cd Desc\n",
      "0          VEHICLE - STOLEN\n",
      "1             BIKE - STOLEN\n",
      "2  VEHICLE - ATTEMPT STOLEN\n",
      "3             BOAT - STOLEN\n",
      "4   BIKE - ATTEMPTED STOLEN\n"
     ]
    }
   ],
   "source": [
    "print(sqldf( \"\"\"\n",
    "            SELECT DISTINCT \"Crm Cd Desc\"\n",
    "            FROM crime\n",
    "            WHERE \"Crm Cd Desc\" LIKE \"%STOLEN\"\n",
    "            \"\"\"))"
   ]
  },
  {
   "cell_type": "markdown",
   "metadata": {},
   "source": [
    "These were items that were either stolen or attempted at stealing from 2020 - now."
   ]
  },
  {
   "cell_type": "code",
   "execution_count": 8,
   "metadata": {},
   "outputs": [
    {
     "name": "stdout",
     "output_type": "stream",
     "text": [
      "   COUNT(\"Crm Cd Desc\")\n",
      "0                123043\n"
     ]
    }
   ],
   "source": [
    "print(sqldf( \"\"\"\n",
    "            SELECT COUNT(\"Crm Cd Desc\")\n",
    "            FROM crime\n",
    "            WHERE \"Crm Cd Desc\" LIKE \"%STOLEN\"\n",
    "            \"\"\"))"
   ]
  },
  {
   "cell_type": "markdown",
   "metadata": {},
   "source": [
    "In LA between 2020 and now, there have been 123,043 things stolen, whethere that range from a bike to a boat and if it was an attempt or successful. "
   ]
  },
  {
   "cell_type": "code",
   "execution_count": 11,
   "metadata": {},
   "outputs": [
    {
     "name": "stdout",
     "output_type": "stream",
     "text": [
      "                 Crm Cd Desc  TIME OCC\n",
      "0           VEHICLE - STOLEN      1000\n",
      "1           VEHICLE - STOLEN       950\n",
      "2   VEHICLE - ATTEMPT STOLEN       900\n",
      "3           VEHICLE - STOLEN       900\n",
      "4              BIKE - STOLEN       935\n",
      "..                       ...       ...\n",
      "86          VEHICLE - STOLEN       906\n",
      "87             BIKE - STOLEN       939\n",
      "88          VEHICLE - STOLEN       919\n",
      "89  VEHICLE - ATTEMPT STOLEN       938\n",
      "90          VEHICLE - STOLEN       901\n",
      "\n",
      "[91 rows x 2 columns]\n"
     ]
    }
   ],
   "source": [
    "print(sqldf( \"\"\"\n",
    "            SELECT DISTINCT \"Crm Cd Desc\", \"Time OCC\"\n",
    "            FROM crime\n",
    "            WHERE \"Crm Cd Desc\" LIKE \"%STOLEN\"\n",
    "            AND \"Time OCC\" BETWEEN 0900 AND 1000\n",
    "            \"\"\"))"
   ]
  },
  {
   "cell_type": "code",
   "execution_count": 12,
   "metadata": {},
   "outputs": [
    {
     "name": "stdout",
     "output_type": "stream",
     "text": [
      "                          Crm Cd Desc  TIME OCC\n",
      "0                  BUNCO, GRAND THEFT      1800\n",
      "1    DISHONEST EMPLOYEE - GRAND THEFT      1320\n",
      "2    DISHONEST EMPLOYEE - PETTY THEFT      1400\n",
      "3  DISHONEST EMPLOYEE ATTEMPTED THEFT      1900\n"
     ]
    }
   ],
   "source": [
    "print(sqldf( \"\"\"\n",
    "            SELECT DISTINCT \"Crm Cd Desc\", \"Time OCC\"\n",
    "            FROM crime\n",
    "            WHERE \"Crm Cd Desc\" LIKE \"%THEFT\"\n",
    "            GROUP BY \"Crm Cd Desc\" HAVING \"Time OCC\" > 900\n",
    "            \"\"\"))"
   ]
  },
  {
   "cell_type": "code",
   "execution_count": 15,
   "metadata": {},
   "outputs": [
    {
     "name": "stdout",
     "output_type": "stream",
     "text": [
      "                                              Crm Cd Desc  TIME OCC\n",
      "0                                        VEHICLE - STOLEN      2130\n",
      "1                                   BURGLARY FROM VEHICLE      1800\n",
      "2                                           BIKE - STOLEN      1700\n",
      "3                SHOPLIFTING-GRAND THEFT ($950.01 & OVER)      2037\n",
      "4                                       THEFT OF IDENTITY      2300\n",
      "...                                                   ...       ...\n",
      "499608  THEFT-GRAND ($950.01 & OVER)EXCPT,GUNS,FOWL,LI...      2300\n",
      "499609  THEFT-GRAND ($950.01 & OVER)EXCPT,GUNS,FOWL,LI...      1546\n",
      "499610  THEFT-GRAND ($950.01 & OVER)EXCPT,GUNS,FOWL,LI...      2330\n",
      "499611     ASSAULT WITH DEADLY WEAPON, AGGRAVATED ASSAULT      1500\n",
      "499612                                   VEHICLE - STOLEN      2300\n",
      "\n",
      "[499613 rows x 2 columns]\n"
     ]
    }
   ],
   "source": [
    "#im unsure of why it wont work\n",
    "print(sqldf( \"\"\"\n",
    "            SELECT \"Crm Cd Desc\", \"Time OCC\"\n",
    "            FROM crime\n",
    "            WHERE \"Time OCC\" > (\n",
    "            SELECT \"Time OCC\" FROM crime\n",
    "                  WHERE \"Time OCC\" BETWEEN 1300 AND 1400\n",
    "            )\n",
    "            \"\"\"))\n"
   ]
  }
 ],
 "metadata": {
  "kernelspec": {
   "display_name": "Python 3",
   "language": "python",
   "name": "python3"
  },
  "language_info": {
   "codemirror_mode": {
    "name": "ipython",
    "version": 3
   },
   "file_extension": ".py",
   "mimetype": "text/x-python",
   "name": "python",
   "nbconvert_exporter": "python",
   "pygments_lexer": "ipython3",
   "version": "3.11.4"
  }
 },
 "nbformat": 4,
 "nbformat_minor": 2
}
