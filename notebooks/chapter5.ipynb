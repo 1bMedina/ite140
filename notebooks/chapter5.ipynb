{
 "cells": [
  {
   "cell_type": "markdown",
   "metadata": {},
   "source": [
    "## <p align=\"center\" style=\"font-family: monospace, monaco;\"> Chapter 5 - Data Analysis with Pandas </p>\n",
    "### <p align=\"center\" style=\"font-family: monospace, monaco;\"> Jupyter Notebook </p>\n"
   ]
  },
  {
   "cell_type": "markdown",
   "metadata": {},
   "source": [
    "### <p style=\"font-family: monospace, monaco;\">DataFrame and Series </p>\n",
    "- <p style=\"font-family: monospace, monaco;\">a <em>DataFrame</em>, while similar to a two dimensional array in numpy, comes with column and row labels and each column can hold different datatypes</p>\n",
    "- <p style=\"font-family: monospace, monaco;\">when extracting a single column or row from a DataFrame, you get a series</p>\n",
    "- <p style=\"font-family: monospace, monaco;\">A series is like a one dimensional numpy array, but it has labels</p>\n",
    "<img src=\"media/DataFrame-Series.png\" alt=\"dataframe and series\" style=\"width: 500px; height: 300px;\">\n",
    "- <p style=\"font-family: monospace, monaco;\">Heres an example on how easy it is to switch between dataframe and excel</p>\n",
    "\n"
   ]
  },
  {
   "cell_type": "code",
   "execution_count": 3,
   "metadata": {},
   "outputs": [
    {
     "data": {
      "text/html": [
       "<div>\n",
       "<style scoped>\n",
       "    .dataframe tbody tr th:only-of-type {\n",
       "        vertical-align: middle;\n",
       "    }\n",
       "\n",
       "    .dataframe tbody tr th {\n",
       "        vertical-align: top;\n",
       "    }\n",
       "\n",
       "    .dataframe thead th {\n",
       "        text-align: right;\n",
       "    }\n",
       "</style>\n",
       "<table border=\"1\" class=\"dataframe\">\n",
       "  <thead>\n",
       "    <tr style=\"text-align: right;\">\n",
       "      <th></th>\n",
       "      <th>user_id</th>\n",
       "      <th>name</th>\n",
       "      <th>age</th>\n",
       "      <th>country</th>\n",
       "      <th>score</th>\n",
       "      <th>continent</th>\n",
       "    </tr>\n",
       "  </thead>\n",
       "  <tbody>\n",
       "    <tr>\n",
       "      <th>0</th>\n",
       "      <td>1001</td>\n",
       "      <td>Mark</td>\n",
       "      <td>55</td>\n",
       "      <td>Italy</td>\n",
       "      <td>4.5</td>\n",
       "      <td>Europe</td>\n",
       "    </tr>\n",
       "    <tr>\n",
       "      <th>1</th>\n",
       "      <td>1000</td>\n",
       "      <td>John</td>\n",
       "      <td>33</td>\n",
       "      <td>USA</td>\n",
       "      <td>6.7</td>\n",
       "      <td>America</td>\n",
       "    </tr>\n",
       "    <tr>\n",
       "      <th>2</th>\n",
       "      <td>1002</td>\n",
       "      <td>Tim</td>\n",
       "      <td>41</td>\n",
       "      <td>USA</td>\n",
       "      <td>3.9</td>\n",
       "      <td>America</td>\n",
       "    </tr>\n",
       "    <tr>\n",
       "      <th>3</th>\n",
       "      <td>1003</td>\n",
       "      <td>Jenny</td>\n",
       "      <td>12</td>\n",
       "      <td>Germany</td>\n",
       "      <td>9.0</td>\n",
       "      <td>Europe</td>\n",
       "    </tr>\n",
       "  </tbody>\n",
       "</table>\n",
       "</div>"
      ],
      "text/plain": [
       "   user_id   name  age  country  score continent\n",
       "0     1001   Mark   55    Italy    4.5    Europe\n",
       "1     1000   John   33      USA    6.7   America\n",
       "2     1002    Tim   41      USA    3.9   America\n",
       "3     1003  Jenny   12  Germany    9.0    Europe"
      ]
     },
     "execution_count": 3,
     "metadata": {},
     "output_type": "execute_result"
    }
   ],
   "source": [
    "\n",
    "import pandas as pd\n",
    "\n",
    "pd.read_excel(\"datasets/course_participants.xlsx\")"
   ]
  },
  {
   "cell_type": "markdown",
   "metadata": {},
   "source": [
    "- <p style=\"font-family: monospace, monaco;\">The DataFrame is formatted as an html table</p>\n",
    "- <p style=\"font-family: monospace, monaco;\">you can create this same DataFrame from scratch by creating a nested list using the data and setting values for the <code>columns</code> and <code>index</code></p>"
   ]
  },
  {
   "cell_type": "code",
   "execution_count": 8,
   "metadata": {},
   "outputs": [
    {
     "data": {
      "text/html": [
       "<div>\n",
       "<style scoped>\n",
       "    .dataframe tbody tr th:only-of-type {\n",
       "        vertical-align: middle;\n",
       "    }\n",
       "\n",
       "    .dataframe tbody tr th {\n",
       "        vertical-align: top;\n",
       "    }\n",
       "\n",
       "    .dataframe thead th {\n",
       "        text-align: right;\n",
       "    }\n",
       "</style>\n",
       "<table border=\"1\" class=\"dataframe\">\n",
       "  <thead>\n",
       "    <tr style=\"text-align: right;\">\n",
       "      <th></th>\n",
       "      <th>Name</th>\n",
       "      <th>Age</th>\n",
       "      <th>School</th>\n",
       "      <th>Score</th>\n",
       "      <th>County</th>\n",
       "    </tr>\n",
       "  </thead>\n",
       "  <tbody>\n",
       "    <tr>\n",
       "      <th>1</th>\n",
       "      <td>Arlo</td>\n",
       "      <td>15</td>\n",
       "      <td>Wakefield</td>\n",
       "      <td>4.5</td>\n",
       "      <td>Arlington</td>\n",
       "    </tr>\n",
       "    <tr>\n",
       "      <th>2</th>\n",
       "      <td>Olive</td>\n",
       "      <td>16</td>\n",
       "      <td>Arlington Tech</td>\n",
       "      <td>9.9</td>\n",
       "      <td>Arlington</td>\n",
       "    </tr>\n",
       "    <tr>\n",
       "      <th>3</th>\n",
       "      <td>Ally</td>\n",
       "      <td>16</td>\n",
       "      <td>H-B Woodlawn</td>\n",
       "      <td>8.7</td>\n",
       "      <td>Arlington</td>\n",
       "    </tr>\n",
       "  </tbody>\n",
       "</table>\n",
       "</div>"
      ],
      "text/plain": [
       "    Name  Age          School  Score     County\n",
       "1   Arlo   15       Wakefield    4.5  Arlington\n",
       "2  Olive   16  Arlington Tech    9.9  Arlington\n",
       "3   Ally   16    H-B Woodlawn    8.7  Arlington"
      ]
     },
     "execution_count": 8,
     "metadata": {},
     "output_type": "execute_result"
    }
   ],
   "source": [
    "data = [[\"Arlo\", 15, \"Wakefield\", 4.5, \"Arlington\"],\n",
    "        [\"Olive\", 16, \"Arlington Tech\", 9.9, \"Arlington\"],\n",
    "        [\"Ally\", 16, \"H-B Woodlawn\", 8.7, \"Arlington\"]]\n",
    "df = pd.DataFrame(data=data, columns=[\"Name\", \"Age\", \"School\", \"Score\", \"County\"], index=[1,2,3])\n",
    "\n",
    "df"
   ]
  },
  {
   "cell_type": "markdown",
   "metadata": {},
   "source": [
    "- <p style=\"font-family: monospace, monaco;\"><code>data=data</code>, the data on the left is the parameter functions name, the data on the right is the name of the variable you pass into the function as an argument</p>\n",
    "- <p style=\"font-family: monospace, monaco;\">When calling the DataFrame class with <code>data=data</code> you can change it to <code>data=source_data</code></p>\n",
    "- <p style=\"font-family: monospace, monaco;\">by calling the <code>info</code> method were given some extra information, like the number of data points and the data types for each column</p>"
   ]
  },
  {
   "cell_type": "code",
   "execution_count": 9,
   "metadata": {},
   "outputs": [
    {
     "name": "stdout",
     "output_type": "stream",
     "text": [
      "<class 'pandas.core.frame.DataFrame'>\n",
      "Index: 3 entries, 1 to 3\n",
      "Data columns (total 5 columns):\n",
      " #   Column  Non-Null Count  Dtype  \n",
      "---  ------  --------------  -----  \n",
      " 0   Name    3 non-null      object \n",
      " 1   Age     3 non-null      int64  \n",
      " 2   School  3 non-null      object \n",
      " 3   Score   3 non-null      float64\n",
      " 4   County  3 non-null      object \n",
      "dtypes: float64(1), int64(1), object(3)\n",
      "memory usage: 144.0+ bytes\n"
     ]
    }
   ],
   "source": [
    "df.info()"
   ]
  },
  {
   "cell_type": "markdown",
   "metadata": {},
   "source": [
    "#### <p style=\"font-family: monospace, monaco; font-weight: strong;\">Index</p>\n",
    "- <p style=\"font-family: monospace, monaco;\">Row labels of DataFrames are called index</p>\n",
    "- <p style=\"font-family: monospace, monaco;\">If you dont have a useful index, dont add one, pandad will add one automatically</p>\n",
    "- <p style=\"font-family: monospace, monaco;\">An index allows pandas to look up data faster and is essential for many operations</p>\n",
    "- <p style=\"font-family: monospace, monaco;\">You can access index object like the following:</p>"
   ]
  },
  {
   "cell_type": "code",
   "execution_count": 11,
   "metadata": {},
   "outputs": [
    {
     "data": {
      "text/plain": [
       "Index([1, 2, 3], dtype='int64')"
      ]
     },
     "execution_count": 11,
     "metadata": {},
     "output_type": "execute_result"
    }
   ],
   "source": [
    "df.index"
   ]
  },
  {
   "cell_type": "markdown",
   "metadata": {},
   "source": [
    "- <p style=\"font-family: monospace, monaco;\">when it makes sense to, add a name to the index</p>"
   ]
  },
  {
   "cell_type": "code",
   "execution_count": 12,
   "metadata": {},
   "outputs": [
    {
     "data": {
      "text/html": [
       "<div>\n",
       "<style scoped>\n",
       "    .dataframe tbody tr th:only-of-type {\n",
       "        vertical-align: middle;\n",
       "    }\n",
       "\n",
       "    .dataframe tbody tr th {\n",
       "        vertical-align: top;\n",
       "    }\n",
       "\n",
       "    .dataframe thead th {\n",
       "        text-align: right;\n",
       "    }\n",
       "</style>\n",
       "<table border=\"1\" class=\"dataframe\">\n",
       "  <thead>\n",
       "    <tr style=\"text-align: right;\">\n",
       "      <th></th>\n",
       "      <th>Name</th>\n",
       "      <th>Age</th>\n",
       "      <th>School</th>\n",
       "      <th>Score</th>\n",
       "      <th>County</th>\n",
       "    </tr>\n",
       "    <tr>\n",
       "      <th>user_id</th>\n",
       "      <th></th>\n",
       "      <th></th>\n",
       "      <th></th>\n",
       "      <th></th>\n",
       "      <th></th>\n",
       "    </tr>\n",
       "  </thead>\n",
       "  <tbody>\n",
       "    <tr>\n",
       "      <th>1</th>\n",
       "      <td>Arlo</td>\n",
       "      <td>15</td>\n",
       "      <td>Wakefield</td>\n",
       "      <td>4.5</td>\n",
       "      <td>Arlington</td>\n",
       "    </tr>\n",
       "    <tr>\n",
       "      <th>2</th>\n",
       "      <td>Olive</td>\n",
       "      <td>16</td>\n",
       "      <td>Arlington Tech</td>\n",
       "      <td>9.9</td>\n",
       "      <td>Arlington</td>\n",
       "    </tr>\n",
       "    <tr>\n",
       "      <th>3</th>\n",
       "      <td>Ally</td>\n",
       "      <td>16</td>\n",
       "      <td>H-B Woodlawn</td>\n",
       "      <td>8.7</td>\n",
       "      <td>Arlington</td>\n",
       "    </tr>\n",
       "  </tbody>\n",
       "</table>\n",
       "</div>"
      ],
      "text/plain": [
       "          Name  Age          School  Score     County\n",
       "user_id                                              \n",
       "1         Arlo   15       Wakefield    4.5  Arlington\n",
       "2        Olive   16  Arlington Tech    9.9  Arlington\n",
       "3         Ally   16    H-B Woodlawn    8.7  Arlington"
      ]
     },
     "execution_count": 12,
     "metadata": {},
     "output_type": "execute_result"
    }
   ],
   "source": [
    "df.index.name = \"user_id\"\n",
    "\n",
    "df"
   ]
  },
  {
   "cell_type": "markdown",
   "metadata": {},
   "source": [
    "- <p style=\"font-family: monospace, monaco;\">DataFrames can have duplicates, this will make looking up values slower</p>\n",
    "- <p style=\"font-family: monospace, monaco;\">to turn an index into a regular column use <code>reset_index()</code></p>\n",
    "- <p style=\"font-family: monospace, monaco;\">to set a new index use <code>set_index()</code></p>\n",
    "- <p style=\"font-family: monospace, monaco;\">if you dont want to lose your existing index when setting a new one, reset it first</p>"
   ]
  },
  {
   "cell_type": "code",
   "execution_count": 14,
   "metadata": {},
   "outputs": [
    {
     "data": {
      "text/html": [
       "<div>\n",
       "<style scoped>\n",
       "    .dataframe tbody tr th:only-of-type {\n",
       "        vertical-align: middle;\n",
       "    }\n",
       "\n",
       "    .dataframe tbody tr th {\n",
       "        vertical-align: top;\n",
       "    }\n",
       "\n",
       "    .dataframe thead th {\n",
       "        text-align: right;\n",
       "    }\n",
       "</style>\n",
       "<table border=\"1\" class=\"dataframe\">\n",
       "  <thead>\n",
       "    <tr style=\"text-align: right;\">\n",
       "      <th></th>\n",
       "      <th>user_id</th>\n",
       "      <th>Age</th>\n",
       "      <th>School</th>\n",
       "      <th>Score</th>\n",
       "      <th>County</th>\n",
       "    </tr>\n",
       "    <tr>\n",
       "      <th>Name</th>\n",
       "      <th></th>\n",
       "      <th></th>\n",
       "      <th></th>\n",
       "      <th></th>\n",
       "      <th></th>\n",
       "    </tr>\n",
       "  </thead>\n",
       "  <tbody>\n",
       "    <tr>\n",
       "      <th>Arlo</th>\n",
       "      <td>1</td>\n",
       "      <td>15</td>\n",
       "      <td>Wakefield</td>\n",
       "      <td>4.5</td>\n",
       "      <td>Arlington</td>\n",
       "    </tr>\n",
       "    <tr>\n",
       "      <th>Olive</th>\n",
       "      <td>2</td>\n",
       "      <td>16</td>\n",
       "      <td>Arlington Tech</td>\n",
       "      <td>9.9</td>\n",
       "      <td>Arlington</td>\n",
       "    </tr>\n",
       "    <tr>\n",
       "      <th>Ally</th>\n",
       "      <td>3</td>\n",
       "      <td>16</td>\n",
       "      <td>H-B Woodlawn</td>\n",
       "      <td>8.7</td>\n",
       "      <td>Arlington</td>\n",
       "    </tr>\n",
       "  </tbody>\n",
       "</table>\n",
       "</div>"
      ],
      "text/plain": [
       "       user_id  Age          School  Score     County\n",
       "Name                                                 \n",
       "Arlo         1   15       Wakefield    4.5  Arlington\n",
       "Olive        2   16  Arlington Tech    9.9  Arlington\n",
       "Ally         3   16    H-B Woodlawn    8.7  Arlington"
      ]
     },
     "execution_count": 14,
     "metadata": {},
     "output_type": "execute_result"
    }
   ],
   "source": [
    "# reset_index, turns user_id into a normal column leaving index filled automatically by pandas\n",
    "# set_index, sets \"Name\" column to the new index\n",
    "\n",
    "df.reset_index().set_index(\"Name\")"
   ]
  },
  {
   "cell_type": "markdown",
   "metadata": {},
   "source": [
    "- <p style=\"font-family: monospace, monaco;\">doing <code>df.reset_index().set_index(\"Name\")</code> is using <em>method chaining</em></p>\n",
    "- <p style=\"font-family: monospace, monaco;\">because <code>reset_index</code> returns a DataFrame you can directly call another DataFrame method</p>\n",
    "- <p style=\"font-family: monospace, monaco;\">when calling a method on a DataFrame in the form as <code>df.method_name()</code> you are creating a copy of that DataFrame with the method applied, the original DataFrame is untouched unless you do <code>df = df.method_name()</code></p>\n",
    "-- <p style=\"font-family: monospace, monaco;\">to change the index use the <code>reindex</code> method</p>"
   ]
  },
  {
   "cell_type": "code",
   "execution_count": 16,
   "metadata": {},
   "outputs": [
    {
     "data": {
      "text/html": [
       "<div>\n",
       "<style scoped>\n",
       "    .dataframe tbody tr th:only-of-type {\n",
       "        vertical-align: middle;\n",
       "    }\n",
       "\n",
       "    .dataframe tbody tr th {\n",
       "        vertical-align: top;\n",
       "    }\n",
       "\n",
       "    .dataframe thead th {\n",
       "        text-align: right;\n",
       "    }\n",
       "</style>\n",
       "<table border=\"1\" class=\"dataframe\">\n",
       "  <thead>\n",
       "    <tr style=\"text-align: right;\">\n",
       "      <th></th>\n",
       "      <th>Name</th>\n",
       "      <th>Age</th>\n",
       "      <th>School</th>\n",
       "      <th>Score</th>\n",
       "      <th>County</th>\n",
       "    </tr>\n",
       "    <tr>\n",
       "      <th>user_id</th>\n",
       "      <th></th>\n",
       "      <th></th>\n",
       "      <th></th>\n",
       "      <th></th>\n",
       "      <th></th>\n",
       "    </tr>\n",
       "  </thead>\n",
       "  <tbody>\n",
       "    <tr>\n",
       "      <th>3</th>\n",
       "      <td>Ally</td>\n",
       "      <td>16.0</td>\n",
       "      <td>H-B Woodlawn</td>\n",
       "      <td>8.7</td>\n",
       "      <td>Arlington</td>\n",
       "    </tr>\n",
       "    <tr>\n",
       "      <th>6</th>\n",
       "      <td>NaN</td>\n",
       "      <td>NaN</td>\n",
       "      <td>NaN</td>\n",
       "      <td>NaN</td>\n",
       "      <td>NaN</td>\n",
       "    </tr>\n",
       "    <tr>\n",
       "      <th>2</th>\n",
       "      <td>Olive</td>\n",
       "      <td>16.0</td>\n",
       "      <td>Arlington Tech</td>\n",
       "      <td>9.9</td>\n",
       "      <td>Arlington</td>\n",
       "    </tr>\n",
       "    <tr>\n",
       "      <th>12</th>\n",
       "      <td>NaN</td>\n",
       "      <td>NaN</td>\n",
       "      <td>NaN</td>\n",
       "      <td>NaN</td>\n",
       "      <td>NaN</td>\n",
       "    </tr>\n",
       "  </tbody>\n",
       "</table>\n",
       "</div>"
      ],
      "text/plain": [
       "          Name   Age          School  Score     County\n",
       "user_id                                               \n",
       "3         Ally  16.0    H-B Woodlawn    8.7  Arlington\n",
       "6          NaN   NaN             NaN    NaN        NaN\n",
       "2        Olive  16.0  Arlington Tech    9.9  Arlington\n",
       "12         NaN   NaN             NaN    NaN        NaN"
      ]
     },
     "execution_count": 16,
     "metadata": {},
     "output_type": "execute_result"
    }
   ],
   "source": [
    "df.reindex([3,6,2,12])\n"
   ]
  },
  {
   "cell_type": "markdown",
   "metadata": {},
   "source": [
    "- <p style=\"font-family: monospace, monaco;\"><code>reindex</code> will take over all the existing rows that match, and in the new indexs introduce rows with a missing value (<code>NaN</code>)</p>\n",
    "- <p style=\"font-family: monospace, monaco;\">index elements left away will be dropped</p>\n",
    "- <p style=\"font-family: monospace, monaco;\">to sort an index use <code>sort_index</code></p>"
   ]
  },
  {
   "cell_type": "code",
   "execution_count": 17,
   "metadata": {},
   "outputs": [
    {
     "data": {
      "text/html": [
       "<div>\n",
       "<style scoped>\n",
       "    .dataframe tbody tr th:only-of-type {\n",
       "        vertical-align: middle;\n",
       "    }\n",
       "\n",
       "    .dataframe tbody tr th {\n",
       "        vertical-align: top;\n",
       "    }\n",
       "\n",
       "    .dataframe thead th {\n",
       "        text-align: right;\n",
       "    }\n",
       "</style>\n",
       "<table border=\"1\" class=\"dataframe\">\n",
       "  <thead>\n",
       "    <tr style=\"text-align: right;\">\n",
       "      <th></th>\n",
       "      <th>Name</th>\n",
       "      <th>Age</th>\n",
       "      <th>School</th>\n",
       "      <th>Score</th>\n",
       "      <th>County</th>\n",
       "    </tr>\n",
       "    <tr>\n",
       "      <th>user_id</th>\n",
       "      <th></th>\n",
       "      <th></th>\n",
       "      <th></th>\n",
       "      <th></th>\n",
       "      <th></th>\n",
       "    </tr>\n",
       "  </thead>\n",
       "  <tbody>\n",
       "    <tr>\n",
       "      <th>1</th>\n",
       "      <td>Arlo</td>\n",
       "      <td>15</td>\n",
       "      <td>Wakefield</td>\n",
       "      <td>4.5</td>\n",
       "      <td>Arlington</td>\n",
       "    </tr>\n",
       "    <tr>\n",
       "      <th>2</th>\n",
       "      <td>Olive</td>\n",
       "      <td>16</td>\n",
       "      <td>Arlington Tech</td>\n",
       "      <td>9.9</td>\n",
       "      <td>Arlington</td>\n",
       "    </tr>\n",
       "    <tr>\n",
       "      <th>3</th>\n",
       "      <td>Ally</td>\n",
       "      <td>16</td>\n",
       "      <td>H-B Woodlawn</td>\n",
       "      <td>8.7</td>\n",
       "      <td>Arlington</td>\n",
       "    </tr>\n",
       "  </tbody>\n",
       "</table>\n",
       "</div>"
      ],
      "text/plain": [
       "          Name  Age          School  Score     County\n",
       "user_id                                              \n",
       "1         Arlo   15       Wakefield    4.5  Arlington\n",
       "2        Olive   16  Arlington Tech    9.9  Arlington\n",
       "3         Ally   16    H-B Woodlawn    8.7  Arlington"
      ]
     },
     "execution_count": 17,
     "metadata": {},
     "output_type": "execute_result"
    }
   ],
   "source": [
    "df.sort_index()"
   ]
  },
  {
   "cell_type": "markdown",
   "metadata": {},
   "source": [
    "- <p style=\"font-family: monospace, monaco;\">you can sort the rows by one or more columns by using <code>sort_values</code></p>"
   ]
  },
  {
   "cell_type": "code",
   "execution_count": 19,
   "metadata": {},
   "outputs": [
    {
     "data": {
      "text/html": [
       "<div>\n",
       "<style scoped>\n",
       "    .dataframe tbody tr th:only-of-type {\n",
       "        vertical-align: middle;\n",
       "    }\n",
       "\n",
       "    .dataframe tbody tr th {\n",
       "        vertical-align: top;\n",
       "    }\n",
       "\n",
       "    .dataframe thead th {\n",
       "        text-align: right;\n",
       "    }\n",
       "</style>\n",
       "<table border=\"1\" class=\"dataframe\">\n",
       "  <thead>\n",
       "    <tr style=\"text-align: right;\">\n",
       "      <th></th>\n",
       "      <th>Name</th>\n",
       "      <th>Age</th>\n",
       "      <th>School</th>\n",
       "      <th>Score</th>\n",
       "      <th>County</th>\n",
       "    </tr>\n",
       "    <tr>\n",
       "      <th>user_id</th>\n",
       "      <th></th>\n",
       "      <th></th>\n",
       "      <th></th>\n",
       "      <th></th>\n",
       "      <th></th>\n",
       "    </tr>\n",
       "  </thead>\n",
       "  <tbody>\n",
       "    <tr>\n",
       "      <th>1</th>\n",
       "      <td>Arlo</td>\n",
       "      <td>15</td>\n",
       "      <td>Wakefield</td>\n",
       "      <td>4.5</td>\n",
       "      <td>Arlington</td>\n",
       "    </tr>\n",
       "    <tr>\n",
       "      <th>3</th>\n",
       "      <td>Ally</td>\n",
       "      <td>16</td>\n",
       "      <td>H-B Woodlawn</td>\n",
       "      <td>8.7</td>\n",
       "      <td>Arlington</td>\n",
       "    </tr>\n",
       "    <tr>\n",
       "      <th>2</th>\n",
       "      <td>Olive</td>\n",
       "      <td>16</td>\n",
       "      <td>Arlington Tech</td>\n",
       "      <td>9.9</td>\n",
       "      <td>Arlington</td>\n",
       "    </tr>\n",
       "  </tbody>\n",
       "</table>\n",
       "</div>"
      ],
      "text/plain": [
       "          Name  Age          School  Score     County\n",
       "user_id                                              \n",
       "1         Arlo   15       Wakefield    4.5  Arlington\n",
       "3         Ally   16    H-B Woodlawn    8.7  Arlington\n",
       "2        Olive   16  Arlington Tech    9.9  Arlington"
      ]
     },
     "execution_count": 19,
     "metadata": {},
     "output_type": "execute_result"
    }
   ],
   "source": [
    "df.sort_values([\"Age\",\"Score\"])"
   ]
  },
  {
   "cell_type": "markdown",
   "metadata": {},
   "source": [
    "- <p style=\"font-family: monospace, monaco;\">this sorts by age then score</p>\n",
    "- <p style=\"font-family: monospace, monaco;\">to sort using a singular column, provide the column name as a string</p>"
   ]
  },
  {
   "cell_type": "markdown",
   "metadata": {},
   "source": [
    "#### <p style=\"font-family: monospace, monaco;\">Columns</p>\n",
    "\n",
    "- <p style=\"font-family: monospace, monaco;\">to get information about the columns within the DataFrame use <code>df.columns</code></p>\n"
   ]
  },
  {
   "cell_type": "code",
   "execution_count": 20,
   "metadata": {},
   "outputs": [
    {
     "data": {
      "text/plain": [
       "Index(['Name', 'Age', 'School', 'Score', 'County'], dtype='object')"
      ]
     },
     "execution_count": 20,
     "metadata": {},
     "output_type": "execute_result"
    }
   ],
   "source": [
    "df.columns"
   ]
  },
  {
   "cell_type": "markdown",
   "metadata": {},
   "source": [
    "- <p style=\"font-family: monospace, monaco;\">if names for columns are not provided when creating the DataFrame, pandas will automatically input integers starting at zero as the names</p>\n",
    "- <p style=\"font-family: monospace, monaco;\">you assign a name to the columns headers the same way as indexs</p>"
   ]
  },
  {
   "cell_type": "code",
   "execution_count": 24,
   "metadata": {},
   "outputs": [
    {
     "data": {
      "text/html": [
       "<div>\n",
       "<style scoped>\n",
       "    .dataframe tbody tr th:only-of-type {\n",
       "        vertical-align: middle;\n",
       "    }\n",
       "\n",
       "    .dataframe tbody tr th {\n",
       "        vertical-align: top;\n",
       "    }\n",
       "\n",
       "    .dataframe thead th {\n",
       "        text-align: right;\n",
       "    }\n",
       "</style>\n",
       "<table border=\"1\" class=\"dataframe\">\n",
       "  <thead>\n",
       "    <tr style=\"text-align: right;\">\n",
       "      <th>Properties</th>\n",
       "      <th>Name</th>\n",
       "      <th>Age</th>\n",
       "      <th>School</th>\n",
       "      <th>Score</th>\n",
       "      <th>County</th>\n",
       "    </tr>\n",
       "    <tr>\n",
       "      <th>user_id</th>\n",
       "      <th></th>\n",
       "      <th></th>\n",
       "      <th></th>\n",
       "      <th></th>\n",
       "      <th></th>\n",
       "    </tr>\n",
       "  </thead>\n",
       "  <tbody>\n",
       "    <tr>\n",
       "      <th>1</th>\n",
       "      <td>Arlo</td>\n",
       "      <td>15</td>\n",
       "      <td>Wakefield</td>\n",
       "      <td>4.5</td>\n",
       "      <td>Arlington</td>\n",
       "    </tr>\n",
       "    <tr>\n",
       "      <th>2</th>\n",
       "      <td>Olive</td>\n",
       "      <td>16</td>\n",
       "      <td>Arlington Tech</td>\n",
       "      <td>9.9</td>\n",
       "      <td>Arlington</td>\n",
       "    </tr>\n",
       "    <tr>\n",
       "      <th>3</th>\n",
       "      <td>Ally</td>\n",
       "      <td>16</td>\n",
       "      <td>H-B Woodlawn</td>\n",
       "      <td>8.7</td>\n",
       "      <td>Arlington</td>\n",
       "    </tr>\n",
       "  </tbody>\n",
       "</table>\n",
       "</div>"
      ],
      "text/plain": [
       "Properties   Name  Age          School  Score     County\n",
       "user_id                                                 \n",
       "1            Arlo   15       Wakefield    4.5  Arlington\n",
       "2           Olive   16  Arlington Tech    9.9  Arlington\n",
       "3            Ally   16    H-B Woodlawn    8.7  Arlington"
      ]
     },
     "execution_count": 24,
     "metadata": {},
     "output_type": "execute_result"
    }
   ],
   "source": [
    "df.columns.name=\"Properties\"\n",
    "\n",
    "df"
   ]
  },
  {
   "cell_type": "markdown",
   "metadata": {},
   "source": [
    "- <p style=\"font-family: monospace, monaco;\"> you can rename columns</p>"
   ]
  },
  {
   "cell_type": "code",
   "execution_count": 25,
   "metadata": {},
   "outputs": [
    {
     "data": {
      "text/html": [
       "<div>\n",
       "<style scoped>\n",
       "    .dataframe tbody tr th:only-of-type {\n",
       "        vertical-align: middle;\n",
       "    }\n",
       "\n",
       "    .dataframe tbody tr th {\n",
       "        vertical-align: top;\n",
       "    }\n",
       "\n",
       "    .dataframe thead th {\n",
       "        text-align: right;\n",
       "    }\n",
       "</style>\n",
       "<table border=\"1\" class=\"dataframe\">\n",
       "  <thead>\n",
       "    <tr style=\"text-align: right;\">\n",
       "      <th>Properties</th>\n",
       "      <th>First Name</th>\n",
       "      <th>Age</th>\n",
       "      <th>School</th>\n",
       "      <th>Final Score</th>\n",
       "      <th>County</th>\n",
       "    </tr>\n",
       "    <tr>\n",
       "      <th>user_id</th>\n",
       "      <th></th>\n",
       "      <th></th>\n",
       "      <th></th>\n",
       "      <th></th>\n",
       "      <th></th>\n",
       "    </tr>\n",
       "  </thead>\n",
       "  <tbody>\n",
       "    <tr>\n",
       "      <th>1</th>\n",
       "      <td>Arlo</td>\n",
       "      <td>15</td>\n",
       "      <td>Wakefield</td>\n",
       "      <td>4.5</td>\n",
       "      <td>Arlington</td>\n",
       "    </tr>\n",
       "    <tr>\n",
       "      <th>2</th>\n",
       "      <td>Olive</td>\n",
       "      <td>16</td>\n",
       "      <td>Arlington Tech</td>\n",
       "      <td>9.9</td>\n",
       "      <td>Arlington</td>\n",
       "    </tr>\n",
       "    <tr>\n",
       "      <th>3</th>\n",
       "      <td>Ally</td>\n",
       "      <td>16</td>\n",
       "      <td>H-B Woodlawn</td>\n",
       "      <td>8.7</td>\n",
       "      <td>Arlington</td>\n",
       "    </tr>\n",
       "  </tbody>\n",
       "</table>\n",
       "</div>"
      ],
      "text/plain": [
       "Properties First Name  Age          School  Final Score     County\n",
       "user_id                                                           \n",
       "1                Arlo   15       Wakefield          4.5  Arlington\n",
       "2               Olive   16  Arlington Tech          9.9  Arlington\n",
       "3                Ally   16    H-B Woodlawn          8.7  Arlington"
      ]
     },
     "execution_count": 25,
     "metadata": {},
     "output_type": "execute_result"
    }
   ],
   "source": [
    "df.rename(columns={\"Name\":\"First Name\", \"Score\":\"Final Score\"})"
   ]
  },
  {
   "cell_type": "markdown",
   "metadata": {},
   "source": [
    "- <p style=\"font-family: monospace, monaco;\">How to delete columns and rows</p>"
   ]
  },
  {
   "cell_type": "code",
   "execution_count": 28,
   "metadata": {},
   "outputs": [
    {
     "data": {
      "text/html": [
       "<div>\n",
       "<style scoped>\n",
       "    .dataframe tbody tr th:only-of-type {\n",
       "        vertical-align: middle;\n",
       "    }\n",
       "\n",
       "    .dataframe tbody tr th {\n",
       "        vertical-align: top;\n",
       "    }\n",
       "\n",
       "    .dataframe thead th {\n",
       "        text-align: right;\n",
       "    }\n",
       "</style>\n",
       "<table border=\"1\" class=\"dataframe\">\n",
       "  <thead>\n",
       "    <tr style=\"text-align: right;\">\n",
       "      <th>Properties</th>\n",
       "      <th>Age</th>\n",
       "      <th>School</th>\n",
       "      <th>Score</th>\n",
       "    </tr>\n",
       "    <tr>\n",
       "      <th>user_id</th>\n",
       "      <th></th>\n",
       "      <th></th>\n",
       "      <th></th>\n",
       "    </tr>\n",
       "  </thead>\n",
       "  <tbody>\n",
       "    <tr>\n",
       "      <th>2</th>\n",
       "      <td>16</td>\n",
       "      <td>Arlington Tech</td>\n",
       "      <td>9.9</td>\n",
       "    </tr>\n",
       "    <tr>\n",
       "      <th>3</th>\n",
       "      <td>16</td>\n",
       "      <td>H-B Woodlawn</td>\n",
       "      <td>8.7</td>\n",
       "    </tr>\n",
       "  </tbody>\n",
       "</table>\n",
       "</div>"
      ],
      "text/plain": [
       "Properties  Age          School  Score\n",
       "user_id                               \n",
       "2            16  Arlington Tech    9.9\n",
       "3            16    H-B Woodlawn    8.7"
      ]
     },
     "execution_count": 28,
     "metadata": {},
     "output_type": "execute_result"
    }
   ],
   "source": [
    "df.drop(columns=[\"Name\", \"County\"], index=[1])"
   ]
  },
  {
   "cell_type": "markdown",
   "metadata": {},
   "source": [
    "- <p style=\"font-family: monospace, monaco;\">Columns and rows of a DataFrame are all represented by <code>Index</code> objects, meaning you can change your columns into rows and vice versa by transposing the DataFrame</p>"
   ]
  },
  {
   "cell_type": "code",
   "execution_count": 29,
   "metadata": {},
   "outputs": [
    {
     "data": {
      "text/html": [
       "<div>\n",
       "<style scoped>\n",
       "    .dataframe tbody tr th:only-of-type {\n",
       "        vertical-align: middle;\n",
       "    }\n",
       "\n",
       "    .dataframe tbody tr th {\n",
       "        vertical-align: top;\n",
       "    }\n",
       "\n",
       "    .dataframe thead th {\n",
       "        text-align: right;\n",
       "    }\n",
       "</style>\n",
       "<table border=\"1\" class=\"dataframe\">\n",
       "  <thead>\n",
       "    <tr style=\"text-align: right;\">\n",
       "      <th>user_id</th>\n",
       "      <th>1</th>\n",
       "      <th>2</th>\n",
       "      <th>3</th>\n",
       "    </tr>\n",
       "    <tr>\n",
       "      <th>Properties</th>\n",
       "      <th></th>\n",
       "      <th></th>\n",
       "      <th></th>\n",
       "    </tr>\n",
       "  </thead>\n",
       "  <tbody>\n",
       "    <tr>\n",
       "      <th>Name</th>\n",
       "      <td>Arlo</td>\n",
       "      <td>Olive</td>\n",
       "      <td>Ally</td>\n",
       "    </tr>\n",
       "    <tr>\n",
       "      <th>Age</th>\n",
       "      <td>15</td>\n",
       "      <td>16</td>\n",
       "      <td>16</td>\n",
       "    </tr>\n",
       "    <tr>\n",
       "      <th>School</th>\n",
       "      <td>Wakefield</td>\n",
       "      <td>Arlington Tech</td>\n",
       "      <td>H-B Woodlawn</td>\n",
       "    </tr>\n",
       "    <tr>\n",
       "      <th>Score</th>\n",
       "      <td>4.5</td>\n",
       "      <td>9.9</td>\n",
       "      <td>8.7</td>\n",
       "    </tr>\n",
       "    <tr>\n",
       "      <th>County</th>\n",
       "      <td>Arlington</td>\n",
       "      <td>Arlington</td>\n",
       "      <td>Arlington</td>\n",
       "    </tr>\n",
       "  </tbody>\n",
       "</table>\n",
       "</div>"
      ],
      "text/plain": [
       "user_id             1               2             3\n",
       "Properties                                         \n",
       "Name             Arlo           Olive          Ally\n",
       "Age                15              16            16\n",
       "School      Wakefield  Arlington Tech  H-B Woodlawn\n",
       "Score             4.5             9.9           8.7\n",
       "County      Arlington       Arlington     Arlington"
      ]
     },
     "execution_count": 29,
     "metadata": {},
     "output_type": "execute_result"
    }
   ],
   "source": [
    "df.T # shortcut for df.Transpose()"
   ]
  },
  {
   "cell_type": "markdown",
   "metadata": {},
   "source": [
    "- <p style=\"font-family: monospace, monaco;\">You can reorder the columns of a DataFrame by selecting the columns in the desired order or <code>reindex</code></p>"
   ]
  },
  {
   "cell_type": "code",
   "execution_count": 30,
   "metadata": {},
   "outputs": [
    {
     "data": {
      "text/html": [
       "<div>\n",
       "<style scoped>\n",
       "    .dataframe tbody tr th:only-of-type {\n",
       "        vertical-align: middle;\n",
       "    }\n",
       "\n",
       "    .dataframe tbody tr th {\n",
       "        vertical-align: top;\n",
       "    }\n",
       "\n",
       "    .dataframe thead th {\n",
       "        text-align: right;\n",
       "    }\n",
       "</style>\n",
       "<table border=\"1\" class=\"dataframe\">\n",
       "  <thead>\n",
       "    <tr style=\"text-align: right;\">\n",
       "      <th>Properties</th>\n",
       "      <th>Score</th>\n",
       "      <th>Age</th>\n",
       "      <th>School</th>\n",
       "      <th>Name</th>\n",
       "    </tr>\n",
       "    <tr>\n",
       "      <th>user_id</th>\n",
       "      <th></th>\n",
       "      <th></th>\n",
       "      <th></th>\n",
       "      <th></th>\n",
       "    </tr>\n",
       "  </thead>\n",
       "  <tbody>\n",
       "    <tr>\n",
       "      <th>1</th>\n",
       "      <td>4.5</td>\n",
       "      <td>15</td>\n",
       "      <td>Wakefield</td>\n",
       "      <td>Arlo</td>\n",
       "    </tr>\n",
       "    <tr>\n",
       "      <th>2</th>\n",
       "      <td>9.9</td>\n",
       "      <td>16</td>\n",
       "      <td>Arlington Tech</td>\n",
       "      <td>Olive</td>\n",
       "    </tr>\n",
       "    <tr>\n",
       "      <th>3</th>\n",
       "      <td>8.7</td>\n",
       "      <td>16</td>\n",
       "      <td>H-B Woodlawn</td>\n",
       "      <td>Ally</td>\n",
       "    </tr>\n",
       "  </tbody>\n",
       "</table>\n",
       "</div>"
      ],
      "text/plain": [
       "Properties  Score  Age          School   Name\n",
       "user_id                                      \n",
       "1             4.5   15       Wakefield   Arlo\n",
       "2             9.9   16  Arlington Tech  Olive\n",
       "3             8.7   16    H-B Woodlawn   Ally"
      ]
     },
     "execution_count": 30,
     "metadata": {},
     "output_type": "execute_result"
    }
   ],
   "source": [
    "df.loc[:, [\"Score\", \"Age\", \"School\", \"County\", \"Name\"]].drop(columns=[\"County\"]) # .drop is just extra, reordering is df.loc"
   ]
  },
  {
   "cell_type": "markdown",
   "metadata": {},
   "source": [
    "### <p style=\"font-family: monospace, monaco;\">Data Manipulation</p>\n",
    "#### <p style=\"font-family: monospace, monaco;\"><strong>Selecting Data</strong></p>\n",
    "##### <p style=\"font-family: monospace, monaco;\">Selecting by Label</p>\n",
    "- <p style=\"font-family: monospace, monaco;\">You can use <code>loc</code>, which means <em>location</em>, to specify which rows and columns to retrieve: <code>df.loc[rows_selection, column_selection]</code></p>\n",
    "\n",
    "- <p style=\"font-family: monospace, monaco;\"><code>loc</code> supprots slice notation, this means you can use a colon to all rows or columns, respectively</p>\n",
    "- <p style=\"font-family: monospace, monaco;\">You can provide a column or row name</p>\n",
    "<p style=\"font-family: monospace, monaco;\"> Data Selection by table &rarr;</p> \n",
    "\n",
    "| selection | Return Data Type | Example |\n",
    "|-----------|------------------|---------|\n",
    "| Single Value| Scalar| `df.loc[1000, \"country\"]`|\n",
    "| One column (1d)| Series | `df.loc[:, \"country\"]`|\n",
    "|One column (2d)| DataFrame| `df.loc[:, [\"country\"]]`|\n",
    "|Multiple columns|DataFrame|`df.loc[:, [\"country\", \"age\"]]`|\n",
    "|Range of columns|DataFrame|`df.loc[:, \"name\":\"country\"]`|\n",
    "|One row (1d)|Series|`df.loc[1000, :]`|\n",
    "|One row (2d)|DataFrame|`df.loc[[1000], :]`|\n",
    "|Multiple rows|DataFrame|`df.loc[[1003, 1000], :]`|\n",
    "|Range of rows|DataFrame|`df.loc[1000:1002, :]`|\n",
    "\n",
    "- <p style=\"font-family: monospace, monaco;\">using <code>loc</code> to select scalars, series, and DataFrames</p>"
   ]
  },
  {
   "cell_type": "code",
   "execution_count": 33,
   "metadata": {},
   "outputs": [
    {
     "data": {
      "text/plain": [
       "'Olive'"
      ]
     },
     "execution_count": 33,
     "metadata": {},
     "output_type": "execute_result"
    }
   ],
   "source": [
    "# using scalars for both row and column returns a scalar\n",
    "\n",
    "df.loc[2, \"Name\"]"
   ]
  },
  {
   "cell_type": "code",
   "execution_count": 34,
   "metadata": {},
   "outputs": [
    {
     "data": {
      "text/plain": [
       "user_id\n",
       "2    Olive\n",
       "3     Ally\n",
       "Name: Name, dtype: object"
      ]
     },
     "execution_count": 34,
     "metadata": {},
     "output_type": "execute_result"
    }
   ],
   "source": [
    "# using a scalar on either column or row selction returns a series \n",
    "\n",
    "df.loc[[2,3], \"Name\"]"
   ]
  },
  {
   "cell_type": "markdown",
   "metadata": {},
   "source": []
  },
  {
   "cell_type": "markdown",
   "metadata": {},
   "source": [
    "##### <p style=\"font-family: monospace, monaco;\"> Selecting by position </p>\n",
    "- <p style=\"font-family: monospace, monaco;\"> when subseting a DataFrame you use <code>iloc</code> which stands for integer location: <code>df.ioc[row_selection, column_selection]</code></p>\n",
    "\n",
    "Selection | Return Data Type | Example |\n",
    "|---------|------------------|---------|\n",
    "|Single value|Scalar|`df.iloc[1, 2]`|\n",
    "|One column (1d)|Series|`df.iloc[:, 2]`|\n",
    "|One column (2d)|DataFrame|`df.iloc[:, [2]]`|\n",
    "|Multiple columns|DataFrame|`df.iloc[:, [2, 1]]`|\n",
    "|Range of columns|DataFrame|`df.iloc[:, :3]`|\n",
    "|One row (1d)|Series|`df.iloc[1, :]`|\n",
    "|One row (2d)|DataFrame|`df.iloc[[1], :]`|\n",
    "|Multiple rows|DataFrame|`df.iloc[[3, 1], :]`|\n",
    "|Range of rows|DataFrame|`df.iloc[1:3, :]`|\n",
    "\n",
    "- <p style=\"font-family: monospace, monaco;\">How to use <code>iloc</code></p>"
   ]
  },
  {
   "cell_type": "code",
   "execution_count": 36,
   "metadata": {},
   "outputs": [
    {
     "data": {
      "text/plain": [
       "'Arlo'"
      ]
     },
     "execution_count": 36,
     "metadata": {},
     "output_type": "execute_result"
    }
   ],
   "source": [
    "# returns scalar\n",
    "\n",
    "df.iloc[0,0]"
   ]
  },
  {
   "cell_type": "code",
   "execution_count": 37,
   "metadata": {},
   "outputs": [
    {
     "data": {
      "text/plain": [
       "user_id\n",
       "1         Wakefield\n",
       "2    Arlington Tech\n",
       "Name: School, dtype: object"
      ]
     },
     "execution_count": 37,
     "metadata": {},
     "output_type": "execute_result"
    }
   ],
   "source": [
    "# returns a series\n",
    "\n",
    "df.iloc[[0,1], 2]"
   ]
  },
  {
   "cell_type": "code",
   "execution_count": 39,
   "metadata": {},
   "outputs": [
    {
     "data": {
      "text/html": [
       "<div>\n",
       "<style scoped>\n",
       "    .dataframe tbody tr th:only-of-type {\n",
       "        vertical-align: middle;\n",
       "    }\n",
       "\n",
       "    .dataframe tbody tr th {\n",
       "        vertical-align: top;\n",
       "    }\n",
       "\n",
       "    .dataframe thead th {\n",
       "        text-align: right;\n",
       "    }\n",
       "</style>\n",
       "<table border=\"1\" class=\"dataframe\">\n",
       "  <thead>\n",
       "    <tr style=\"text-align: right;\">\n",
       "      <th>Properties</th>\n",
       "      <th>Name</th>\n",
       "      <th>School</th>\n",
       "    </tr>\n",
       "    <tr>\n",
       "      <th>user_id</th>\n",
       "      <th></th>\n",
       "      <th></th>\n",
       "    </tr>\n",
       "  </thead>\n",
       "  <tbody>\n",
       "    <tr>\n",
       "      <th>1</th>\n",
       "      <td>Arlo</td>\n",
       "      <td>Wakefield</td>\n",
       "    </tr>\n",
       "    <tr>\n",
       "      <th>2</th>\n",
       "      <td>Olive</td>\n",
       "      <td>Arlington Tech</td>\n",
       "    </tr>\n",
       "  </tbody>\n",
       "</table>\n",
       "</div>"
      ],
      "text/plain": [
       "Properties   Name          School\n",
       "user_id                          \n",
       "1            Arlo       Wakefield\n",
       "2           Olive  Arlington Tech"
      ]
     },
     "execution_count": 39,
     "metadata": {},
     "output_type": "execute_result"
    }
   ],
   "source": [
    "#this returns a DataFrame\n",
    "\n",
    "df.iloc[:2, [0,2]]"
   ]
  },
  {
   "cell_type": "markdown",
   "metadata": {},
   "source": [
    "##### <p style=\"font-family: monospace, monaco;\">Selecting by boolean indexing</p>\n",
    "- <p style=\"font-family: monospace, monaco;\">boolean series are used to select specific columns and rows in a DataFrame</p>\n",
    "- <p style=\"font-family: monospace, monaco;\">boolean DataFrames are used to select certain values across the entire DataSet</p>"
   ]
  },
  {
   "cell_type": "code",
   "execution_count": 40,
   "metadata": {},
   "outputs": [
    {
     "data": {
      "text/plain": [
       "user_id\n",
       "1    False\n",
       "2     True\n",
       "3     True\n",
       "dtype: bool"
      ]
     },
     "execution_count": 40,
     "metadata": {},
     "output_type": "execute_result"
    }
   ],
   "source": [
    "#this is a series with only true/false\n",
    "\n",
    "tf = (df[\"Age\"] == 16) & (df[\"Score\"] > 5.0)\n",
    "\n",
    "tf"
   ]
  },
  {
   "cell_type": "code",
   "execution_count": 41,
   "metadata": {},
   "outputs": [
    {
     "data": {
      "text/html": [
       "<div>\n",
       "<style scoped>\n",
       "    .dataframe tbody tr th:only-of-type {\n",
       "        vertical-align: middle;\n",
       "    }\n",
       "\n",
       "    .dataframe tbody tr th {\n",
       "        vertical-align: top;\n",
       "    }\n",
       "\n",
       "    .dataframe thead th {\n",
       "        text-align: right;\n",
       "    }\n",
       "</style>\n",
       "<table border=\"1\" class=\"dataframe\">\n",
       "  <thead>\n",
       "    <tr style=\"text-align: right;\">\n",
       "      <th>Properties</th>\n",
       "      <th>Name</th>\n",
       "      <th>Age</th>\n",
       "      <th>School</th>\n",
       "      <th>Score</th>\n",
       "      <th>County</th>\n",
       "    </tr>\n",
       "    <tr>\n",
       "      <th>user_id</th>\n",
       "      <th></th>\n",
       "      <th></th>\n",
       "      <th></th>\n",
       "      <th></th>\n",
       "      <th></th>\n",
       "    </tr>\n",
       "  </thead>\n",
       "  <tbody>\n",
       "    <tr>\n",
       "      <th>2</th>\n",
       "      <td>Olive</td>\n",
       "      <td>16</td>\n",
       "      <td>Arlington Tech</td>\n",
       "      <td>9.9</td>\n",
       "      <td>Arlington</td>\n",
       "    </tr>\n",
       "    <tr>\n",
       "      <th>3</th>\n",
       "      <td>Ally</td>\n",
       "      <td>16</td>\n",
       "      <td>H-B Woodlawn</td>\n",
       "      <td>8.7</td>\n",
       "      <td>Arlington</td>\n",
       "    </tr>\n",
       "  </tbody>\n",
       "</table>\n",
       "</div>"
      ],
      "text/plain": [
       "Properties   Name  Age          School  Score     County\n",
       "user_id                                                 \n",
       "2           Olive   16  Arlington Tech    9.9  Arlington\n",
       "3            Ally   16    H-B Woodlawn    8.7  Arlington"
      ]
     },
     "execution_count": 41,
     "metadata": {},
     "output_type": "execute_result"
    }
   ],
   "source": [
    "df.loc[tf, :]"
   ]
  },
  {
   "cell_type": "markdown",
   "metadata": {},
   "source": [
    "- <p style=\"font-family: monospace, monaco;\">you can only use these boolean operators &rarr;</p>\n",
    "\n",
    "| Basic Python Data Types | DataFrames and Series|\n",
    "|-------------------------|----------------------|\n",
    "|`and`|`&`|\n",
    "|`or`| `|` |\n",
    "|`not`|`~`|\n",
    "\n",
    "- <p style=\"font-family: monospace, monaco;\">put every boolen expression in parentheses so the operator doesnt get in the way</p>\n",
    "- <p style=\"font-family: monospace, monaco;\">if you want to refer to index, use <code>df.index</code></p>"
   ]
  },
  {
   "cell_type": "code",
   "execution_count": 42,
   "metadata": {},
   "outputs": [
    {
     "data": {
      "text/html": [
       "<div>\n",
       "<style scoped>\n",
       "    .dataframe tbody tr th:only-of-type {\n",
       "        vertical-align: middle;\n",
       "    }\n",
       "\n",
       "    .dataframe tbody tr th {\n",
       "        vertical-align: top;\n",
       "    }\n",
       "\n",
       "    .dataframe thead th {\n",
       "        text-align: right;\n",
       "    }\n",
       "</style>\n",
       "<table border=\"1\" class=\"dataframe\">\n",
       "  <thead>\n",
       "    <tr style=\"text-align: right;\">\n",
       "      <th>Properties</th>\n",
       "      <th>Name</th>\n",
       "      <th>Age</th>\n",
       "      <th>School</th>\n",
       "      <th>Score</th>\n",
       "      <th>County</th>\n",
       "    </tr>\n",
       "    <tr>\n",
       "      <th>user_id</th>\n",
       "      <th></th>\n",
       "      <th></th>\n",
       "      <th></th>\n",
       "      <th></th>\n",
       "      <th></th>\n",
       "    </tr>\n",
       "  </thead>\n",
       "  <tbody>\n",
       "    <tr>\n",
       "      <th>2</th>\n",
       "      <td>Olive</td>\n",
       "      <td>16</td>\n",
       "      <td>Arlington Tech</td>\n",
       "      <td>9.9</td>\n",
       "      <td>Arlington</td>\n",
       "    </tr>\n",
       "    <tr>\n",
       "      <th>3</th>\n",
       "      <td>Ally</td>\n",
       "      <td>16</td>\n",
       "      <td>H-B Woodlawn</td>\n",
       "      <td>8.7</td>\n",
       "      <td>Arlington</td>\n",
       "    </tr>\n",
       "  </tbody>\n",
       "</table>\n",
       "</div>"
      ],
      "text/plain": [
       "Properties   Name  Age          School  Score     County\n",
       "user_id                                                 \n",
       "2           Olive   16  Arlington Tech    9.9  Arlington\n",
       "3            Ally   16    H-B Woodlawn    8.7  Arlington"
      ]
     },
     "execution_count": 42,
     "metadata": {},
     "output_type": "execute_result"
    }
   ],
   "source": [
    "df.loc[df.index>1]"
   ]
  },
  {
   "cell_type": "markdown",
   "metadata": {},
   "source": [
    "- <p style=\"font-family: monospace, monaco;\">you use <code>isin</code>to sort even further</p>"
   ]
  },
  {
   "cell_type": "code",
   "execution_count": 44,
   "metadata": {},
   "outputs": [
    {
     "data": {
      "text/html": [
       "<div>\n",
       "<style scoped>\n",
       "    .dataframe tbody tr th:only-of-type {\n",
       "        vertical-align: middle;\n",
       "    }\n",
       "\n",
       "    .dataframe tbody tr th {\n",
       "        vertical-align: top;\n",
       "    }\n",
       "\n",
       "    .dataframe thead th {\n",
       "        text-align: right;\n",
       "    }\n",
       "</style>\n",
       "<table border=\"1\" class=\"dataframe\">\n",
       "  <thead>\n",
       "    <tr style=\"text-align: right;\">\n",
       "      <th>Properties</th>\n",
       "      <th>Name</th>\n",
       "      <th>Age</th>\n",
       "      <th>School</th>\n",
       "      <th>Score</th>\n",
       "      <th>County</th>\n",
       "    </tr>\n",
       "    <tr>\n",
       "      <th>user_id</th>\n",
       "      <th></th>\n",
       "      <th></th>\n",
       "      <th></th>\n",
       "      <th></th>\n",
       "      <th></th>\n",
       "    </tr>\n",
       "  </thead>\n",
       "  <tbody>\n",
       "    <tr>\n",
       "      <th>1</th>\n",
       "      <td>Arlo</td>\n",
       "      <td>15</td>\n",
       "      <td>Wakefield</td>\n",
       "      <td>4.5</td>\n",
       "      <td>Arlington</td>\n",
       "    </tr>\n",
       "    <tr>\n",
       "      <th>2</th>\n",
       "      <td>Olive</td>\n",
       "      <td>16</td>\n",
       "      <td>Arlington Tech</td>\n",
       "      <td>9.9</td>\n",
       "      <td>Arlington</td>\n",
       "    </tr>\n",
       "  </tbody>\n",
       "</table>\n",
       "</div>"
      ],
      "text/plain": [
       "Properties   Name  Age          School  Score     County\n",
       "user_id                                                 \n",
       "1            Arlo   15       Wakefield    4.5  Arlington\n",
       "2           Olive   16  Arlington Tech    9.9  Arlington"
      ]
     },
     "execution_count": 44,
     "metadata": {},
     "output_type": "execute_result"
    }
   ],
   "source": [
    "df.loc[df[\"School\"].isin([\"Wakefield\", \"Arlington Tech\"])]"
   ]
  },
  {
   "cell_type": "markdown",
   "metadata": {},
   "source": [
    "- <p style=\"font-family: monospace, monaco;\">DataFrames have special syntax without <code>loc</code> to select values given teh DataFrame of booleans: <code>df[boolean_df]</code></p>\n",
    "- <p style=\"font-family: monospace, monaco;\">This is helpful when you have a DataFrame full of numbers:</p>"
   ]
  },
  {
   "cell_type": "code",
   "execution_count": 46,
   "metadata": {},
   "outputs": [
    {
     "data": {
      "text/html": [
       "<div>\n",
       "<style scoped>\n",
       "    .dataframe tbody tr th:only-of-type {\n",
       "        vertical-align: middle;\n",
       "    }\n",
       "\n",
       "    .dataframe tbody tr th {\n",
       "        vertical-align: top;\n",
       "    }\n",
       "\n",
       "    .dataframe thead th {\n",
       "        text-align: right;\n",
       "    }\n",
       "</style>\n",
       "<table border=\"1\" class=\"dataframe\">\n",
       "  <thead>\n",
       "    <tr style=\"text-align: right;\">\n",
       "      <th></th>\n",
       "      <th>arlington</th>\n",
       "      <th>Ann Arbor</th>\n",
       "      <th>Cambridge</th>\n",
       "    </tr>\n",
       "  </thead>\n",
       "  <tbody>\n",
       "    <tr>\n",
       "      <th>0</th>\n",
       "      <td>306.3</td>\n",
       "      <td>607.9</td>\n",
       "      <td>800.12</td>\n",
       "    </tr>\n",
       "    <tr>\n",
       "      <th>1</th>\n",
       "      <td>403.2</td>\n",
       "      <td>539.1</td>\n",
       "      <td>300.60</td>\n",
       "    </tr>\n",
       "  </tbody>\n",
       "</table>\n",
       "</div>"
      ],
      "text/plain": [
       "   arlington  Ann Arbor  Cambridge\n",
       "0      306.3      607.9     800.12\n",
       "1      403.2      539.1     300.60"
      ]
     },
     "execution_count": 46,
     "metadata": {},
     "output_type": "execute_result"
    }
   ],
   "source": [
    "rainfall = pd.DataFrame(data={\"arlington\":[306.3, 403.2],\n",
    "                             \"Ann Arbor\": [607.9,539.1],\n",
    "                             \"Cambridge\": [800.12, 300.6]})\n",
    "\n",
    "rainfall"
   ]
  },
  {
   "cell_type": "code",
   "execution_count": 47,
   "metadata": {},
   "outputs": [
    {
     "data": {
      "text/html": [
       "<div>\n",
       "<style scoped>\n",
       "    .dataframe tbody tr th:only-of-type {\n",
       "        vertical-align: middle;\n",
       "    }\n",
       "\n",
       "    .dataframe tbody tr th {\n",
       "        vertical-align: top;\n",
       "    }\n",
       "\n",
       "    .dataframe thead th {\n",
       "        text-align: right;\n",
       "    }\n",
       "</style>\n",
       "<table border=\"1\" class=\"dataframe\">\n",
       "  <thead>\n",
       "    <tr style=\"text-align: right;\">\n",
       "      <th></th>\n",
       "      <th>arlington</th>\n",
       "      <th>Ann Arbor</th>\n",
       "      <th>Cambridge</th>\n",
       "    </tr>\n",
       "  </thead>\n",
       "  <tbody>\n",
       "    <tr>\n",
       "      <th>0</th>\n",
       "      <td>True</td>\n",
       "      <td>False</td>\n",
       "      <td>False</td>\n",
       "    </tr>\n",
       "    <tr>\n",
       "      <th>1</th>\n",
       "      <td>True</td>\n",
       "      <td>True</td>\n",
       "      <td>True</td>\n",
       "    </tr>\n",
       "  </tbody>\n",
       "</table>\n",
       "</div>"
      ],
      "text/plain": [
       "   arlington  Ann Arbor  Cambridge\n",
       "0       True      False      False\n",
       "1       True       True       True"
      ]
     },
     "execution_count": 47,
     "metadata": {},
     "output_type": "execute_result"
    }
   ],
   "source": [
    "rainfall < 550.3"
   ]
  },
  {
   "cell_type": "code",
   "execution_count": 48,
   "metadata": {},
   "outputs": [
    {
     "data": {
      "text/html": [
       "<div>\n",
       "<style scoped>\n",
       "    .dataframe tbody tr th:only-of-type {\n",
       "        vertical-align: middle;\n",
       "    }\n",
       "\n",
       "    .dataframe tbody tr th {\n",
       "        vertical-align: top;\n",
       "    }\n",
       "\n",
       "    .dataframe thead th {\n",
       "        text-align: right;\n",
       "    }\n",
       "</style>\n",
       "<table border=\"1\" class=\"dataframe\">\n",
       "  <thead>\n",
       "    <tr style=\"text-align: right;\">\n",
       "      <th></th>\n",
       "      <th>arlington</th>\n",
       "      <th>Ann Arbor</th>\n",
       "      <th>Cambridge</th>\n",
       "    </tr>\n",
       "  </thead>\n",
       "  <tbody>\n",
       "    <tr>\n",
       "      <th>0</th>\n",
       "      <td>306.3</td>\n",
       "      <td>NaN</td>\n",
       "      <td>NaN</td>\n",
       "    </tr>\n",
       "    <tr>\n",
       "      <th>1</th>\n",
       "      <td>403.2</td>\n",
       "      <td>539.1</td>\n",
       "      <td>300.6</td>\n",
       "    </tr>\n",
       "  </tbody>\n",
       "</table>\n",
       "</div>"
      ],
      "text/plain": [
       "   arlington  Ann Arbor  Cambridge\n",
       "0      306.3        NaN        NaN\n",
       "1      403.2      539.1      300.6"
      ]
     },
     "execution_count": 48,
     "metadata": {},
     "output_type": "execute_result"
    }
   ],
   "source": [
    "rainfall[rainfall < 550.3]"
   ]
  },
  {
   "cell_type": "markdown",
   "metadata": {},
   "source": [
    "#### <p style=\"font-family: monospace, monaco;\"><strong>Setting data</strong></p>\n",
    "- <p style=\"font-family: monospace, monaco;\">the easiest way to change data in DataFrame is by assigning values to elements using <code>loc</code> or <code>iloc</code></p>\n",
    "##### <p style=\"font-family: monospace, monaco;\">Setting data by lable or position</p>\n",
    "- <p style=\"font-family: monospace, monaco;\">the original DataFrame changes when <code>loc</code> or <code>iloc</code> are applied</p>"
   ]
  },
  {
   "cell_type": "code",
   "execution_count": 50,
   "metadata": {},
   "outputs": [],
   "source": [
    "# copies original dataframe to df2\n",
    "\n",
    "df2 = df.copy()"
   ]
  },
  {
   "cell_type": "code",
   "execution_count": 51,
   "metadata": {},
   "outputs": [
    {
     "data": {
      "text/html": [
       "<div>\n",
       "<style scoped>\n",
       "    .dataframe tbody tr th:only-of-type {\n",
       "        vertical-align: middle;\n",
       "    }\n",
       "\n",
       "    .dataframe tbody tr th {\n",
       "        vertical-align: top;\n",
       "    }\n",
       "\n",
       "    .dataframe thead th {\n",
       "        text-align: right;\n",
       "    }\n",
       "</style>\n",
       "<table border=\"1\" class=\"dataframe\">\n",
       "  <thead>\n",
       "    <tr style=\"text-align: right;\">\n",
       "      <th>Properties</th>\n",
       "      <th>Name</th>\n",
       "      <th>Age</th>\n",
       "      <th>School</th>\n",
       "      <th>Score</th>\n",
       "      <th>County</th>\n",
       "    </tr>\n",
       "    <tr>\n",
       "      <th>user_id</th>\n",
       "      <th></th>\n",
       "      <th></th>\n",
       "      <th></th>\n",
       "      <th></th>\n",
       "      <th></th>\n",
       "    </tr>\n",
       "  </thead>\n",
       "  <tbody>\n",
       "    <tr>\n",
       "      <th>1</th>\n",
       "      <td>Arlo</td>\n",
       "      <td>15.0</td>\n",
       "      <td>Wakefield</td>\n",
       "      <td>4.5</td>\n",
       "      <td>Arlington</td>\n",
       "    </tr>\n",
       "    <tr>\n",
       "      <th>2</th>\n",
       "      <td>Olive</td>\n",
       "      <td>16.0</td>\n",
       "      <td>Arlington Tech</td>\n",
       "      <td>9.9</td>\n",
       "      <td>Arlington</td>\n",
       "    </tr>\n",
       "    <tr>\n",
       "      <th>3</th>\n",
       "      <td>Ally</td>\n",
       "      <td>16.0</td>\n",
       "      <td>H-B Woodlawn</td>\n",
       "      <td>8.7</td>\n",
       "      <td>Arlington</td>\n",
       "    </tr>\n",
       "    <tr>\n",
       "      <th>4</th>\n",
       "      <td>Zara</td>\n",
       "      <td>NaN</td>\n",
       "      <td>NaN</td>\n",
       "      <td>NaN</td>\n",
       "      <td>NaN</td>\n",
       "    </tr>\n",
       "  </tbody>\n",
       "</table>\n",
       "</div>"
      ],
      "text/plain": [
       "Properties   Name   Age          School  Score     County\n",
       "user_id                                                  \n",
       "1            Arlo  15.0       Wakefield    4.5  Arlington\n",
       "2           Olive  16.0  Arlington Tech    9.9  Arlington\n",
       "3            Ally  16.0    H-B Woodlawn    8.7  Arlington\n",
       "4            Zara   NaN             NaN    NaN        NaN"
      ]
     },
     "execution_count": 51,
     "metadata": {},
     "output_type": "execute_result"
    }
   ],
   "source": [
    "df2.loc[4, \"Name\"] = \"Zara\"\n",
    "\n",
    "df2"
   ]
  },
  {
   "cell_type": "markdown",
   "metadata": {},
   "source": [
    "##### <p style=\"font-family: monospace, monaco;\">Setting data by boolean indexing</p>\n",
    "- <p style=\"font-fammily: monospace, monaco;\">boolean indexing can be used to filter rows an assign values in a DataFrame</p>"
   ]
  },
  {
   "cell_type": "code",
   "execution_count": 53,
   "metadata": {},
   "outputs": [
    {
     "data": {
      "text/html": [
       "<div>\n",
       "<style scoped>\n",
       "    .dataframe tbody tr th:only-of-type {\n",
       "        vertical-align: middle;\n",
       "    }\n",
       "\n",
       "    .dataframe tbody tr th {\n",
       "        vertical-align: top;\n",
       "    }\n",
       "\n",
       "    .dataframe thead th {\n",
       "        text-align: right;\n",
       "    }\n",
       "</style>\n",
       "<table border=\"1\" class=\"dataframe\">\n",
       "  <thead>\n",
       "    <tr style=\"text-align: right;\">\n",
       "      <th>Properties</th>\n",
       "      <th>Name</th>\n",
       "      <th>Age</th>\n",
       "      <th>School</th>\n",
       "      <th>Score</th>\n",
       "      <th>County</th>\n",
       "    </tr>\n",
       "    <tr>\n",
       "      <th>user_id</th>\n",
       "      <th></th>\n",
       "      <th></th>\n",
       "      <th></th>\n",
       "      <th></th>\n",
       "      <th></th>\n",
       "    </tr>\n",
       "  </thead>\n",
       "  <tbody>\n",
       "    <tr>\n",
       "      <th>1</th>\n",
       "      <td>xxx</td>\n",
       "      <td>15.0</td>\n",
       "      <td>Wakefield</td>\n",
       "      <td>4.5</td>\n",
       "      <td>Arlington</td>\n",
       "    </tr>\n",
       "    <tr>\n",
       "      <th>2</th>\n",
       "      <td>xxx</td>\n",
       "      <td>16.0</td>\n",
       "      <td>Arlington Tech</td>\n",
       "      <td>9.9</td>\n",
       "      <td>Arlington</td>\n",
       "    </tr>\n",
       "    <tr>\n",
       "      <th>3</th>\n",
       "      <td>Ally</td>\n",
       "      <td>16.0</td>\n",
       "      <td>H-B Woodlawn</td>\n",
       "      <td>8.7</td>\n",
       "      <td>Arlington</td>\n",
       "    </tr>\n",
       "    <tr>\n",
       "      <th>4</th>\n",
       "      <td>Zara</td>\n",
       "      <td>NaN</td>\n",
       "      <td>NaN</td>\n",
       "      <td>NaN</td>\n",
       "      <td>NaN</td>\n",
       "    </tr>\n",
       "  </tbody>\n",
       "</table>\n",
       "</div>"
      ],
      "text/plain": [
       "Properties  Name   Age          School  Score     County\n",
       "user_id                                                 \n",
       "1            xxx  15.0       Wakefield    4.5  Arlington\n",
       "2            xxx  16.0  Arlington Tech    9.9  Arlington\n",
       "3           Ally  16.0    H-B Woodlawn    8.7  Arlington\n",
       "4           Zara   NaN             NaN    NaN        NaN"
      ]
     },
     "execution_count": 53,
     "metadata": {},
     "output_type": "execute_result"
    }
   ],
   "source": [
    "tf = (df2[\"Age\"] == 15) | (df2[\"Score\"] > 8.7)\n",
    "\n",
    "df2.loc[tf, \"Name\"] = \"xxx\"\n",
    "\n",
    "df2"
   ]
  },
  {
   "cell_type": "markdown",
   "metadata": {},
   "source": [
    "- <p style=\"font-family: monospace, monaco;\">when you have to replace certain values across the board, make use of the special syntax and make the whole DataFrame booleans</p>"
   ]
  },
  {
   "cell_type": "code",
   "execution_count": 54,
   "metadata": {},
   "outputs": [
    {
     "data": {
      "text/html": [
       "<div>\n",
       "<style scoped>\n",
       "    .dataframe tbody tr th:only-of-type {\n",
       "        vertical-align: middle;\n",
       "    }\n",
       "\n",
       "    .dataframe tbody tr th {\n",
       "        vertical-align: top;\n",
       "    }\n",
       "\n",
       "    .dataframe thead th {\n",
       "        text-align: right;\n",
       "    }\n",
       "</style>\n",
       "<table border=\"1\" class=\"dataframe\">\n",
       "  <thead>\n",
       "    <tr style=\"text-align: right;\">\n",
       "      <th></th>\n",
       "      <th>arlington</th>\n",
       "      <th>Ann Arbor</th>\n",
       "      <th>Cambridge</th>\n",
       "    </tr>\n",
       "  </thead>\n",
       "  <tbody>\n",
       "    <tr>\n",
       "      <th>0</th>\n",
       "      <td>306.3</td>\n",
       "      <td>607.9</td>\n",
       "      <td>800.12</td>\n",
       "    </tr>\n",
       "    <tr>\n",
       "      <th>1</th>\n",
       "      <td>403.2</td>\n",
       "      <td>539.1</td>\n",
       "      <td>300.60</td>\n",
       "    </tr>\n",
       "  </tbody>\n",
       "</table>\n",
       "</div>"
      ],
      "text/plain": [
       "   arlington  Ann Arbor  Cambridge\n",
       "0      306.3      607.9     800.12\n",
       "1      403.2      539.1     300.60"
      ]
     },
     "execution_count": 54,
     "metadata": {},
     "output_type": "execute_result"
    }
   ],
   "source": [
    "rainfall2 = rainfall.copy()\n",
    "\n",
    "rainfall2"
   ]
  },
  {
   "cell_type": "code",
   "execution_count": 58,
   "metadata": {},
   "outputs": [
    {
     "data": {
      "text/html": [
       "<div>\n",
       "<style scoped>\n",
       "    .dataframe tbody tr th:only-of-type {\n",
       "        vertical-align: middle;\n",
       "    }\n",
       "\n",
       "    .dataframe tbody tr th {\n",
       "        vertical-align: top;\n",
       "    }\n",
       "\n",
       "    .dataframe thead th {\n",
       "        text-align: right;\n",
       "    }\n",
       "</style>\n",
       "<table border=\"1\" class=\"dataframe\">\n",
       "  <thead>\n",
       "    <tr style=\"text-align: right;\">\n",
       "      <th></th>\n",
       "      <th>arlington</th>\n",
       "      <th>Ann Arbor</th>\n",
       "      <th>Cambridge</th>\n",
       "    </tr>\n",
       "  </thead>\n",
       "  <tbody>\n",
       "    <tr>\n",
       "      <th>0</th>\n",
       "      <td>0.0</td>\n",
       "      <td>607.9</td>\n",
       "      <td>800.12</td>\n",
       "    </tr>\n",
       "    <tr>\n",
       "      <th>1</th>\n",
       "      <td>0.0</td>\n",
       "      <td>539.1</td>\n",
       "      <td>0.00</td>\n",
       "    </tr>\n",
       "  </tbody>\n",
       "</table>\n",
       "</div>"
      ],
      "text/plain": [
       "   arlington  Ann Arbor  Cambridge\n",
       "0        0.0      607.9     800.12\n",
       "1        0.0      539.1       0.00"
      ]
     },
     "execution_count": 58,
     "metadata": {},
     "output_type": "execute_result"
    }
   ],
   "source": [
    "# set values to 0 when they are below 400\n",
    "\n",
    "rainfall2[rainfall2 < 450.3] = 0\n",
    "\n",
    "rainfall2"
   ]
  },
  {
   "cell_type": "markdown",
   "metadata": {},
   "source": [
    "##### <p style=\"font-family: monospace, monaco;\">Setting data by replacing values</p>\n",
    "- <p style=\"font-family: monospace, monaco;\">if you want to replace a certain value across the whole table, use <code>replace</code></p>"
   ]
  },
  {
   "cell_type": "code",
   "execution_count": 62,
   "metadata": {},
   "outputs": [
    {
     "data": {
      "text/html": [
       "<div>\n",
       "<style scoped>\n",
       "    .dataframe tbody tr th:only-of-type {\n",
       "        vertical-align: middle;\n",
       "    }\n",
       "\n",
       "    .dataframe tbody tr th {\n",
       "        vertical-align: top;\n",
       "    }\n",
       "\n",
       "    .dataframe thead th {\n",
       "        text-align: right;\n",
       "    }\n",
       "</style>\n",
       "<table border=\"1\" class=\"dataframe\">\n",
       "  <thead>\n",
       "    <tr style=\"text-align: right;\">\n",
       "      <th>Properties</th>\n",
       "      <th>Name</th>\n",
       "      <th>Age</th>\n",
       "      <th>School</th>\n",
       "      <th>Score</th>\n",
       "      <th>County</th>\n",
       "    </tr>\n",
       "    <tr>\n",
       "      <th>user_id</th>\n",
       "      <th></th>\n",
       "      <th></th>\n",
       "      <th></th>\n",
       "      <th></th>\n",
       "      <th></th>\n",
       "    </tr>\n",
       "  </thead>\n",
       "  <tbody>\n",
       "    <tr>\n",
       "      <th>1</th>\n",
       "      <td>xxx</td>\n",
       "      <td>15.0</td>\n",
       "      <td>Wakefield</td>\n",
       "      <td>4.5</td>\n",
       "      <td>APSVA</td>\n",
       "    </tr>\n",
       "    <tr>\n",
       "      <th>2</th>\n",
       "      <td>xxx</td>\n",
       "      <td>16.0</td>\n",
       "      <td>Arlington Tech</td>\n",
       "      <td>9.9</td>\n",
       "      <td>APSVA</td>\n",
       "    </tr>\n",
       "    <tr>\n",
       "      <th>3</th>\n",
       "      <td>Ally</td>\n",
       "      <td>16.0</td>\n",
       "      <td>H-B Woodlawn</td>\n",
       "      <td>8.7</td>\n",
       "      <td>APSVA</td>\n",
       "    </tr>\n",
       "    <tr>\n",
       "      <th>4</th>\n",
       "      <td>Zara</td>\n",
       "      <td>NaN</td>\n",
       "      <td>NaN</td>\n",
       "      <td>NaN</td>\n",
       "      <td>NaN</td>\n",
       "    </tr>\n",
       "  </tbody>\n",
       "</table>\n",
       "</div>"
      ],
      "text/plain": [
       "Properties  Name   Age          School  Score County\n",
       "user_id                                             \n",
       "1            xxx  15.0       Wakefield    4.5  APSVA\n",
       "2            xxx  16.0  Arlington Tech    9.9  APSVA\n",
       "3           Ally  16.0    H-B Woodlawn    8.7  APSVA\n",
       "4           Zara   NaN             NaN    NaN    NaN"
      ]
     },
     "execution_count": 62,
     "metadata": {},
     "output_type": "execute_result"
    }
   ],
   "source": [
    "df2.replace(\"Arlington\", \"APSVA\")"
   ]
  },
  {
   "cell_type": "markdown",
   "metadata": {},
   "source": [
    "- <p style=\"font-family: monospace, monaco;\">to only act on a certain column use: </p>"
   ]
  },
  {
   "cell_type": "code",
   "execution_count": 67,
   "metadata": {},
   "outputs": [
    {
     "data": {
      "text/html": [
       "<div>\n",
       "<style scoped>\n",
       "    .dataframe tbody tr th:only-of-type {\n",
       "        vertical-align: middle;\n",
       "    }\n",
       "\n",
       "    .dataframe tbody tr th {\n",
       "        vertical-align: top;\n",
       "    }\n",
       "\n",
       "    .dataframe thead th {\n",
       "        text-align: right;\n",
       "    }\n",
       "</style>\n",
       "<table border=\"1\" class=\"dataframe\">\n",
       "  <thead>\n",
       "    <tr style=\"text-align: right;\">\n",
       "      <th>Properties</th>\n",
       "      <th>Name</th>\n",
       "      <th>Age</th>\n",
       "      <th>School</th>\n",
       "      <th>Score</th>\n",
       "      <th>County</th>\n",
       "    </tr>\n",
       "    <tr>\n",
       "      <th>user_id</th>\n",
       "      <th></th>\n",
       "      <th></th>\n",
       "      <th></th>\n",
       "      <th></th>\n",
       "      <th></th>\n",
       "    </tr>\n",
       "  </thead>\n",
       "  <tbody>\n",
       "    <tr>\n",
       "      <th>1</th>\n",
       "      <td>xxx</td>\n",
       "      <td>15.0</td>\n",
       "      <td>Wakefield</td>\n",
       "      <td>4.5</td>\n",
       "      <td>APSVA</td>\n",
       "    </tr>\n",
       "    <tr>\n",
       "      <th>2</th>\n",
       "      <td>xxx</td>\n",
       "      <td>16.0</td>\n",
       "      <td>Arlington Tech</td>\n",
       "      <td>9.9</td>\n",
       "      <td>APSVA</td>\n",
       "    </tr>\n",
       "    <tr>\n",
       "      <th>3</th>\n",
       "      <td>Ally</td>\n",
       "      <td>16.0</td>\n",
       "      <td>H-B Woodlawn</td>\n",
       "      <td>8.7</td>\n",
       "      <td>APSVA</td>\n",
       "    </tr>\n",
       "    <tr>\n",
       "      <th>4</th>\n",
       "      <td>Zara</td>\n",
       "      <td>NaN</td>\n",
       "      <td>NaN</td>\n",
       "      <td>NaN</td>\n",
       "      <td>NaN</td>\n",
       "    </tr>\n",
       "  </tbody>\n",
       "</table>\n",
       "</div>"
      ],
      "text/plain": [
       "Properties  Name   Age          School  Score County\n",
       "user_id                                             \n",
       "1            xxx  15.0       Wakefield    4.5  APSVA\n",
       "2            xxx  16.0  Arlington Tech    9.9  APSVA\n",
       "3           Ally  16.0    H-B Woodlawn    8.7  APSVA\n",
       "4           Zara   NaN             NaN    NaN    NaN"
      ]
     },
     "execution_count": 67,
     "metadata": {},
     "output_type": "execute_result"
    }
   ],
   "source": [
    "df2.replace({\"County\" : {\"Arlington\": \"APSVA\"}})"
   ]
  },
  {
   "cell_type": "markdown",
   "metadata": {},
   "source": [
    "##### <p style=\"font-family: monospace, monaco;\">Setting data by adding a new column</p>\n",
    "- <p style=\"font-family: monospace, monaco;\"> to add a new column to a DataFrame, assign values to a column name</p>\n",
    "- <p style=\"font-family: monospace, monaco;\">you can do  this by using a scalar list:</p>"
   ]
  },
  {
   "cell_type": "code",
   "execution_count": 69,
   "metadata": {},
   "outputs": [
    {
     "data": {
      "text/html": [
       "<div>\n",
       "<style scoped>\n",
       "    .dataframe tbody tr th:only-of-type {\n",
       "        vertical-align: middle;\n",
       "    }\n",
       "\n",
       "    .dataframe tbody tr th {\n",
       "        vertical-align: top;\n",
       "    }\n",
       "\n",
       "    .dataframe thead th {\n",
       "        text-align: right;\n",
       "    }\n",
       "</style>\n",
       "<table border=\"1\" class=\"dataframe\">\n",
       "  <thead>\n",
       "    <tr style=\"text-align: right;\">\n",
       "      <th>Properties</th>\n",
       "      <th>Name</th>\n",
       "      <th>Age</th>\n",
       "      <th>School</th>\n",
       "      <th>Score</th>\n",
       "      <th>County</th>\n",
       "      <th>Grade</th>\n",
       "    </tr>\n",
       "    <tr>\n",
       "      <th>user_id</th>\n",
       "      <th></th>\n",
       "      <th></th>\n",
       "      <th></th>\n",
       "      <th></th>\n",
       "      <th></th>\n",
       "      <th></th>\n",
       "    </tr>\n",
       "  </thead>\n",
       "  <tbody>\n",
       "    <tr>\n",
       "      <th>1</th>\n",
       "      <td>xxx</td>\n",
       "      <td>15.0</td>\n",
       "      <td>Wakefield</td>\n",
       "      <td>4.5</td>\n",
       "      <td>Arlington</td>\n",
       "      <td>Sophmore</td>\n",
       "    </tr>\n",
       "    <tr>\n",
       "      <th>2</th>\n",
       "      <td>xxx</td>\n",
       "      <td>16.0</td>\n",
       "      <td>Arlington Tech</td>\n",
       "      <td>9.9</td>\n",
       "      <td>Arlington</td>\n",
       "      <td>Junior</td>\n",
       "    </tr>\n",
       "    <tr>\n",
       "      <th>3</th>\n",
       "      <td>Ally</td>\n",
       "      <td>16.0</td>\n",
       "      <td>H-B Woodlawn</td>\n",
       "      <td>8.7</td>\n",
       "      <td>Arlington</td>\n",
       "      <td>Junior</td>\n",
       "    </tr>\n",
       "    <tr>\n",
       "      <th>4</th>\n",
       "      <td>Zara</td>\n",
       "      <td>NaN</td>\n",
       "      <td>NaN</td>\n",
       "      <td>NaN</td>\n",
       "      <td>NaN</td>\n",
       "      <td>Sophmore</td>\n",
       "    </tr>\n",
       "  </tbody>\n",
       "</table>\n",
       "</div>"
      ],
      "text/plain": [
       "Properties  Name   Age          School  Score     County     Grade\n",
       "user_id                                                           \n",
       "1            xxx  15.0       Wakefield    4.5  Arlington  Sophmore\n",
       "2            xxx  16.0  Arlington Tech    9.9  Arlington    Junior\n",
       "3           Ally  16.0    H-B Woodlawn    8.7  Arlington    Junior\n",
       "4           Zara   NaN             NaN    NaN        NaN  Sophmore"
      ]
     },
     "execution_count": 69,
     "metadata": {},
     "output_type": "execute_result"
    }
   ],
   "source": [
    "df2.loc[: , \"Grade\"] = [\"Sophmore\", \"Junior\", \"Junior\", \"Sophmore\"]\n",
    "\n",
    "df2"
   ]
  },
  {
   "cell_type": "markdown",
   "metadata": {},
   "source": [
    "- <p style=\"font-family: monospace, monaco;\">or vectorized calculations:</p>"
   ]
  },
  {
   "cell_type": "code",
   "execution_count": 70,
   "metadata": {},
   "outputs": [
    {
     "data": {
      "text/html": [
       "<div>\n",
       "<style scoped>\n",
       "    .dataframe tbody tr th:only-of-type {\n",
       "        vertical-align: middle;\n",
       "    }\n",
       "\n",
       "    .dataframe tbody tr th {\n",
       "        vertical-align: top;\n",
       "    }\n",
       "\n",
       "    .dataframe thead th {\n",
       "        text-align: right;\n",
       "    }\n",
       "</style>\n",
       "<table border=\"1\" class=\"dataframe\">\n",
       "  <thead>\n",
       "    <tr style=\"text-align: right;\">\n",
       "      <th>Properties</th>\n",
       "      <th>Name</th>\n",
       "      <th>Age</th>\n",
       "      <th>School</th>\n",
       "      <th>Score</th>\n",
       "      <th>County</th>\n",
       "      <th>Birth Year</th>\n",
       "    </tr>\n",
       "    <tr>\n",
       "      <th>user_id</th>\n",
       "      <th></th>\n",
       "      <th></th>\n",
       "      <th></th>\n",
       "      <th></th>\n",
       "      <th></th>\n",
       "      <th></th>\n",
       "    </tr>\n",
       "  </thead>\n",
       "  <tbody>\n",
       "    <tr>\n",
       "      <th>1</th>\n",
       "      <td>Arlo</td>\n",
       "      <td>15</td>\n",
       "      <td>Wakefield</td>\n",
       "      <td>4.5</td>\n",
       "      <td>Arlington</td>\n",
       "      <td>2009</td>\n",
       "    </tr>\n",
       "    <tr>\n",
       "      <th>2</th>\n",
       "      <td>Olive</td>\n",
       "      <td>16</td>\n",
       "      <td>Arlington Tech</td>\n",
       "      <td>9.9</td>\n",
       "      <td>Arlington</td>\n",
       "      <td>2008</td>\n",
       "    </tr>\n",
       "    <tr>\n",
       "      <th>3</th>\n",
       "      <td>Ally</td>\n",
       "      <td>16</td>\n",
       "      <td>H-B Woodlawn</td>\n",
       "      <td>8.7</td>\n",
       "      <td>Arlington</td>\n",
       "      <td>2008</td>\n",
       "    </tr>\n",
       "  </tbody>\n",
       "</table>\n",
       "</div>"
      ],
      "text/plain": [
       "Properties   Name  Age          School  Score     County  Birth Year\n",
       "user_id                                                             \n",
       "1            Arlo   15       Wakefield    4.5  Arlington        2009\n",
       "2           Olive   16  Arlington Tech    9.9  Arlington        2008\n",
       "3            Ally   16    H-B Woodlawn    8.7  Arlington        2008"
      ]
     },
     "execution_count": 70,
     "metadata": {},
     "output_type": "execute_result"
    }
   ],
   "source": [
    "df2 = df.copy() #start with a fresh copy\n",
    "\n",
    "df2.loc[: , \"Birth Year\"] = 2024 - df2[\"Age\"]\n",
    "\n",
    "df2"
   ]
  },
  {
   "cell_type": "markdown",
   "metadata": {},
   "source": [
    "#### <p style=\"font-fammily: monospace, monaco;\"><strong>Missing Data</strong></p>\n",
    "- <p style=\"font-fammily: monospace, monaco;\">pandas uses numpys <code>np.nan </code> for missing data</p>\n",
    "- <p style=\"font-fammily: monospace, monaco;\">missing data is displayed as <code>NaN</code></p>\n",
    "- <p style=\"font-fammily: monospace, monaco;\">for times stamps <code>pd.nat</code> is used</p>\n",
    "- <p style=\"font-fammily: monospace, monaco;\">for text it is <code>None</code></p>"
   ]
  },
  {
   "cell_type": "code",
   "execution_count": 71,
   "metadata": {},
   "outputs": [
    {
     "data": {
      "text/html": [
       "<div>\n",
       "<style scoped>\n",
       "    .dataframe tbody tr th:only-of-type {\n",
       "        vertical-align: middle;\n",
       "    }\n",
       "\n",
       "    .dataframe tbody tr th {\n",
       "        vertical-align: top;\n",
       "    }\n",
       "\n",
       "    .dataframe thead th {\n",
       "        text-align: right;\n",
       "    }\n",
       "</style>\n",
       "<table border=\"1\" class=\"dataframe\">\n",
       "  <thead>\n",
       "    <tr style=\"text-align: right;\">\n",
       "      <th>Properties</th>\n",
       "      <th>Name</th>\n",
       "      <th>Age</th>\n",
       "      <th>School</th>\n",
       "      <th>Score</th>\n",
       "      <th>County</th>\n",
       "    </tr>\n",
       "    <tr>\n",
       "      <th>user_id</th>\n",
       "      <th></th>\n",
       "      <th></th>\n",
       "      <th></th>\n",
       "      <th></th>\n",
       "      <th></th>\n",
       "    </tr>\n",
       "  </thead>\n",
       "  <tbody>\n",
       "    <tr>\n",
       "      <th>1</th>\n",
       "      <td>Arlo</td>\n",
       "      <td>15.0</td>\n",
       "      <td>Wakefield</td>\n",
       "      <td>4.5</td>\n",
       "      <td>Arlington</td>\n",
       "    </tr>\n",
       "    <tr>\n",
       "      <th>2</th>\n",
       "      <td>Olive</td>\n",
       "      <td>16.0</td>\n",
       "      <td>Arlington Tech</td>\n",
       "      <td>NaN</td>\n",
       "      <td>Arlington</td>\n",
       "    </tr>\n",
       "    <tr>\n",
       "      <th>3</th>\n",
       "      <td>Ally</td>\n",
       "      <td>16.0</td>\n",
       "      <td>H-B Woodlawn</td>\n",
       "      <td>8.7</td>\n",
       "      <td>Arlington</td>\n",
       "    </tr>\n",
       "    <tr>\n",
       "      <th>4</th>\n",
       "      <td>None</td>\n",
       "      <td>NaN</td>\n",
       "      <td>None</td>\n",
       "      <td>NaN</td>\n",
       "      <td>None</td>\n",
       "    </tr>\n",
       "  </tbody>\n",
       "</table>\n",
       "</div>"
      ],
      "text/plain": [
       "Properties   Name   Age          School  Score     County\n",
       "user_id                                                  \n",
       "1            Arlo  15.0       Wakefield    4.5  Arlington\n",
       "2           Olive  16.0  Arlington Tech    NaN  Arlington\n",
       "3            Ally  16.0    H-B Woodlawn    8.7  Arlington\n",
       "4            None   NaN            None    NaN       None"
      ]
     },
     "execution_count": 71,
     "metadata": {},
     "output_type": "execute_result"
    }
   ],
   "source": [
    "df2 = df.copy()\n",
    "\n",
    "df2.loc[2 , \"Score\"] = None\n",
    "\n",
    "df2.loc[4, : ] = None\n",
    "\n",
    "df2"
   ]
  },
  {
   "cell_type": "markdown",
   "metadata": {},
   "source": [
    "- <p style=\"font-family: monospace, monaco;\"> when cleaning a DataFrame, you may want to drop missing data, to do that use: </p>"
   ]
  },
  {
   "cell_type": "code",
   "execution_count": 72,
   "metadata": {},
   "outputs": [
    {
     "data": {
      "text/html": [
       "<div>\n",
       "<style scoped>\n",
       "    .dataframe tbody tr th:only-of-type {\n",
       "        vertical-align: middle;\n",
       "    }\n",
       "\n",
       "    .dataframe tbody tr th {\n",
       "        vertical-align: top;\n",
       "    }\n",
       "\n",
       "    .dataframe thead th {\n",
       "        text-align: right;\n",
       "    }\n",
       "</style>\n",
       "<table border=\"1\" class=\"dataframe\">\n",
       "  <thead>\n",
       "    <tr style=\"text-align: right;\">\n",
       "      <th>Properties</th>\n",
       "      <th>Name</th>\n",
       "      <th>Age</th>\n",
       "      <th>School</th>\n",
       "      <th>Score</th>\n",
       "      <th>County</th>\n",
       "    </tr>\n",
       "    <tr>\n",
       "      <th>user_id</th>\n",
       "      <th></th>\n",
       "      <th></th>\n",
       "      <th></th>\n",
       "      <th></th>\n",
       "      <th></th>\n",
       "    </tr>\n",
       "  </thead>\n",
       "  <tbody>\n",
       "    <tr>\n",
       "      <th>1</th>\n",
       "      <td>Arlo</td>\n",
       "      <td>15.0</td>\n",
       "      <td>Wakefield</td>\n",
       "      <td>4.5</td>\n",
       "      <td>Arlington</td>\n",
       "    </tr>\n",
       "    <tr>\n",
       "      <th>3</th>\n",
       "      <td>Ally</td>\n",
       "      <td>16.0</td>\n",
       "      <td>H-B Woodlawn</td>\n",
       "      <td>8.7</td>\n",
       "      <td>Arlington</td>\n",
       "    </tr>\n",
       "  </tbody>\n",
       "</table>\n",
       "</div>"
      ],
      "text/plain": [
       "Properties  Name   Age        School  Score     County\n",
       "user_id                                               \n",
       "1           Arlo  15.0     Wakefield    4.5  Arlington\n",
       "3           Ally  16.0  H-B Woodlawn    8.7  Arlington"
      ]
     },
     "execution_count": 72,
     "metadata": {},
     "output_type": "execute_result"
    }
   ],
   "source": [
    "df2.dropna()"
   ]
  },
  {
   "cell_type": "markdown",
   "metadata": {},
   "source": [
    "- <p style=\"font-family: monospace, monaco;\">to remove rows where its all missing data use the <code>how</code> function</p>"
   ]
  },
  {
   "cell_type": "code",
   "execution_count": 73,
   "metadata": {},
   "outputs": [
    {
     "data": {
      "text/html": [
       "<div>\n",
       "<style scoped>\n",
       "    .dataframe tbody tr th:only-of-type {\n",
       "        vertical-align: middle;\n",
       "    }\n",
       "\n",
       "    .dataframe tbody tr th {\n",
       "        vertical-align: top;\n",
       "    }\n",
       "\n",
       "    .dataframe thead th {\n",
       "        text-align: right;\n",
       "    }\n",
       "</style>\n",
       "<table border=\"1\" class=\"dataframe\">\n",
       "  <thead>\n",
       "    <tr style=\"text-align: right;\">\n",
       "      <th>Properties</th>\n",
       "      <th>Name</th>\n",
       "      <th>Age</th>\n",
       "      <th>School</th>\n",
       "      <th>Score</th>\n",
       "      <th>County</th>\n",
       "    </tr>\n",
       "    <tr>\n",
       "      <th>user_id</th>\n",
       "      <th></th>\n",
       "      <th></th>\n",
       "      <th></th>\n",
       "      <th></th>\n",
       "      <th></th>\n",
       "    </tr>\n",
       "  </thead>\n",
       "  <tbody>\n",
       "    <tr>\n",
       "      <th>1</th>\n",
       "      <td>Arlo</td>\n",
       "      <td>15.0</td>\n",
       "      <td>Wakefield</td>\n",
       "      <td>4.5</td>\n",
       "      <td>Arlington</td>\n",
       "    </tr>\n",
       "    <tr>\n",
       "      <th>2</th>\n",
       "      <td>Olive</td>\n",
       "      <td>16.0</td>\n",
       "      <td>Arlington Tech</td>\n",
       "      <td>NaN</td>\n",
       "      <td>Arlington</td>\n",
       "    </tr>\n",
       "    <tr>\n",
       "      <th>3</th>\n",
       "      <td>Ally</td>\n",
       "      <td>16.0</td>\n",
       "      <td>H-B Woodlawn</td>\n",
       "      <td>8.7</td>\n",
       "      <td>Arlington</td>\n",
       "    </tr>\n",
       "  </tbody>\n",
       "</table>\n",
       "</div>"
      ],
      "text/plain": [
       "Properties   Name   Age          School  Score     County\n",
       "user_id                                                  \n",
       "1            Arlo  15.0       Wakefield    4.5  Arlington\n",
       "2           Olive  16.0  Arlington Tech    NaN  Arlington\n",
       "3            Ally  16.0    H-B Woodlawn    8.7  Arlington"
      ]
     },
     "execution_count": 73,
     "metadata": {},
     "output_type": "execute_result"
    }
   ],
   "source": [
    "df2.dropna(how=\"all\")"
   ]
  },
  {
   "cell_type": "markdown",
   "metadata": {},
   "source": [
    "- <p style=\"font-family: monospace, monaco;\"> to get a boolean DataFrame or series depending on whether or not there <code>NaN</code> you can use <code>isna</code></p>"
   ]
  },
  {
   "cell_type": "code",
   "execution_count": 74,
   "metadata": {},
   "outputs": [
    {
     "data": {
      "text/html": [
       "<div>\n",
       "<style scoped>\n",
       "    .dataframe tbody tr th:only-of-type {\n",
       "        vertical-align: middle;\n",
       "    }\n",
       "\n",
       "    .dataframe tbody tr th {\n",
       "        vertical-align: top;\n",
       "    }\n",
       "\n",
       "    .dataframe thead th {\n",
       "        text-align: right;\n",
       "    }\n",
       "</style>\n",
       "<table border=\"1\" class=\"dataframe\">\n",
       "  <thead>\n",
       "    <tr style=\"text-align: right;\">\n",
       "      <th>Properties</th>\n",
       "      <th>Name</th>\n",
       "      <th>Age</th>\n",
       "      <th>School</th>\n",
       "      <th>Score</th>\n",
       "      <th>County</th>\n",
       "    </tr>\n",
       "    <tr>\n",
       "      <th>user_id</th>\n",
       "      <th></th>\n",
       "      <th></th>\n",
       "      <th></th>\n",
       "      <th></th>\n",
       "      <th></th>\n",
       "    </tr>\n",
       "  </thead>\n",
       "  <tbody>\n",
       "    <tr>\n",
       "      <th>1</th>\n",
       "      <td>False</td>\n",
       "      <td>False</td>\n",
       "      <td>False</td>\n",
       "      <td>False</td>\n",
       "      <td>False</td>\n",
       "    </tr>\n",
       "    <tr>\n",
       "      <th>2</th>\n",
       "      <td>False</td>\n",
       "      <td>False</td>\n",
       "      <td>False</td>\n",
       "      <td>True</td>\n",
       "      <td>False</td>\n",
       "    </tr>\n",
       "    <tr>\n",
       "      <th>3</th>\n",
       "      <td>False</td>\n",
       "      <td>False</td>\n",
       "      <td>False</td>\n",
       "      <td>False</td>\n",
       "      <td>False</td>\n",
       "    </tr>\n",
       "    <tr>\n",
       "      <th>4</th>\n",
       "      <td>True</td>\n",
       "      <td>True</td>\n",
       "      <td>True</td>\n",
       "      <td>True</td>\n",
       "      <td>True</td>\n",
       "    </tr>\n",
       "  </tbody>\n",
       "</table>\n",
       "</div>"
      ],
      "text/plain": [
       "Properties   Name    Age  School  Score  County\n",
       "user_id                                        \n",
       "1           False  False   False  False   False\n",
       "2           False  False   False   True   False\n",
       "3           False  False   False  False   False\n",
       "4            True   True    True   True    True"
      ]
     },
     "execution_count": 74,
     "metadata": {},
     "output_type": "execute_result"
    }
   ],
   "source": [
    "df2.isna()"
   ]
  },
  {
   "cell_type": "markdown",
   "metadata": {},
   "source": [
    "- <p style=\"font-family: monospace, monaco;\">to fill missing values use <code>fillna</code></p>"
   ]
  },
  {
   "cell_type": "code",
   "execution_count": 75,
   "metadata": {},
   "outputs": [
    {
     "data": {
      "text/html": [
       "<div>\n",
       "<style scoped>\n",
       "    .dataframe tbody tr th:only-of-type {\n",
       "        vertical-align: middle;\n",
       "    }\n",
       "\n",
       "    .dataframe tbody tr th {\n",
       "        vertical-align: top;\n",
       "    }\n",
       "\n",
       "    .dataframe thead th {\n",
       "        text-align: right;\n",
       "    }\n",
       "</style>\n",
       "<table border=\"1\" class=\"dataframe\">\n",
       "  <thead>\n",
       "    <tr style=\"text-align: right;\">\n",
       "      <th>Properties</th>\n",
       "      <th>Name</th>\n",
       "      <th>Age</th>\n",
       "      <th>School</th>\n",
       "      <th>Score</th>\n",
       "      <th>County</th>\n",
       "    </tr>\n",
       "    <tr>\n",
       "      <th>user_id</th>\n",
       "      <th></th>\n",
       "      <th></th>\n",
       "      <th></th>\n",
       "      <th></th>\n",
       "      <th></th>\n",
       "    </tr>\n",
       "  </thead>\n",
       "  <tbody>\n",
       "    <tr>\n",
       "      <th>1</th>\n",
       "      <td>Arlo</td>\n",
       "      <td>15.0</td>\n",
       "      <td>Wakefield</td>\n",
       "      <td>4.5</td>\n",
       "      <td>Arlington</td>\n",
       "    </tr>\n",
       "    <tr>\n",
       "      <th>2</th>\n",
       "      <td>Olive</td>\n",
       "      <td>16.0</td>\n",
       "      <td>Arlington Tech</td>\n",
       "      <td>6.6</td>\n",
       "      <td>Arlington</td>\n",
       "    </tr>\n",
       "    <tr>\n",
       "      <th>3</th>\n",
       "      <td>Ally</td>\n",
       "      <td>16.0</td>\n",
       "      <td>H-B Woodlawn</td>\n",
       "      <td>8.7</td>\n",
       "      <td>Arlington</td>\n",
       "    </tr>\n",
       "    <tr>\n",
       "      <th>4</th>\n",
       "      <td>None</td>\n",
       "      <td>NaN</td>\n",
       "      <td>None</td>\n",
       "      <td>6.6</td>\n",
       "      <td>None</td>\n",
       "    </tr>\n",
       "  </tbody>\n",
       "</table>\n",
       "</div>"
      ],
      "text/plain": [
       "Properties   Name   Age          School  Score     County\n",
       "user_id                                                  \n",
       "1            Arlo  15.0       Wakefield    4.5  Arlington\n",
       "2           Olive  16.0  Arlington Tech    6.6  Arlington\n",
       "3            Ally  16.0    H-B Woodlawn    8.7  Arlington\n",
       "4            None   NaN            None    6.6       None"
      ]
     },
     "execution_count": 75,
     "metadata": {},
     "output_type": "execute_result"
    }
   ],
   "source": [
    "df2.fillna({\"Score\": df2[\"Score\"].mean()})"
   ]
  },
  {
   "cell_type": "markdown",
   "metadata": {},
   "source": [
    "#### <p style=\"font-family: monospace, monaco;\"><strong>Duplicate Data</strong></p>\n",
    "- <p style=\"font-family: monospace, monaco;\">you can get rid of duplicate rows by using the <code>drope_duplicates</code> method</p>"
   ]
  },
  {
   "cell_type": "code",
   "execution_count": 77,
   "metadata": {},
   "outputs": [
    {
     "data": {
      "text/html": [
       "<div>\n",
       "<style scoped>\n",
       "    .dataframe tbody tr th:only-of-type {\n",
       "        vertical-align: middle;\n",
       "    }\n",
       "\n",
       "    .dataframe tbody tr th {\n",
       "        vertical-align: top;\n",
       "    }\n",
       "\n",
       "    .dataframe thead th {\n",
       "        text-align: right;\n",
       "    }\n",
       "</style>\n",
       "<table border=\"1\" class=\"dataframe\">\n",
       "  <thead>\n",
       "    <tr style=\"text-align: right;\">\n",
       "      <th>Properties</th>\n",
       "      <th>Name</th>\n",
       "      <th>Age</th>\n",
       "      <th>School</th>\n",
       "      <th>Score</th>\n",
       "      <th>County</th>\n",
       "    </tr>\n",
       "    <tr>\n",
       "      <th>user_id</th>\n",
       "      <th></th>\n",
       "      <th></th>\n",
       "      <th></th>\n",
       "      <th></th>\n",
       "      <th></th>\n",
       "    </tr>\n",
       "  </thead>\n",
       "  <tbody>\n",
       "    <tr>\n",
       "      <th>1</th>\n",
       "      <td>Arlo</td>\n",
       "      <td>15.0</td>\n",
       "      <td>Wakefield</td>\n",
       "      <td>4.5</td>\n",
       "      <td>Arlington</td>\n",
       "    </tr>\n",
       "    <tr>\n",
       "      <th>2</th>\n",
       "      <td>Olive</td>\n",
       "      <td>16.0</td>\n",
       "      <td>Arlington Tech</td>\n",
       "      <td>NaN</td>\n",
       "      <td>Arlington</td>\n",
       "    </tr>\n",
       "    <tr>\n",
       "      <th>4</th>\n",
       "      <td>None</td>\n",
       "      <td>NaN</td>\n",
       "      <td>None</td>\n",
       "      <td>NaN</td>\n",
       "      <td>None</td>\n",
       "    </tr>\n",
       "  </tbody>\n",
       "</table>\n",
       "</div>"
      ],
      "text/plain": [
       "Properties   Name   Age          School  Score     County\n",
       "user_id                                                  \n",
       "1            Arlo  15.0       Wakefield    4.5  Arlington\n",
       "2           Olive  16.0  Arlington Tech    NaN  Arlington\n",
       "4            None   NaN            None    NaN       None"
      ]
     },
     "execution_count": 77,
     "metadata": {},
     "output_type": "execute_result"
    }
   ],
   "source": [
    "df2.drop_duplicates([\"Age\"])"
   ]
  },
  {
   "cell_type": "markdown",
   "metadata": {},
   "source": [
    "- <p style=\"font-family: monospace, monaco;\"> if you know a certain column has duplicates or unique values you can use these two commands ( use <code>df.index</code> instead of <code>df[\"County\"]</code>)</p>"
   ]
  },
  {
   "cell_type": "code",
   "execution_count": 78,
   "metadata": {},
   "outputs": [
    {
     "data": {
      "text/plain": [
       "True"
      ]
     },
     "execution_count": 78,
     "metadata": {},
     "output_type": "execute_result"
    }
   ],
   "source": [
    "df[\"School\"].is_unique"
   ]
  },
  {
   "cell_type": "code",
   "execution_count": 79,
   "metadata": {},
   "outputs": [
    {
     "data": {
      "text/plain": [
       "array(['Wakefield', 'Arlington Tech', 'H-B Woodlawn'], dtype=object)"
      ]
     },
     "execution_count": 79,
     "metadata": {},
     "output_type": "execute_result"
    }
   ],
   "source": [
    "df[\"School\"].unique()"
   ]
  },
  {
   "cell_type": "markdown",
   "metadata": {},
   "source": [
    "- <p style=\"font-family: monospace, monaco;\"> to understand which rows are duplicated use <code>.duplicated</code> which returns a boolean</p>\n",
    "- <p style=\"font-family: monospace, monaco;\">by defult, duplicate uses the parameter <code>keep=\"first\"</code> which keeps the first duplicate and marks others with <code>True</code></p>\n",
    "- <p style=\"font-family: monospace, monaco;\"> if you use <code>keep=\"false</code> it woll return every duplicate including the first as <code>true</code></p>\n",
    "- <p style=\"font-family: monospace, monaco;\">to asses the whole index use<code>df.index.duplicated()</code> or <code>df.duplicated()</code></p>"
   ]
  },
  {
   "cell_type": "code",
   "execution_count": 80,
   "metadata": {},
   "outputs": [
    {
     "data": {
      "text/plain": [
       "user_id\n",
       "1    False\n",
       "2    False\n",
       "3     True\n",
       "Name: Age, dtype: bool"
      ]
     },
     "execution_count": 80,
     "metadata": {},
     "output_type": "execute_result"
    }
   ],
   "source": [
    "df[\"Age\"].duplicated()"
   ]
  },
  {
   "cell_type": "code",
   "execution_count": 81,
   "metadata": {},
   "outputs": [
    {
     "data": {
      "text/html": [
       "<div>\n",
       "<style scoped>\n",
       "    .dataframe tbody tr th:only-of-type {\n",
       "        vertical-align: middle;\n",
       "    }\n",
       "\n",
       "    .dataframe tbody tr th {\n",
       "        vertical-align: top;\n",
       "    }\n",
       "\n",
       "    .dataframe thead th {\n",
       "        text-align: right;\n",
       "    }\n",
       "</style>\n",
       "<table border=\"1\" class=\"dataframe\">\n",
       "  <thead>\n",
       "    <tr style=\"text-align: right;\">\n",
       "      <th>Properties</th>\n",
       "      <th>Name</th>\n",
       "      <th>Age</th>\n",
       "      <th>School</th>\n",
       "      <th>Score</th>\n",
       "      <th>County</th>\n",
       "    </tr>\n",
       "    <tr>\n",
       "      <th>user_id</th>\n",
       "      <th></th>\n",
       "      <th></th>\n",
       "      <th></th>\n",
       "      <th></th>\n",
       "      <th></th>\n",
       "    </tr>\n",
       "  </thead>\n",
       "  <tbody>\n",
       "    <tr>\n",
       "      <th>2</th>\n",
       "      <td>Olive</td>\n",
       "      <td>16</td>\n",
       "      <td>Arlington Tech</td>\n",
       "      <td>9.9</td>\n",
       "      <td>Arlington</td>\n",
       "    </tr>\n",
       "    <tr>\n",
       "      <th>3</th>\n",
       "      <td>Ally</td>\n",
       "      <td>16</td>\n",
       "      <td>H-B Woodlawn</td>\n",
       "      <td>8.7</td>\n",
       "      <td>Arlington</td>\n",
       "    </tr>\n",
       "  </tbody>\n",
       "</table>\n",
       "</div>"
      ],
      "text/plain": [
       "Properties   Name  Age          School  Score     County\n",
       "user_id                                                 \n",
       "2           Olive   16  Arlington Tech    9.9  Arlington\n",
       "3            Ally   16    H-B Woodlawn    8.7  Arlington"
      ]
     },
     "execution_count": 81,
     "metadata": {},
     "output_type": "execute_result"
    }
   ],
   "source": [
    "df.loc[df[\"Age\"].duplicated(keep=False), :]"
   ]
  },
  {
   "cell_type": "markdown",
   "metadata": {},
   "source": [
    "#### - <p style=\"font-family: monospace, monaco;\"><strong> Arithmetic Operations </strong></p>\n",
    "- <p style=\"font-family: monospace, monaco;\"> DataFrames make use of vectorization like numpy</p>"
   ]
  },
  {
   "cell_type": "code",
   "execution_count": 82,
   "metadata": {},
   "outputs": [
    {
     "data": {
      "text/html": [
       "<div>\n",
       "<style scoped>\n",
       "    .dataframe tbody tr th:only-of-type {\n",
       "        vertical-align: middle;\n",
       "    }\n",
       "\n",
       "    .dataframe tbody tr th {\n",
       "        vertical-align: top;\n",
       "    }\n",
       "\n",
       "    .dataframe thead th {\n",
       "        text-align: right;\n",
       "    }\n",
       "</style>\n",
       "<table border=\"1\" class=\"dataframe\">\n",
       "  <thead>\n",
       "    <tr style=\"text-align: right;\">\n",
       "      <th></th>\n",
       "      <th>arlington</th>\n",
       "      <th>Ann Arbor</th>\n",
       "      <th>Cambridge</th>\n",
       "    </tr>\n",
       "  </thead>\n",
       "  <tbody>\n",
       "    <tr>\n",
       "      <th>0</th>\n",
       "      <td>306.3</td>\n",
       "      <td>607.9</td>\n",
       "      <td>800.12</td>\n",
       "    </tr>\n",
       "    <tr>\n",
       "      <th>1</th>\n",
       "      <td>403.2</td>\n",
       "      <td>539.1</td>\n",
       "      <td>300.60</td>\n",
       "    </tr>\n",
       "  </tbody>\n",
       "</table>\n",
       "</div>"
      ],
      "text/plain": [
       "   arlington  Ann Arbor  Cambridge\n",
       "0      306.3      607.9     800.12\n",
       "1      403.2      539.1     300.60"
      ]
     },
     "execution_count": 82,
     "metadata": {},
     "output_type": "execute_result"
    }
   ],
   "source": [
    "rainfall"
   ]
  },
  {
   "cell_type": "code",
   "execution_count": 83,
   "metadata": {},
   "outputs": [
    {
     "data": {
      "text/html": [
       "<div>\n",
       "<style scoped>\n",
       "    .dataframe tbody tr th:only-of-type {\n",
       "        vertical-align: middle;\n",
       "    }\n",
       "\n",
       "    .dataframe tbody tr th {\n",
       "        vertical-align: top;\n",
       "    }\n",
       "\n",
       "    .dataframe thead th {\n",
       "        text-align: right;\n",
       "    }\n",
       "</style>\n",
       "<table border=\"1\" class=\"dataframe\">\n",
       "  <thead>\n",
       "    <tr style=\"text-align: right;\">\n",
       "      <th></th>\n",
       "      <th>arlington</th>\n",
       "      <th>Ann Arbor</th>\n",
       "      <th>Cambridge</th>\n",
       "    </tr>\n",
       "  </thead>\n",
       "  <tbody>\n",
       "    <tr>\n",
       "      <th>0</th>\n",
       "      <td>406.3</td>\n",
       "      <td>707.9</td>\n",
       "      <td>900.12</td>\n",
       "    </tr>\n",
       "    <tr>\n",
       "      <th>1</th>\n",
       "      <td>503.2</td>\n",
       "      <td>639.1</td>\n",
       "      <td>400.60</td>\n",
       "    </tr>\n",
       "  </tbody>\n",
       "</table>\n",
       "</div>"
      ],
      "text/plain": [
       "   arlington  Ann Arbor  Cambridge\n",
       "0      406.3      707.9     900.12\n",
       "1      503.2      639.1     400.60"
      ]
     },
     "execution_count": 83,
     "metadata": {},
     "output_type": "execute_result"
    }
   ],
   "source": [
    "rainfall +100"
   ]
  }
 ],
 "metadata": {
  "kernelspec": {
   "display_name": "Python 3",
   "language": "python",
   "name": "python3"
  },
  "language_info": {
   "codemirror_mode": {
    "name": "ipython",
    "version": 3
   },
   "file_extension": ".py",
   "mimetype": "text/x-python",
   "name": "python",
   "nbconvert_exporter": "python",
   "pygments_lexer": "ipython3",
   "version": "3.11.4"
  }
 },
 "nbformat": 4,
 "nbformat_minor": 2
}
