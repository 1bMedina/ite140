{
 "cells": [
  {
   "cell_type": "markdown",
   "metadata": {},
   "source": [
    "\n",
    "<h1 style=\"font-family: tnr; text-align: center;\"> Ufunc &rarr; Sin</h1>\n",
    "<h3 style=\"font-family: tnr; text-align: center;\"> Blu Medina and Rachael Kinson</h3>\n",
    "\n",
    "<p style=\"font-family: tnr;\">Using the generator function integers, we were able to create a variable with one million rows and 10 columns.</p>\n",
    "<p style=\"font-family: tnr;\"> We learned that the size parameter can be a tuple</p>"
   ]
  },
  {
   "cell_type": "code",
   "execution_count": 31,
   "metadata": {},
   "outputs": [],
   "source": [
    "\n",
    "import numpy as np\n",
    "\n",
    "rng = np.random.default_rng()\n",
    "\n",
    "rng.random() \n",
    "\n",
    "rng.standard_normal(10) \n",
    "\n",
    "array = rng.integers(low=0, high=10, size=(1000000, 10))\n",
    "\n",
    "\n"
   ]
  },
  {
   "cell_type": "markdown",
   "metadata": {},
   "source": [
    "<p style=\"font-family: tnr;\">We then import math</p>"
   ]
  },
  {
   "cell_type": "code",
   "execution_count": 26,
   "metadata": {},
   "outputs": [],
   "source": [
    "\n",
    "import math\n"
   ]
  },
  {
   "cell_type": "markdown",
   "metadata": {},
   "source": [
    "<p style=\"font-family: tnr;\">Then we create a nested for loop, that makes one million rows and 10 columns.</p>\n",
    "<p style=\"font-family: tnr;\">We use <code>%%timeit</code> to track the time it takes this function to run</p>\n",
    "<p style=\"font-family: tnr;\">Then we use <code>math.sin</code> to find the sin of the array</p>"
   ]
  },
  {
   "cell_type": "code",
   "execution_count": 27,
   "metadata": {},
   "outputs": [
    {
     "name": "stdout",
     "output_type": "stream",
     "text": [
      "1.52 s ± 101 ms per loop (mean ± std. dev. of 7 runs, 1 loop each)\n"
     ]
    }
   ],
   "source": [
    "%%timeit\n",
    "\n",
    "for i in range(1000000):\n",
    "    for j in range(10):\n",
    "        array[i,j] = math.sin(array[i,j])"
   ]
  },
  {
   "cell_type": "markdown",
   "metadata": {},
   "source": [
    "<p style=\"font-family: tnr;\"> We then go on to import numpy</p>"
   ]
  },
  {
   "cell_type": "code",
   "execution_count": null,
   "metadata": {},
   "outputs": [],
   "source": [
    "import numpy as np"
   ]
  },
  {
   "cell_type": "markdown",
   "metadata": {},
   "source": [
    "<p style=\"font-family: tnr;\">Again, using <code>%%timeit</code>, we track how long the function takes to run</p>\n",
    "<p style=\"font-family: tnr;\">Using <code>np.sin</code> to calculate the sin of the array but faster</p>"
   ]
  },
  {
   "cell_type": "code",
   "execution_count": 30,
   "metadata": {},
   "outputs": [
    {
     "name": "stdout",
     "output_type": "stream",
     "text": [
      "26.8 ms ± 325 μs per loop (mean ± std. dev. of 7 runs, 10 loops each)\n"
     ]
    }
   ],
   "source": [
    "%%timeit\n",
    "\n",
    "np.sin(array)"
   ]
  },
  {
   "cell_type": "markdown",
   "metadata": {},
   "source": [
    "<p style=\"font-family: tnr;\">Finally after using the <code>%%timeit</code> were able to see that numpy runs the function over a second faster than traditional python. This shows us how much stronger Numpy really is. </p>"
   ]
  }
 ],
 "metadata": {
  "kernelspec": {
   "display_name": "Python 3",
   "language": "python",
   "name": "python3"
  },
  "language_info": {
   "codemirror_mode": {
    "name": "ipython",
    "version": 3
   },
   "file_extension": ".py",
   "mimetype": "text/x-python",
   "name": "python",
   "nbconvert_exporter": "python",
   "pygments_lexer": "ipython3",
   "version": "3.11.4"
  }
 },
 "nbformat": 4,
 "nbformat_minor": 2
}
